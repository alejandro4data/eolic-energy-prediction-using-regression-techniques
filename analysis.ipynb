{
 "cells": [
  {
   "cell_type": "markdown",
   "metadata": {},
   "source": [
    "Link al repositorio de GitHub: https://github.com/alejandrojimenezvalero/eolic_energy_prediction_sk_learn"
   ]
  },
  {
   "cell_type": "markdown",
   "metadata": {
    "id": "T-ptWnIyJg4z"
   },
   "source": [
    "# Primera práctica: modelos de regresión para predicción de la energía eólica"
   ]
  },
  {
   "cell_type": "code",
   "execution_count": 1,
   "metadata": {
    "executionInfo": {
     "elapsed": 2678,
     "status": "ok",
     "timestamp": 1712832638158,
     "user": {
      "displayName": "ALEJANDRO JIMENEZ VALERO",
      "userId": "12231720411414873476"
     },
     "user_tz": -120
    },
    "id": "lLykzkMH8YlP"
   },
   "outputs": [],
   "source": [
    "import pandas as pd\n",
    "import seaborn as sns\n",
    "import matplotlib.pyplot as plt\n",
    "import numpy as np"
   ]
  },
  {
   "cell_type": "code",
   "execution_count": 2,
   "metadata": {
    "colab": {
     "base_uri": "https://localhost:8080/",
     "height": 287
    },
    "executionInfo": {
     "elapsed": 225,
     "status": "error",
     "timestamp": 1712832809684,
     "user": {
      "displayName": "ALEJANDRO JIMENEZ VALERO",
      "userId": "12231720411414873476"
     },
     "user_tz": -120
    },
    "id": "mj5p55Sux7tG",
    "outputId": "c267281a-bf06-41c1-f6e7-bf6a91ab0203"
   },
   "outputs": [],
   "source": [
    "# Cargamos el fichero csv\n",
    "wind_ava = pd.read_csv('./wind_ava.csv.gz', compression='gzip')"
   ]
  },
  {
   "cell_type": "markdown",
   "metadata": {
    "id": "XyYZGwLOWJgk"
   },
   "source": [
    "# Primera aproximación al EDA"
   ]
  },
  {
   "cell_type": "code",
   "execution_count": 3,
   "metadata": {
    "colab": {
     "base_uri": "https://localhost:8080/",
     "height": 321
    },
    "executionInfo": {
     "elapsed": 771,
     "status": "error",
     "timestamp": 1712832361184,
     "user": {
      "displayName": "EDUARDO ALCONADA SOLA",
      "userId": "00409920475708315844"
     },
     "user_tz": -120
    },
    "id": "ClTkX26wGXTO",
    "outputId": "cc09fc74-1d22-41e2-918a-923fb6d97dcc"
   },
   "outputs": [],
   "source": [
    "# Hacemos índice la columna datetime\n",
    "wind_ava.set_index('datetime', inplace=True)"
   ]
  },
  {
   "cell_type": "code",
   "execution_count": 4,
   "metadata": {
    "colab": {
     "base_uri": "https://localhost:8080/",
     "height": 460
    },
    "executionInfo": {
     "elapsed": 4,
     "status": "ok",
     "timestamp": 1712829643313,
     "user": {
      "displayName": "EDUARDO ALCONADA SOLA",
      "userId": "00409920475708315844"
     },
     "user_tz": -120
    },
    "id": "ajzgXtqZB4jh",
    "outputId": "c1608841-16e0-4c2a-a2e5-785ecad1036a"
   },
   "outputs": [
    {
     "data": {
      "text/html": [
       "<div>\n",
       "<style scoped>\n",
       "    .dataframe tbody tr th:only-of-type {\n",
       "        vertical-align: middle;\n",
       "    }\n",
       "\n",
       "    .dataframe tbody tr th {\n",
       "        vertical-align: top;\n",
       "    }\n",
       "\n",
       "    .dataframe thead th {\n",
       "        text-align: right;\n",
       "    }\n",
       "</style>\n",
       "<table border=\"1\" class=\"dataframe\">\n",
       "  <thead>\n",
       "    <tr style=\"text-align: right;\">\n",
       "      <th></th>\n",
       "      <th>energy</th>\n",
       "      <th>p54.162.1</th>\n",
       "      <th>p54.162.2</th>\n",
       "      <th>p54.162.3</th>\n",
       "      <th>p54.162.4</th>\n",
       "      <th>p54.162.5</th>\n",
       "      <th>p54.162.6</th>\n",
       "      <th>p54.162.7</th>\n",
       "      <th>p54.162.8</th>\n",
       "      <th>p54.162.9</th>\n",
       "      <th>...</th>\n",
       "      <th>v100.16</th>\n",
       "      <th>v100.17</th>\n",
       "      <th>v100.18</th>\n",
       "      <th>v100.19</th>\n",
       "      <th>v100.20</th>\n",
       "      <th>v100.21</th>\n",
       "      <th>v100.22</th>\n",
       "      <th>v100.23</th>\n",
       "      <th>v100.24</th>\n",
       "      <th>v100.25</th>\n",
       "    </tr>\n",
       "    <tr>\n",
       "      <th>datetime</th>\n",
       "      <th></th>\n",
       "      <th></th>\n",
       "      <th></th>\n",
       "      <th></th>\n",
       "      <th></th>\n",
       "      <th></th>\n",
       "      <th></th>\n",
       "      <th></th>\n",
       "      <th></th>\n",
       "      <th></th>\n",
       "      <th></th>\n",
       "      <th></th>\n",
       "      <th></th>\n",
       "      <th></th>\n",
       "      <th></th>\n",
       "      <th></th>\n",
       "      <th></th>\n",
       "      <th></th>\n",
       "      <th></th>\n",
       "      <th></th>\n",
       "      <th></th>\n",
       "    </tr>\n",
       "  </thead>\n",
       "  <tbody>\n",
       "    <tr>\n",
       "      <th>2005-01-02 18:00:00</th>\n",
       "      <td>402.71</td>\n",
       "      <td>2.534970e+06</td>\n",
       "      <td>2.526864e+06</td>\n",
       "      <td>2.518754e+06</td>\n",
       "      <td>2.510648e+06</td>\n",
       "      <td>2.502537e+06</td>\n",
       "      <td>2.531111e+06</td>\n",
       "      <td>2.522721e+06</td>\n",
       "      <td>2.514330e+06</td>\n",
       "      <td>2.505940e+06</td>\n",
       "      <td>...</td>\n",
       "      <td>-4.683596</td>\n",
       "      <td>-4.545396</td>\n",
       "      <td>-4.407196</td>\n",
       "      <td>-4.268996</td>\n",
       "      <td>-4.131295</td>\n",
       "      <td>-4.669626</td>\n",
       "      <td>-4.528932</td>\n",
       "      <td>-4.388736</td>\n",
       "      <td>-4.248540</td>\n",
       "      <td>-4.107846</td>\n",
       "    </tr>\n",
       "    <tr>\n",
       "      <th>2005-01-03 00:00:00</th>\n",
       "      <td>696.80</td>\n",
       "      <td>2.537369e+06</td>\n",
       "      <td>2.529277e+06</td>\n",
       "      <td>2.521184e+06</td>\n",
       "      <td>2.513088e+06</td>\n",
       "      <td>2.504995e+06</td>\n",
       "      <td>2.533465e+06</td>\n",
       "      <td>2.525088e+06</td>\n",
       "      <td>2.516716e+06</td>\n",
       "      <td>2.508339e+06</td>\n",
       "      <td>...</td>\n",
       "      <td>-3.397886</td>\n",
       "      <td>-3.257192</td>\n",
       "      <td>-3.115998</td>\n",
       "      <td>-2.975304</td>\n",
       "      <td>-2.834609</td>\n",
       "      <td>-3.396390</td>\n",
       "      <td>-3.254198</td>\n",
       "      <td>-3.112506</td>\n",
       "      <td>-2.970314</td>\n",
       "      <td>-2.828622</td>\n",
       "    </tr>\n",
       "    <tr>\n",
       "      <th>2005-01-03 06:00:00</th>\n",
       "      <td>1591.15</td>\n",
       "      <td>2.533727e+06</td>\n",
       "      <td>2.525703e+06</td>\n",
       "      <td>2.517678e+06</td>\n",
       "      <td>2.509654e+06</td>\n",
       "      <td>2.501629e+06</td>\n",
       "      <td>2.529801e+06</td>\n",
       "      <td>2.521496e+06</td>\n",
       "      <td>2.513187e+06</td>\n",
       "      <td>2.504882e+06</td>\n",
       "      <td>...</td>\n",
       "      <td>-1.454105</td>\n",
       "      <td>-1.296447</td>\n",
       "      <td>-1.138290</td>\n",
       "      <td>-0.980134</td>\n",
       "      <td>-0.822476</td>\n",
       "      <td>-1.459094</td>\n",
       "      <td>-1.302933</td>\n",
       "      <td>-1.147271</td>\n",
       "      <td>-0.991110</td>\n",
       "      <td>-0.834949</td>\n",
       "    </tr>\n",
       "    <tr>\n",
       "      <th>2005-01-03 12:00:00</th>\n",
       "      <td>1338.62</td>\n",
       "      <td>2.534491e+06</td>\n",
       "      <td>2.526548e+06</td>\n",
       "      <td>2.518609e+06</td>\n",
       "      <td>2.510670e+06</td>\n",
       "      <td>2.502732e+06</td>\n",
       "      <td>2.530569e+06</td>\n",
       "      <td>2.522346e+06</td>\n",
       "      <td>2.514127e+06</td>\n",
       "      <td>2.505904e+06</td>\n",
       "      <td>...</td>\n",
       "      <td>1.255015</td>\n",
       "      <td>1.370265</td>\n",
       "      <td>1.485515</td>\n",
       "      <td>1.600765</td>\n",
       "      <td>1.716015</td>\n",
       "      <td>1.210612</td>\n",
       "      <td>1.319376</td>\n",
       "      <td>1.428140</td>\n",
       "      <td>1.536405</td>\n",
       "      <td>1.645169</td>\n",
       "    </tr>\n",
       "    <tr>\n",
       "      <th>2005-01-03 18:00:00</th>\n",
       "      <td>562.50</td>\n",
       "      <td>2.529543e+06</td>\n",
       "      <td>2.521623e+06</td>\n",
       "      <td>2.513702e+06</td>\n",
       "      <td>2.505782e+06</td>\n",
       "      <td>2.497861e+06</td>\n",
       "      <td>2.525621e+06</td>\n",
       "      <td>2.517421e+06</td>\n",
       "      <td>2.509215e+06</td>\n",
       "      <td>2.501015e+06</td>\n",
       "      <td>...</td>\n",
       "      <td>1.939031</td>\n",
       "      <td>2.023847</td>\n",
       "      <td>2.108663</td>\n",
       "      <td>2.193977</td>\n",
       "      <td>2.278793</td>\n",
       "      <td>1.873673</td>\n",
       "      <td>1.953000</td>\n",
       "      <td>2.031829</td>\n",
       "      <td>2.111157</td>\n",
       "      <td>2.189986</td>\n",
       "    </tr>\n",
       "  </tbody>\n",
       "</table>\n",
       "<p>5 rows × 551 columns</p>\n",
       "</div>"
      ],
      "text/plain": [
       "                      energy     p54.162.1     p54.162.2     p54.162.3  \\\n",
       "datetime                                                                 \n",
       "2005-01-02 18:00:00   402.71  2.534970e+06  2.526864e+06  2.518754e+06   \n",
       "2005-01-03 00:00:00   696.80  2.537369e+06  2.529277e+06  2.521184e+06   \n",
       "2005-01-03 06:00:00  1591.15  2.533727e+06  2.525703e+06  2.517678e+06   \n",
       "2005-01-03 12:00:00  1338.62  2.534491e+06  2.526548e+06  2.518609e+06   \n",
       "2005-01-03 18:00:00   562.50  2.529543e+06  2.521623e+06  2.513702e+06   \n",
       "\n",
       "                        p54.162.4     p54.162.5     p54.162.6     p54.162.7  \\\n",
       "datetime                                                                      \n",
       "2005-01-02 18:00:00  2.510648e+06  2.502537e+06  2.531111e+06  2.522721e+06   \n",
       "2005-01-03 00:00:00  2.513088e+06  2.504995e+06  2.533465e+06  2.525088e+06   \n",
       "2005-01-03 06:00:00  2.509654e+06  2.501629e+06  2.529801e+06  2.521496e+06   \n",
       "2005-01-03 12:00:00  2.510670e+06  2.502732e+06  2.530569e+06  2.522346e+06   \n",
       "2005-01-03 18:00:00  2.505782e+06  2.497861e+06  2.525621e+06  2.517421e+06   \n",
       "\n",
       "                        p54.162.8     p54.162.9  ...   v100.16   v100.17  \\\n",
       "datetime                                         ...                       \n",
       "2005-01-02 18:00:00  2.514330e+06  2.505940e+06  ... -4.683596 -4.545396   \n",
       "2005-01-03 00:00:00  2.516716e+06  2.508339e+06  ... -3.397886 -3.257192   \n",
       "2005-01-03 06:00:00  2.513187e+06  2.504882e+06  ... -1.454105 -1.296447   \n",
       "2005-01-03 12:00:00  2.514127e+06  2.505904e+06  ...  1.255015  1.370265   \n",
       "2005-01-03 18:00:00  2.509215e+06  2.501015e+06  ...  1.939031  2.023847   \n",
       "\n",
       "                      v100.18   v100.19   v100.20   v100.21   v100.22  \\\n",
       "datetime                                                                \n",
       "2005-01-02 18:00:00 -4.407196 -4.268996 -4.131295 -4.669626 -4.528932   \n",
       "2005-01-03 00:00:00 -3.115998 -2.975304 -2.834609 -3.396390 -3.254198   \n",
       "2005-01-03 06:00:00 -1.138290 -0.980134 -0.822476 -1.459094 -1.302933   \n",
       "2005-01-03 12:00:00  1.485515  1.600765  1.716015  1.210612  1.319376   \n",
       "2005-01-03 18:00:00  2.108663  2.193977  2.278793  1.873673  1.953000   \n",
       "\n",
       "                      v100.23   v100.24   v100.25  \n",
       "datetime                                           \n",
       "2005-01-02 18:00:00 -4.388736 -4.248540 -4.107846  \n",
       "2005-01-03 00:00:00 -3.112506 -2.970314 -2.828622  \n",
       "2005-01-03 06:00:00 -1.147271 -0.991110 -0.834949  \n",
       "2005-01-03 12:00:00  1.428140  1.536405  1.645169  \n",
       "2005-01-03 18:00:00  2.031829  2.111157  2.189986  \n",
       "\n",
       "[5 rows x 551 columns]"
      ]
     },
     "execution_count": 4,
     "metadata": {},
     "output_type": "execute_result"
    }
   ],
   "source": [
    "# Visualizamos las primeras 5 ocurrencias de los datos para entender los datos con los que estamos trabajando\n",
    "wind_ava.head()"
   ]
  },
  {
   "cell_type": "code",
   "execution_count": 5,
   "metadata": {
    "colab": {
     "base_uri": "https://localhost:8080/"
    },
    "executionInfo": {
     "elapsed": 2,
     "status": "ok",
     "timestamp": 1712829644458,
     "user": {
      "displayName": "EDUARDO ALCONADA SOLA",
      "userId": "00409920475708315844"
     },
     "user_tz": -120
    },
    "id": "pSOtTjEEUXn5",
    "outputId": "5d0808fa-481a-4087-bbf0-9a3c32af4a43"
   },
   "outputs": [
    {
     "data": {
      "text/plain": [
       "(4748, 551)"
      ]
     },
     "execution_count": 5,
     "metadata": {},
     "output_type": "execute_result"
    }
   ],
   "source": [
    "# Veamos la forma del conjunto de datos\n",
    "wind_ava.shape # devuelbe una tupla (filas,columnas) del dataset"
   ]
  },
  {
   "cell_type": "markdown",
   "metadata": {
    "id": "EHqyI01EOhdg"
   },
   "source": [
    "Como se puede ver, en la tabla se muestran los valores de las 22 variables meterolóigas para las 25 ubicaciones de la cuadrícula (5X5) lo que resulta en 22*25 = 550 más la variable fecha y la variable energía nos dan el total de 552 columnas del dataset.\n",
    "No obstante,  a nosotros solo nos interesan las variables meteorológicas de la localización de Sotavento, así como la variable energía"
   ]
  },
  {
   "cell_type": "code",
   "execution_count": 6,
   "metadata": {
    "id": "zzE4J8h4Nf3u"
   },
   "outputs": [],
   "source": [
    "# Hay que eliminar todas las variables meteorológicas que no correspondan a la localización de Sotavento (13)\n",
    "for c in wind_ava:\n",
    "\tif not c.endswith('.13') and c != 'energy':\n",
    "\t\twind_ava.drop(c, axis=1, inplace=True)"
   ]
  },
  {
   "cell_type": "code",
   "execution_count": 7,
   "metadata": {
    "colab": {
     "base_uri": "https://localhost:8080/"
    },
    "executionInfo": {
     "elapsed": 3,
     "status": "ok",
     "timestamp": 1712829648664,
     "user": {
      "displayName": "EDUARDO ALCONADA SOLA",
      "userId": "00409920475708315844"
     },
     "user_tz": -120
    },
    "id": "jDSLFALdOFiA",
    "outputId": "3f9b4e41-41cc-480c-a9c8-4e36ddd155d0"
   },
   "outputs": [
    {
     "data": {
      "text/plain": [
       "Index(['energy', 'p54.162.13', 'p55.162.13', 'cape.13', 'p59.162.13',\n",
       "       'lai_lv.13', 'lai_hv.13', 'u10n.13', 'v10n.13', 'sp.13', 'stl1.13',\n",
       "       'u10.13', 'v10.13', 't2m.13', 'stl2.13', 'stl3.13', 'iews.13',\n",
       "       'inss.13', 'stl4.13', 'fsr.13', 'flsr.13', 'u100.13', 'v100.13'],\n",
       "      dtype='object')"
      ]
     },
     "execution_count": 7,
     "metadata": {},
     "output_type": "execute_result"
    }
   ],
   "source": [
    "wind_ava.columns"
   ]
  },
  {
   "cell_type": "markdown",
   "metadata": {
    "id": "-4Tq4oRWPqLf"
   },
   "source": [
    "Ahora, que tenemos las features para la localización objetivo, debemos de observar analíticamente los datos"
   ]
  },
  {
   "cell_type": "code",
   "execution_count": 8,
   "metadata": {
    "colab": {
     "base_uri": "https://localhost:8080/"
    },
    "executionInfo": {
     "elapsed": 2,
     "status": "ok",
     "timestamp": 1712829648664,
     "user": {
      "displayName": "EDUARDO ALCONADA SOLA",
      "userId": "00409920475708315844"
     },
     "user_tz": -120
    },
    "id": "GJ8J4tvgPCjg",
    "outputId": "d1135514-6218-440f-9e30-7e97c2c4ec88"
   },
   "outputs": [
    {
     "name": "stdout",
     "output_type": "stream",
     "text": [
      "Número de instancias: 4748\n",
      "Número de características (sin tener en cuenta la variable explicada): 22\n"
     ]
    }
   ],
   "source": [
    "# Número de instancias\n",
    "print(\"Número de instancias:\",  wind_ava.shape[0])\n",
    "# Número de features\n",
    "print(\"Número de características (sin tener en cuenta la variable explicada):\",  wind_ava.shape[1]-1) # La columna de la variable a predecir no se puede contar ni la columna de datetime"
   ]
  },
  {
   "cell_type": "code",
   "execution_count": 9,
   "metadata": {
    "colab": {
     "base_uri": "https://localhost:8080/"
    },
    "executionInfo": {
     "elapsed": 2,
     "status": "ok",
     "timestamp": 1712829649032,
     "user": {
      "displayName": "EDUARDO ALCONADA SOLA",
      "userId": "00409920475708315844"
     },
     "user_tz": -120
    },
    "id": "WOtpIcEOQsTY",
    "outputId": "8400852d-7720-4769-abe6-6549d423c5f1"
   },
   "outputs": [
    {
     "name": "stdout",
     "output_type": "stream",
     "text": [
      "<class 'pandas.core.frame.DataFrame'>\n",
      "Index: 4748 entries, 2005-01-02 18:00:00 to 2009-12-31 18:00:00\n",
      "Data columns (total 23 columns):\n",
      " #   Column      Non-Null Count  Dtype  \n",
      "---  ------      --------------  -----  \n",
      " 0   energy      4748 non-null   float64\n",
      " 1   p54.162.13  4748 non-null   float64\n",
      " 2   p55.162.13  4748 non-null   float64\n",
      " 3   cape.13     4748 non-null   float64\n",
      " 4   p59.162.13  4748 non-null   float64\n",
      " 5   lai_lv.13   4748 non-null   float64\n",
      " 6   lai_hv.13   4748 non-null   float64\n",
      " 7   u10n.13     4748 non-null   float64\n",
      " 8   v10n.13     4748 non-null   float64\n",
      " 9   sp.13       4748 non-null   float64\n",
      " 10  stl1.13     4748 non-null   float64\n",
      " 11  u10.13      4748 non-null   float64\n",
      " 12  v10.13      4748 non-null   float64\n",
      " 13  t2m.13      4748 non-null   float64\n",
      " 14  stl2.13     4748 non-null   float64\n",
      " 15  stl3.13     4748 non-null   float64\n",
      " 16  iews.13     4748 non-null   float64\n",
      " 17  inss.13     4748 non-null   float64\n",
      " 18  stl4.13     4748 non-null   float64\n",
      " 19  fsr.13      4748 non-null   float64\n",
      " 20  flsr.13     4748 non-null   float64\n",
      " 21  u100.13     4748 non-null   float64\n",
      " 22  v100.13     4748 non-null   float64\n",
      "dtypes: float64(23)\n",
      "memory usage: 890.2+ KB\n"
     ]
    }
   ],
   "source": [
    "#Información a cerca de las características\n",
    "wind_ava.info()"
   ]
  },
  {
   "cell_type": "code",
   "execution_count": 10,
   "metadata": {
    "colab": {
     "base_uri": "https://localhost:8080/"
    },
    "executionInfo": {
     "elapsed": 2,
     "status": "ok",
     "timestamp": 1712829650318,
     "user": {
      "displayName": "EDUARDO ALCONADA SOLA",
      "userId": "00409920475708315844"
     },
     "user_tz": -120
    },
    "id": "8UTvL_jw7i28",
    "outputId": "4c4a1c1e-f594-43e4-928b-6cec6c153a2a"
   },
   "outputs": [
    {
     "data": {
      "text/plain": [
       "energy        0\n",
       "p54.162.13    0\n",
       "p55.162.13    0\n",
       "cape.13       0\n",
       "p59.162.13    0\n",
       "lai_lv.13     0\n",
       "lai_hv.13     0\n",
       "u10n.13       0\n",
       "v10n.13       0\n",
       "sp.13         0\n",
       "stl1.13       0\n",
       "u10.13        0\n",
       "v10.13        0\n",
       "t2m.13        0\n",
       "stl2.13       0\n",
       "stl3.13       0\n",
       "iews.13       0\n",
       "inss.13       0\n",
       "stl4.13       0\n",
       "fsr.13        0\n",
       "flsr.13       0\n",
       "u100.13       0\n",
       "v100.13       0\n",
       "dtype: int64"
      ]
     },
     "execution_count": 10,
     "metadata": {},
     "output_type": "execute_result"
    }
   ],
   "source": [
    "# Comprobar efectivamente los valores nulos por columna en el dataset\n",
    "wind_ava.isnull().sum()"
   ]
  },
  {
   "cell_type": "markdown",
   "metadata": {
    "id": "Ixbz1z8EQ1p_"
   },
   "source": [
    "Como pueden observarse, los tipos de las variables son *float64*, lo cual nos indica que todas las variables son de tipo numérico, incluida la variable respuesta. Asimismo, la información del dataset especifica que no hay valores faltantes para ninguna variable de entrada del modelo, así como para la variable respuesta.\n",
    "\n",
    "Para determinar si el problema es de regresión o clasificación, debemos analizar la naturaleza de la variable objetivo que estás tratando de predecir. En este caso, la variable a predecir es la energía.\n",
    "\n",
    "**Regresión**: Si la variable a predecir (energía en este caso) es una cantidad continua o un valor numérico, entonces el problema es de regresión. En la regresión, el objetivo es predecir un valor numérico.\n",
    "\n",
    "**Clasificación**: Si la variable a predecir es discreta y representa clases o categorías, entonces el problema es de clasificación. En la clasificación, el objetivo es predecir la clase a la que pertenece una instancia, por ejemplo, predecir si un correo electrónico es spam o no spam, predecir el tipo de flor basado en sus características, etc.\n",
    "\n",
    "Dado que la variable objetivo es la energía, y esta es una cantidad continua (como la potencia en vatios), entonces el problema es de ***regresión***."
   ]
  },
  {
   "cell_type": "code",
   "execution_count": 11,
   "metadata": {
    "colab": {
     "base_uri": "https://localhost:8080/"
    },
    "executionInfo": {
     "elapsed": 2,
     "status": "ok",
     "timestamp": 1712829652359,
     "user": {
      "displayName": "EDUARDO ALCONADA SOLA",
      "userId": "00409920475708315844"
     },
     "user_tz": -120
    },
    "id": "n4oXoeqkTHjn",
    "outputId": "a6a306da-ed15-4783-f24c-89e30b15f2d5"
   },
   "outputs": [
    {
     "name": "stdout",
     "output_type": "stream",
     "text": [
      "Columnas constantes: Index([], dtype='object')\n"
     ]
    }
   ],
   "source": [
    "# Para ver si hay columnas constantes en el dataset, es decir columnas con todos los valores iguales\n",
    "print(\"Columnas constantes:\", wind_ava.columns[wind_ava.nunique() == 1])"
   ]
  },
  {
   "cell_type": "markdown",
   "metadata": {
    "id": "Ez-fTA9vTmf-"
   },
   "source": [
    "Podemos ver que no hay columnas constantes en nuestro conjunto de datos.\n",
    "\n",
    "Asimismo, no existen columnas que no sean importantes para el problema en el conjunto de datos, puesto que todas las variables de entrada deberán ser consideradas a la hora de realizar la predicción, por lo que no eliminamos ninguna columna debido a que todas son importantes"
   ]
  },
  {
   "cell_type": "markdown",
   "metadata": {
    "id": "i48hrBAZV_l_"
   },
   "source": [
    "# EDA más avanzado"
   ]
  },
  {
   "cell_type": "code",
   "execution_count": 12,
   "metadata": {
    "colab": {
     "base_uri": "https://localhost:8080/",
     "height": 460
    },
    "executionInfo": {
     "elapsed": 475,
     "status": "ok",
     "timestamp": 1712829655279,
     "user": {
      "displayName": "EDUARDO ALCONADA SOLA",
      "userId": "00409920475708315844"
     },
     "user_tz": -120
    },
    "id": "HuVIAK4jWln0",
    "outputId": "ed2f8593-c92f-4b21-f0d6-76f4c25e06e8"
   },
   "outputs": [
    {
     "data": {
      "text/html": [
       "<div>\n",
       "<style scoped>\n",
       "    .dataframe tbody tr th:only-of-type {\n",
       "        vertical-align: middle;\n",
       "    }\n",
       "\n",
       "    .dataframe tbody tr th {\n",
       "        vertical-align: top;\n",
       "    }\n",
       "\n",
       "    .dataframe thead th {\n",
       "        text-align: right;\n",
       "    }\n",
       "</style>\n",
       "<table border=\"1\" class=\"dataframe\">\n",
       "  <thead>\n",
       "    <tr style=\"text-align: right;\">\n",
       "      <th></th>\n",
       "      <th>energy</th>\n",
       "      <th>p54.162.13</th>\n",
       "      <th>p55.162.13</th>\n",
       "      <th>cape.13</th>\n",
       "      <th>p59.162.13</th>\n",
       "      <th>lai_lv.13</th>\n",
       "      <th>lai_hv.13</th>\n",
       "      <th>u10n.13</th>\n",
       "      <th>v10n.13</th>\n",
       "      <th>sp.13</th>\n",
       "      <th>...</th>\n",
       "      <th>t2m.13</th>\n",
       "      <th>stl2.13</th>\n",
       "      <th>stl3.13</th>\n",
       "      <th>iews.13</th>\n",
       "      <th>inss.13</th>\n",
       "      <th>stl4.13</th>\n",
       "      <th>fsr.13</th>\n",
       "      <th>flsr.13</th>\n",
       "      <th>u100.13</th>\n",
       "      <th>v100.13</th>\n",
       "    </tr>\n",
       "    <tr>\n",
       "      <th>datetime</th>\n",
       "      <th></th>\n",
       "      <th></th>\n",
       "      <th></th>\n",
       "      <th></th>\n",
       "      <th></th>\n",
       "      <th></th>\n",
       "      <th></th>\n",
       "      <th></th>\n",
       "      <th></th>\n",
       "      <th></th>\n",
       "      <th></th>\n",
       "      <th></th>\n",
       "      <th></th>\n",
       "      <th></th>\n",
       "      <th></th>\n",
       "      <th></th>\n",
       "      <th></th>\n",
       "      <th></th>\n",
       "      <th></th>\n",
       "      <th></th>\n",
       "      <th></th>\n",
       "    </tr>\n",
       "  </thead>\n",
       "  <tbody>\n",
       "    <tr>\n",
       "      <th>2005-01-02 18:00:00</th>\n",
       "      <td>402.71</td>\n",
       "      <td>2.510824e+06</td>\n",
       "      <td>9.186295</td>\n",
       "      <td>13.527577</td>\n",
       "      <td>1.386937e+06</td>\n",
       "      <td>2.344111</td>\n",
       "      <td>2.432983</td>\n",
       "      <td>-0.757587</td>\n",
       "      <td>-1.922799</td>\n",
       "      <td>99846.319914</td>\n",
       "      <td>...</td>\n",
       "      <td>280.473098</td>\n",
       "      <td>281.042026</td>\n",
       "      <td>281.462478</td>\n",
       "      <td>-0.057958</td>\n",
       "      <td>-0.138650</td>\n",
       "      <td>284.684755</td>\n",
       "      <td>0.404731</td>\n",
       "      <td>-5.927092</td>\n",
       "      <td>-1.780562</td>\n",
       "      <td>-4.443617</td>\n",
       "    </tr>\n",
       "    <tr>\n",
       "      <th>2005-01-03 00:00:00</th>\n",
       "      <td>696.80</td>\n",
       "      <td>2.513173e+06</td>\n",
       "      <td>8.849569</td>\n",
       "      <td>6.896412</td>\n",
       "      <td>1.153526e+06</td>\n",
       "      <td>2.343719</td>\n",
       "      <td>2.432838</td>\n",
       "      <td>-1.412620</td>\n",
       "      <td>-1.403011</td>\n",
       "      <td>99917.733093</td>\n",
       "      <td>...</td>\n",
       "      <td>278.286616</td>\n",
       "      <td>280.747406</td>\n",
       "      <td>281.486541</td>\n",
       "      <td>-0.103576</td>\n",
       "      <td>-0.083050</td>\n",
       "      <td>284.667948</td>\n",
       "      <td>0.404920</td>\n",
       "      <td>-5.913881</td>\n",
       "      <td>-3.743344</td>\n",
       "      <td>-3.129469</td>\n",
       "    </tr>\n",
       "    <tr>\n",
       "      <th>2005-01-03 06:00:00</th>\n",
       "      <td>1591.15</td>\n",
       "      <td>2.509627e+06</td>\n",
       "      <td>7.924080</td>\n",
       "      <td>4.774439</td>\n",
       "      <td>1.098754e+06</td>\n",
       "      <td>2.343300</td>\n",
       "      <td>2.432704</td>\n",
       "      <td>-2.290185</td>\n",
       "      <td>-0.754580</td>\n",
       "      <td>99764.378681</td>\n",
       "      <td>...</td>\n",
       "      <td>277.206490</td>\n",
       "      <td>280.114863</td>\n",
       "      <td>281.487095</td>\n",
       "      <td>-0.165721</td>\n",
       "      <td>-0.036241</td>\n",
       "      <td>284.651914</td>\n",
       "      <td>0.405704</td>\n",
       "      <td>-5.908272</td>\n",
       "      <td>-5.097203</td>\n",
       "      <td>-1.157748</td>\n",
       "    </tr>\n",
       "    <tr>\n",
       "      <th>2005-01-03 12:00:00</th>\n",
       "      <td>1338.62</td>\n",
       "      <td>2.510571e+06</td>\n",
       "      <td>6.922709</td>\n",
       "      <td>0.000000</td>\n",
       "      <td>1.076021e+06</td>\n",
       "      <td>2.342830</td>\n",
       "      <td>2.432514</td>\n",
       "      <td>-3.497855</td>\n",
       "      <td>1.271028</td>\n",
       "      <td>99672.670459</td>\n",
       "      <td>...</td>\n",
       "      <td>280.926600</td>\n",
       "      <td>279.991138</td>\n",
       "      <td>281.472435</td>\n",
       "      <td>-0.275550</td>\n",
       "      <td>0.098192</td>\n",
       "      <td>284.636266</td>\n",
       "      <td>0.403967</td>\n",
       "      <td>-5.961995</td>\n",
       "      <td>-4.500835</td>\n",
       "      <td>1.502478</td>\n",
       "    </tr>\n",
       "    <tr>\n",
       "      <th>2005-01-03 18:00:00</th>\n",
       "      <td>562.50</td>\n",
       "      <td>2.505664e+06</td>\n",
       "      <td>6.646282</td>\n",
       "      <td>0.000000</td>\n",
       "      <td>1.070830e+06</td>\n",
       "      <td>2.342437</td>\n",
       "      <td>2.432369</td>\n",
       "      <td>-0.971249</td>\n",
       "      <td>0.553060</td>\n",
       "      <td>99372.811211</td>\n",
       "      <td>...</td>\n",
       "      <td>277.363875</td>\n",
       "      <td>280.576898</td>\n",
       "      <td>281.473265</td>\n",
       "      <td>-0.056553</td>\n",
       "      <td>0.041844</td>\n",
       "      <td>284.620232</td>\n",
       "      <td>0.403808</td>\n",
       "      <td>-5.987860</td>\n",
       "      <td>-3.392324</td>\n",
       "      <td>2.131114</td>\n",
       "    </tr>\n",
       "  </tbody>\n",
       "</table>\n",
       "<p>5 rows × 23 columns</p>\n",
       "</div>"
      ],
      "text/plain": [
       "                      energy    p54.162.13  p55.162.13    cape.13  \\\n",
       "datetime                                                            \n",
       "2005-01-02 18:00:00   402.71  2.510824e+06    9.186295  13.527577   \n",
       "2005-01-03 00:00:00   696.80  2.513173e+06    8.849569   6.896412   \n",
       "2005-01-03 06:00:00  1591.15  2.509627e+06    7.924080   4.774439   \n",
       "2005-01-03 12:00:00  1338.62  2.510571e+06    6.922709   0.000000   \n",
       "2005-01-03 18:00:00   562.50  2.505664e+06    6.646282   0.000000   \n",
       "\n",
       "                       p59.162.13  lai_lv.13  lai_hv.13   u10n.13   v10n.13  \\\n",
       "datetime                                                                      \n",
       "2005-01-02 18:00:00  1.386937e+06   2.344111   2.432983 -0.757587 -1.922799   \n",
       "2005-01-03 00:00:00  1.153526e+06   2.343719   2.432838 -1.412620 -1.403011   \n",
       "2005-01-03 06:00:00  1.098754e+06   2.343300   2.432704 -2.290185 -0.754580   \n",
       "2005-01-03 12:00:00  1.076021e+06   2.342830   2.432514 -3.497855  1.271028   \n",
       "2005-01-03 18:00:00  1.070830e+06   2.342437   2.432369 -0.971249  0.553060   \n",
       "\n",
       "                            sp.13  ...      t2m.13     stl2.13     stl3.13  \\\n",
       "datetime                           ...                                       \n",
       "2005-01-02 18:00:00  99846.319914  ...  280.473098  281.042026  281.462478   \n",
       "2005-01-03 00:00:00  99917.733093  ...  278.286616  280.747406  281.486541   \n",
       "2005-01-03 06:00:00  99764.378681  ...  277.206490  280.114863  281.487095   \n",
       "2005-01-03 12:00:00  99672.670459  ...  280.926600  279.991138  281.472435   \n",
       "2005-01-03 18:00:00  99372.811211  ...  277.363875  280.576898  281.473265   \n",
       "\n",
       "                      iews.13   inss.13     stl4.13    fsr.13   flsr.13  \\\n",
       "datetime                                                                  \n",
       "2005-01-02 18:00:00 -0.057958 -0.138650  284.684755  0.404731 -5.927092   \n",
       "2005-01-03 00:00:00 -0.103576 -0.083050  284.667948  0.404920 -5.913881   \n",
       "2005-01-03 06:00:00 -0.165721 -0.036241  284.651914  0.405704 -5.908272   \n",
       "2005-01-03 12:00:00 -0.275550  0.098192  284.636266  0.403967 -5.961995   \n",
       "2005-01-03 18:00:00 -0.056553  0.041844  284.620232  0.403808 -5.987860   \n",
       "\n",
       "                      u100.13   v100.13  \n",
       "datetime                                 \n",
       "2005-01-02 18:00:00 -1.780562 -4.443617  \n",
       "2005-01-03 00:00:00 -3.743344 -3.129469  \n",
       "2005-01-03 06:00:00 -5.097203 -1.157748  \n",
       "2005-01-03 12:00:00 -4.500835  1.502478  \n",
       "2005-01-03 18:00:00 -3.392324  2.131114  \n",
       "\n",
       "[5 rows x 23 columns]"
      ]
     },
     "execution_count": 12,
     "metadata": {},
     "output_type": "execute_result"
    }
   ],
   "source": [
    "wind_ava.head()"
   ]
  },
  {
   "cell_type": "markdown",
   "metadata": {
    "id": "haDToKD8Ydi3"
   },
   "source": [
    "Viendo los datos, es fácil darse cuenta que algunas columnas están en notación científica y otras no, pero esto es una cuestión de visualización de los datos de pandas. Además, los datos toman decimales y a simple vista parece que todos guardan seis decimales, pero no cuesta nada hacer un ejercicio de ***estandarización*** del conjunto de datos para asegurarnos que todos los datos tengan los mismo decimales. Asumimos que la precisión para estos modelos será muy importante por lo que dejamos los 6 decimales"
   ]
  },
  {
   "cell_type": "code",
   "execution_count": 13,
   "metadata": {
    "colab": {
     "base_uri": "https://localhost:8080/",
     "height": 822
    },
    "executionInfo": {
     "elapsed": 3,
     "status": "ok",
     "timestamp": 1712829657045,
     "user": {
      "displayName": "EDUARDO ALCONADA SOLA",
      "userId": "00409920475708315844"
     },
     "user_tz": -120
    },
    "id": "4HmcIT0IZOCw",
    "outputId": "dcb42733-6e47-4816-e643-73bb444d5324"
   },
   "outputs": [
    {
     "data": {
      "text/html": [
       "<div>\n",
       "<style scoped>\n",
       "    .dataframe tbody tr th:only-of-type {\n",
       "        vertical-align: middle;\n",
       "    }\n",
       "\n",
       "    .dataframe tbody tr th {\n",
       "        vertical-align: top;\n",
       "    }\n",
       "\n",
       "    .dataframe thead th {\n",
       "        text-align: right;\n",
       "    }\n",
       "</style>\n",
       "<table border=\"1\" class=\"dataframe\">\n",
       "  <thead>\n",
       "    <tr style=\"text-align: right;\">\n",
       "      <th></th>\n",
       "      <th>energy</th>\n",
       "      <th>p54.162.13</th>\n",
       "      <th>p55.162.13</th>\n",
       "      <th>cape.13</th>\n",
       "      <th>p59.162.13</th>\n",
       "      <th>lai_lv.13</th>\n",
       "      <th>lai_hv.13</th>\n",
       "      <th>u10n.13</th>\n",
       "      <th>v10n.13</th>\n",
       "      <th>sp.13</th>\n",
       "      <th>...</th>\n",
       "      <th>t2m.13</th>\n",
       "      <th>stl2.13</th>\n",
       "      <th>stl3.13</th>\n",
       "      <th>iews.13</th>\n",
       "      <th>inss.13</th>\n",
       "      <th>stl4.13</th>\n",
       "      <th>fsr.13</th>\n",
       "      <th>flsr.13</th>\n",
       "      <th>u100.13</th>\n",
       "      <th>v100.13</th>\n",
       "    </tr>\n",
       "    <tr>\n",
       "      <th>datetime</th>\n",
       "      <th></th>\n",
       "      <th></th>\n",
       "      <th></th>\n",
       "      <th></th>\n",
       "      <th></th>\n",
       "      <th></th>\n",
       "      <th></th>\n",
       "      <th></th>\n",
       "      <th></th>\n",
       "      <th></th>\n",
       "      <th></th>\n",
       "      <th></th>\n",
       "      <th></th>\n",
       "      <th></th>\n",
       "      <th></th>\n",
       "      <th></th>\n",
       "      <th></th>\n",
       "      <th></th>\n",
       "      <th></th>\n",
       "      <th></th>\n",
       "      <th></th>\n",
       "    </tr>\n",
       "  </thead>\n",
       "  <tbody>\n",
       "    <tr>\n",
       "      <th>2005-01-02 18:00:00</th>\n",
       "      <td>402.71</td>\n",
       "      <td>2.510824e+06</td>\n",
       "      <td>9.186295</td>\n",
       "      <td>13.527577</td>\n",
       "      <td>1.386937e+06</td>\n",
       "      <td>2.344111</td>\n",
       "      <td>2.432983</td>\n",
       "      <td>-0.757587</td>\n",
       "      <td>-1.922799</td>\n",
       "      <td>99846.319914</td>\n",
       "      <td>...</td>\n",
       "      <td>280.473098</td>\n",
       "      <td>281.042026</td>\n",
       "      <td>281.462478</td>\n",
       "      <td>-0.057958</td>\n",
       "      <td>-0.138650</td>\n",
       "      <td>284.684755</td>\n",
       "      <td>0.404731</td>\n",
       "      <td>-5.927092</td>\n",
       "      <td>-1.780562</td>\n",
       "      <td>-4.443617</td>\n",
       "    </tr>\n",
       "    <tr>\n",
       "      <th>2005-01-03 00:00:00</th>\n",
       "      <td>696.80</td>\n",
       "      <td>2.513173e+06</td>\n",
       "      <td>8.849569</td>\n",
       "      <td>6.896412</td>\n",
       "      <td>1.153526e+06</td>\n",
       "      <td>2.343719</td>\n",
       "      <td>2.432838</td>\n",
       "      <td>-1.412620</td>\n",
       "      <td>-1.403011</td>\n",
       "      <td>99917.733093</td>\n",
       "      <td>...</td>\n",
       "      <td>278.286616</td>\n",
       "      <td>280.747406</td>\n",
       "      <td>281.486541</td>\n",
       "      <td>-0.103576</td>\n",
       "      <td>-0.083050</td>\n",
       "      <td>284.667948</td>\n",
       "      <td>0.404920</td>\n",
       "      <td>-5.913881</td>\n",
       "      <td>-3.743344</td>\n",
       "      <td>-3.129469</td>\n",
       "    </tr>\n",
       "    <tr>\n",
       "      <th>2005-01-03 06:00:00</th>\n",
       "      <td>1591.15</td>\n",
       "      <td>2.509627e+06</td>\n",
       "      <td>7.924080</td>\n",
       "      <td>4.774439</td>\n",
       "      <td>1.098754e+06</td>\n",
       "      <td>2.343300</td>\n",
       "      <td>2.432704</td>\n",
       "      <td>-2.290185</td>\n",
       "      <td>-0.754580</td>\n",
       "      <td>99764.378681</td>\n",
       "      <td>...</td>\n",
       "      <td>277.206490</td>\n",
       "      <td>280.114863</td>\n",
       "      <td>281.487095</td>\n",
       "      <td>-0.165721</td>\n",
       "      <td>-0.036241</td>\n",
       "      <td>284.651914</td>\n",
       "      <td>0.405704</td>\n",
       "      <td>-5.908272</td>\n",
       "      <td>-5.097203</td>\n",
       "      <td>-1.157748</td>\n",
       "    </tr>\n",
       "    <tr>\n",
       "      <th>2005-01-03 12:00:00</th>\n",
       "      <td>1338.62</td>\n",
       "      <td>2.510571e+06</td>\n",
       "      <td>6.922709</td>\n",
       "      <td>0.000000</td>\n",
       "      <td>1.076021e+06</td>\n",
       "      <td>2.342830</td>\n",
       "      <td>2.432514</td>\n",
       "      <td>-3.497855</td>\n",
       "      <td>1.271028</td>\n",
       "      <td>99672.670459</td>\n",
       "      <td>...</td>\n",
       "      <td>280.926600</td>\n",
       "      <td>279.991138</td>\n",
       "      <td>281.472435</td>\n",
       "      <td>-0.275550</td>\n",
       "      <td>0.098192</td>\n",
       "      <td>284.636266</td>\n",
       "      <td>0.403967</td>\n",
       "      <td>-5.961995</td>\n",
       "      <td>-4.500835</td>\n",
       "      <td>1.502478</td>\n",
       "    </tr>\n",
       "    <tr>\n",
       "      <th>2005-01-03 18:00:00</th>\n",
       "      <td>562.50</td>\n",
       "      <td>2.505664e+06</td>\n",
       "      <td>6.646282</td>\n",
       "      <td>0.000000</td>\n",
       "      <td>1.070830e+06</td>\n",
       "      <td>2.342437</td>\n",
       "      <td>2.432369</td>\n",
       "      <td>-0.971249</td>\n",
       "      <td>0.553060</td>\n",
       "      <td>99372.811211</td>\n",
       "      <td>...</td>\n",
       "      <td>277.363875</td>\n",
       "      <td>280.576898</td>\n",
       "      <td>281.473265</td>\n",
       "      <td>-0.056553</td>\n",
       "      <td>0.041844</td>\n",
       "      <td>284.620232</td>\n",
       "      <td>0.403808</td>\n",
       "      <td>-5.987860</td>\n",
       "      <td>-3.392324</td>\n",
       "      <td>2.131114</td>\n",
       "    </tr>\n",
       "    <tr>\n",
       "      <th>...</th>\n",
       "      <td>...</td>\n",
       "      <td>...</td>\n",
       "      <td>...</td>\n",
       "      <td>...</td>\n",
       "      <td>...</td>\n",
       "      <td>...</td>\n",
       "      <td>...</td>\n",
       "      <td>...</td>\n",
       "      <td>...</td>\n",
       "      <td>...</td>\n",
       "      <td>...</td>\n",
       "      <td>...</td>\n",
       "      <td>...</td>\n",
       "      <td>...</td>\n",
       "      <td>...</td>\n",
       "      <td>...</td>\n",
       "      <td>...</td>\n",
       "      <td>...</td>\n",
       "      <td>...</td>\n",
       "      <td>...</td>\n",
       "      <td>...</td>\n",
       "    </tr>\n",
       "    <tr>\n",
       "      <th>2009-12-30 06:00:00</th>\n",
       "      <td>1280.13</td>\n",
       "      <td>2.385772e+06</td>\n",
       "      <td>14.413342</td>\n",
       "      <td>24.971074</td>\n",
       "      <td>3.905586e+06</td>\n",
       "      <td>2.349839</td>\n",
       "      <td>2.434994</td>\n",
       "      <td>4.595786</td>\n",
       "      <td>5.563189</td>\n",
       "      <td>95460.434452</td>\n",
       "      <td>...</td>\n",
       "      <td>280.731326</td>\n",
       "      <td>282.643490</td>\n",
       "      <td>281.676560</td>\n",
       "      <td>0.628948</td>\n",
       "      <td>0.879581</td>\n",
       "      <td>286.013271</td>\n",
       "      <td>0.424510</td>\n",
       "      <td>-5.715421</td>\n",
       "      <td>6.922743</td>\n",
       "      <td>9.179816</td>\n",
       "    </tr>\n",
       "    <tr>\n",
       "      <th>2009-12-30 12:00:00</th>\n",
       "      <td>855.00</td>\n",
       "      <td>2.385708e+06</td>\n",
       "      <td>12.802883</td>\n",
       "      <td>60.248874</td>\n",
       "      <td>2.745694e+06</td>\n",
       "      <td>2.349446</td>\n",
       "      <td>2.434849</td>\n",
       "      <td>4.894838</td>\n",
       "      <td>5.577096</td>\n",
       "      <td>95663.765406</td>\n",
       "      <td>...</td>\n",
       "      <td>283.310687</td>\n",
       "      <td>282.370909</td>\n",
       "      <td>281.761750</td>\n",
       "      <td>0.740926</td>\n",
       "      <td>0.699769</td>\n",
       "      <td>285.988737</td>\n",
       "      <td>0.424762</td>\n",
       "      <td>-5.732455</td>\n",
       "      <td>7.434887</td>\n",
       "      <td>7.537381</td>\n",
       "    </tr>\n",
       "    <tr>\n",
       "      <th>2009-12-30 18:00:00</th>\n",
       "      <td>117.06</td>\n",
       "      <td>2.379049e+06</td>\n",
       "      <td>10.915997</td>\n",
       "      <td>3.145067</td>\n",
       "      <td>2.254171e+06</td>\n",
       "      <td>2.349054</td>\n",
       "      <td>2.434715</td>\n",
       "      <td>0.958361</td>\n",
       "      <td>0.948029</td>\n",
       "      <td>95653.110509</td>\n",
       "      <td>...</td>\n",
       "      <td>281.060085</td>\n",
       "      <td>282.425812</td>\n",
       "      <td>281.841961</td>\n",
       "      <td>0.109802</td>\n",
       "      <td>0.125174</td>\n",
       "      <td>285.968452</td>\n",
       "      <td>0.415132</td>\n",
       "      <td>-5.866856</td>\n",
       "      <td>3.033799</td>\n",
       "      <td>3.568993</td>\n",
       "    </tr>\n",
       "    <tr>\n",
       "      <th>2009-12-31 12:00:00</th>\n",
       "      <td>516.96</td>\n",
       "      <td>2.371697e+06</td>\n",
       "      <td>13.048144</td>\n",
       "      <td>12.580268</td>\n",
       "      <td>1.376913e+06</td>\n",
       "      <td>2.347799</td>\n",
       "      <td>2.434291</td>\n",
       "      <td>5.278912</td>\n",
       "      <td>0.771754</td>\n",
       "      <td>95534.765044</td>\n",
       "      <td>...</td>\n",
       "      <td>279.662858</td>\n",
       "      <td>281.153379</td>\n",
       "      <td>281.976385</td>\n",
       "      <td>0.705886</td>\n",
       "      <td>0.192834</td>\n",
       "      <td>285.904895</td>\n",
       "      <td>0.426707</td>\n",
       "      <td>-5.693542</td>\n",
       "      <td>8.374951</td>\n",
       "      <td>2.219422</td>\n",
       "    </tr>\n",
       "    <tr>\n",
       "      <th>2009-12-31 18:00:00</th>\n",
       "      <td>867.07</td>\n",
       "      <td>2.369547e+06</td>\n",
       "      <td>9.172745</td>\n",
       "      <td>8.487892</td>\n",
       "      <td>1.356687e+06</td>\n",
       "      <td>2.347406</td>\n",
       "      <td>2.434145</td>\n",
       "      <td>4.578042</td>\n",
       "      <td>1.295018</td>\n",
       "      <td>95866.081608</td>\n",
       "      <td>...</td>\n",
       "      <td>277.552154</td>\n",
       "      <td>281.046666</td>\n",
       "      <td>281.997129</td>\n",
       "      <td>0.460114</td>\n",
       "      <td>0.160810</td>\n",
       "      <td>285.884804</td>\n",
       "      <td>0.426651</td>\n",
       "      <td>-5.699429</td>\n",
       "      <td>7.103223</td>\n",
       "      <td>1.883651</td>\n",
       "    </tr>\n",
       "  </tbody>\n",
       "</table>\n",
       "<p>4748 rows × 23 columns</p>\n",
       "</div>"
      ],
      "text/plain": [
       "                      energy    p54.162.13  p55.162.13    cape.13  \\\n",
       "datetime                                                            \n",
       "2005-01-02 18:00:00   402.71  2.510824e+06    9.186295  13.527577   \n",
       "2005-01-03 00:00:00   696.80  2.513173e+06    8.849569   6.896412   \n",
       "2005-01-03 06:00:00  1591.15  2.509627e+06    7.924080   4.774439   \n",
       "2005-01-03 12:00:00  1338.62  2.510571e+06    6.922709   0.000000   \n",
       "2005-01-03 18:00:00   562.50  2.505664e+06    6.646282   0.000000   \n",
       "...                      ...           ...         ...        ...   \n",
       "2009-12-30 06:00:00  1280.13  2.385772e+06   14.413342  24.971074   \n",
       "2009-12-30 12:00:00   855.00  2.385708e+06   12.802883  60.248874   \n",
       "2009-12-30 18:00:00   117.06  2.379049e+06   10.915997   3.145067   \n",
       "2009-12-31 12:00:00   516.96  2.371697e+06   13.048144  12.580268   \n",
       "2009-12-31 18:00:00   867.07  2.369547e+06    9.172745   8.487892   \n",
       "\n",
       "                       p59.162.13  lai_lv.13  lai_hv.13   u10n.13   v10n.13  \\\n",
       "datetime                                                                      \n",
       "2005-01-02 18:00:00  1.386937e+06   2.344111   2.432983 -0.757587 -1.922799   \n",
       "2005-01-03 00:00:00  1.153526e+06   2.343719   2.432838 -1.412620 -1.403011   \n",
       "2005-01-03 06:00:00  1.098754e+06   2.343300   2.432704 -2.290185 -0.754580   \n",
       "2005-01-03 12:00:00  1.076021e+06   2.342830   2.432514 -3.497855  1.271028   \n",
       "2005-01-03 18:00:00  1.070830e+06   2.342437   2.432369 -0.971249  0.553060   \n",
       "...                           ...        ...        ...       ...       ...   \n",
       "2009-12-30 06:00:00  3.905586e+06   2.349839   2.434994  4.595786  5.563189   \n",
       "2009-12-30 12:00:00  2.745694e+06   2.349446   2.434849  4.894838  5.577096   \n",
       "2009-12-30 18:00:00  2.254171e+06   2.349054   2.434715  0.958361  0.948029   \n",
       "2009-12-31 12:00:00  1.376913e+06   2.347799   2.434291  5.278912  0.771754   \n",
       "2009-12-31 18:00:00  1.356687e+06   2.347406   2.434145  4.578042  1.295018   \n",
       "\n",
       "                            sp.13  ...      t2m.13     stl2.13     stl3.13  \\\n",
       "datetime                           ...                                       \n",
       "2005-01-02 18:00:00  99846.319914  ...  280.473098  281.042026  281.462478   \n",
       "2005-01-03 00:00:00  99917.733093  ...  278.286616  280.747406  281.486541   \n",
       "2005-01-03 06:00:00  99764.378681  ...  277.206490  280.114863  281.487095   \n",
       "2005-01-03 12:00:00  99672.670459  ...  280.926600  279.991138  281.472435   \n",
       "2005-01-03 18:00:00  99372.811211  ...  277.363875  280.576898  281.473265   \n",
       "...                           ...  ...         ...         ...         ...   \n",
       "2009-12-30 06:00:00  95460.434452  ...  280.731326  282.643490  281.676560   \n",
       "2009-12-30 12:00:00  95663.765406  ...  283.310687  282.370909  281.761750   \n",
       "2009-12-30 18:00:00  95653.110509  ...  281.060085  282.425812  281.841961   \n",
       "2009-12-31 12:00:00  95534.765044  ...  279.662858  281.153379  281.976385   \n",
       "2009-12-31 18:00:00  95866.081608  ...  277.552154  281.046666  281.997129   \n",
       "\n",
       "                      iews.13   inss.13     stl4.13    fsr.13   flsr.13  \\\n",
       "datetime                                                                  \n",
       "2005-01-02 18:00:00 -0.057958 -0.138650  284.684755  0.404731 -5.927092   \n",
       "2005-01-03 00:00:00 -0.103576 -0.083050  284.667948  0.404920 -5.913881   \n",
       "2005-01-03 06:00:00 -0.165721 -0.036241  284.651914  0.405704 -5.908272   \n",
       "2005-01-03 12:00:00 -0.275550  0.098192  284.636266  0.403967 -5.961995   \n",
       "2005-01-03 18:00:00 -0.056553  0.041844  284.620232  0.403808 -5.987860   \n",
       "...                       ...       ...         ...       ...       ...   \n",
       "2009-12-30 06:00:00  0.628948  0.879581  286.013271  0.424510 -5.715421   \n",
       "2009-12-30 12:00:00  0.740926  0.699769  285.988737  0.424762 -5.732455   \n",
       "2009-12-30 18:00:00  0.109802  0.125174  285.968452  0.415132 -5.866856   \n",
       "2009-12-31 12:00:00  0.705886  0.192834  285.904895  0.426707 -5.693542   \n",
       "2009-12-31 18:00:00  0.460114  0.160810  285.884804  0.426651 -5.699429   \n",
       "\n",
       "                      u100.13   v100.13  \n",
       "datetime                                 \n",
       "2005-01-02 18:00:00 -1.780562 -4.443617  \n",
       "2005-01-03 00:00:00 -3.743344 -3.129469  \n",
       "2005-01-03 06:00:00 -5.097203 -1.157748  \n",
       "2005-01-03 12:00:00 -4.500835  1.502478  \n",
       "2005-01-03 18:00:00 -3.392324  2.131114  \n",
       "...                       ...       ...  \n",
       "2009-12-30 06:00:00  6.922743  9.179816  \n",
       "2009-12-30 12:00:00  7.434887  7.537381  \n",
       "2009-12-30 18:00:00  3.033799  3.568993  \n",
       "2009-12-31 12:00:00  8.374951  2.219422  \n",
       "2009-12-31 18:00:00  7.103223  1.883651  \n",
       "\n",
       "[4748 rows x 23 columns]"
      ]
     },
     "execution_count": 13,
     "metadata": {},
     "output_type": "execute_result"
    }
   ],
   "source": [
    "wind_ava.round(6)"
   ]
  },
  {
   "cell_type": "code",
   "execution_count": 14,
   "metadata": {
    "colab": {
     "base_uri": "https://localhost:8080/",
     "height": 350
    },
    "executionInfo": {
     "elapsed": 385,
     "status": "ok",
     "timestamp": 1712829659482,
     "user": {
      "displayName": "EDUARDO ALCONADA SOLA",
      "userId": "00409920475708315844"
     },
     "user_tz": -120
    },
    "id": "nTjjgL-2YN5b",
    "outputId": "afa3ee81-b514-4196-db95-2edddd6e6add"
   },
   "outputs": [
    {
     "data": {
      "text/html": [
       "<div>\n",
       "<style scoped>\n",
       "    .dataframe tbody tr th:only-of-type {\n",
       "        vertical-align: middle;\n",
       "    }\n",
       "\n",
       "    .dataframe tbody tr th {\n",
       "        vertical-align: top;\n",
       "    }\n",
       "\n",
       "    .dataframe thead th {\n",
       "        text-align: right;\n",
       "    }\n",
       "</style>\n",
       "<table border=\"1\" class=\"dataframe\">\n",
       "  <thead>\n",
       "    <tr style=\"text-align: right;\">\n",
       "      <th></th>\n",
       "      <th>energy</th>\n",
       "      <th>p54.162.13</th>\n",
       "      <th>p55.162.13</th>\n",
       "      <th>cape.13</th>\n",
       "      <th>p59.162.13</th>\n",
       "      <th>lai_lv.13</th>\n",
       "      <th>lai_hv.13</th>\n",
       "      <th>u10n.13</th>\n",
       "      <th>v10n.13</th>\n",
       "      <th>sp.13</th>\n",
       "      <th>...</th>\n",
       "      <th>t2m.13</th>\n",
       "      <th>stl2.13</th>\n",
       "      <th>stl3.13</th>\n",
       "      <th>iews.13</th>\n",
       "      <th>inss.13</th>\n",
       "      <th>stl4.13</th>\n",
       "      <th>fsr.13</th>\n",
       "      <th>flsr.13</th>\n",
       "      <th>u100.13</th>\n",
       "      <th>v100.13</th>\n",
       "    </tr>\n",
       "  </thead>\n",
       "  <tbody>\n",
       "    <tr>\n",
       "      <th>count</th>\n",
       "      <td>4748.000000</td>\n",
       "      <td>4.748000e+03</td>\n",
       "      <td>4748.000000</td>\n",
       "      <td>4748.000000</td>\n",
       "      <td>4.748000e+03</td>\n",
       "      <td>4748.000000</td>\n",
       "      <td>4748.000000</td>\n",
       "      <td>4748.000000</td>\n",
       "      <td>4748.000000</td>\n",
       "      <td>4748.000000</td>\n",
       "      <td>...</td>\n",
       "      <td>4748.000000</td>\n",
       "      <td>4748.000000</td>\n",
       "      <td>4748.000000</td>\n",
       "      <td>4748.000000</td>\n",
       "      <td>4748.000000</td>\n",
       "      <td>4748.000000</td>\n",
       "      <td>4748.000000</td>\n",
       "      <td>4748.000000</td>\n",
       "      <td>4748.000000</td>\n",
       "      <td>4748.000000</td>\n",
       "    </tr>\n",
       "    <tr>\n",
       "      <th>mean</th>\n",
       "      <td>693.126247</td>\n",
       "      <td>2.489477e+06</td>\n",
       "      <td>16.008810</td>\n",
       "      <td>31.166541</td>\n",
       "      <td>1.706692e+06</td>\n",
       "      <td>2.815222</td>\n",
       "      <td>2.576284</td>\n",
       "      <td>0.386215</td>\n",
       "      <td>0.120528</td>\n",
       "      <td>97820.301287</td>\n",
       "      <td>...</td>\n",
       "      <td>285.689253</td>\n",
       "      <td>286.663838</td>\n",
       "      <td>286.665988</td>\n",
       "      <td>0.074229</td>\n",
       "      <td>0.049971</td>\n",
       "      <td>286.668152</td>\n",
       "      <td>0.413677</td>\n",
       "      <td>-5.908467</td>\n",
       "      <td>0.447175</td>\n",
       "      <td>0.328204</td>\n",
       "    </tr>\n",
       "    <tr>\n",
       "      <th>std</th>\n",
       "      <td>665.531609</td>\n",
       "      <td>4.482599e+04</td>\n",
       "      <td>6.552216</td>\n",
       "      <td>121.758977</td>\n",
       "      <td>1.466953e+06</td>\n",
       "      <td>0.397377</td>\n",
       "      <td>0.116434</td>\n",
       "      <td>3.100583</td>\n",
       "      <td>3.016766</td>\n",
       "      <td>713.689654</td>\n",
       "      <td>...</td>\n",
       "      <td>6.163483</td>\n",
       "      <td>5.547947</td>\n",
       "      <td>4.582827</td>\n",
       "      <td>0.367013</td>\n",
       "      <td>0.379014</td>\n",
       "      <td>3.552873</td>\n",
       "      <td>0.007602</td>\n",
       "      <td>0.094359</td>\n",
       "      <td>4.841730</td>\n",
       "      <td>4.667552</td>\n",
       "    </tr>\n",
       "    <tr>\n",
       "      <th>min</th>\n",
       "      <td>0.010000</td>\n",
       "      <td>2.358748e+06</td>\n",
       "      <td>1.650268</td>\n",
       "      <td>0.000000</td>\n",
       "      <td>5.610341e+04</td>\n",
       "      <td>2.323973</td>\n",
       "      <td>2.425866</td>\n",
       "      <td>-8.619823</td>\n",
       "      <td>-8.867441</td>\n",
       "      <td>93770.364813</td>\n",
       "      <td>...</td>\n",
       "      <td>268.970603</td>\n",
       "      <td>275.461648</td>\n",
       "      <td>278.389271</td>\n",
       "      <td>-1.714897</td>\n",
       "      <td>-1.438829</td>\n",
       "      <td>280.875389</td>\n",
       "      <td>0.364805</td>\n",
       "      <td>-6.130465</td>\n",
       "      <td>-11.879053</td>\n",
       "      <td>-13.043453</td>\n",
       "    </tr>\n",
       "    <tr>\n",
       "      <th>25%</th>\n",
       "      <td>144.170000</td>\n",
       "      <td>2.458543e+06</td>\n",
       "      <td>11.203264</td>\n",
       "      <td>0.000000</td>\n",
       "      <td>6.563209e+05</td>\n",
       "      <td>2.425944</td>\n",
       "      <td>2.461630</td>\n",
       "      <td>-1.950008</td>\n",
       "      <td>-2.050920</td>\n",
       "      <td>97459.369264</td>\n",
       "      <td>...</td>\n",
       "      <td>281.458939</td>\n",
       "      <td>282.287394</td>\n",
       "      <td>282.689506</td>\n",
       "      <td>-0.126880</td>\n",
       "      <td>-0.148495</td>\n",
       "      <td>283.405549</td>\n",
       "      <td>0.410027</td>\n",
       "      <td>-5.977599</td>\n",
       "      <td>-3.836853</td>\n",
       "      <td>-3.256194</td>\n",
       "    </tr>\n",
       "    <tr>\n",
       "      <th>50%</th>\n",
       "      <td>465.305000</td>\n",
       "      <td>2.490478e+06</td>\n",
       "      <td>15.543441</td>\n",
       "      <td>1.004148</td>\n",
       "      <td>1.239176e+06</td>\n",
       "      <td>2.758857</td>\n",
       "      <td>2.560520</td>\n",
       "      <td>0.048820</td>\n",
       "      <td>-0.191853</td>\n",
       "      <td>97861.147677</td>\n",
       "      <td>...</td>\n",
       "      <td>285.395453</td>\n",
       "      <td>286.191880</td>\n",
       "      <td>286.204914</td>\n",
       "      <td>0.010551</td>\n",
       "      <td>-0.003569</td>\n",
       "      <td>286.591659</td>\n",
       "      <td>0.410917</td>\n",
       "      <td>-5.947220</td>\n",
       "      <td>0.282399</td>\n",
       "      <td>-0.389416</td>\n",
       "    </tr>\n",
       "    <tr>\n",
       "      <th>75%</th>\n",
       "      <td>1089.375000</td>\n",
       "      <td>2.525134e+06</td>\n",
       "      <td>20.214077</td>\n",
       "      <td>14.143328</td>\n",
       "      <td>2.296548e+06</td>\n",
       "      <td>3.205385</td>\n",
       "      <td>2.688526</td>\n",
       "      <td>2.641779</td>\n",
       "      <td>2.016289</td>\n",
       "      <td>98251.478418</td>\n",
       "      <td>...</td>\n",
       "      <td>289.740438</td>\n",
       "      <td>291.345311</td>\n",
       "      <td>290.989045</td>\n",
       "      <td>0.232378</td>\n",
       "      <td>0.172325</td>\n",
       "      <td>290.024705</td>\n",
       "      <td>0.417070</td>\n",
       "      <td>-5.858848</td>\n",
       "      <td>4.187953</td>\n",
       "      <td>3.614395</td>\n",
       "    </tr>\n",
       "    <tr>\n",
       "      <th>max</th>\n",
       "      <td>2792.550000</td>\n",
       "      <td>2.580387e+06</td>\n",
       "      <td>39.230807</td>\n",
       "      <td>2311.662152</td>\n",
       "      <td>1.110694e+07</td>\n",
       "      <td>3.450745</td>\n",
       "      <td>2.762992</td>\n",
       "      <td>12.974802</td>\n",
       "      <td>11.699814</td>\n",
       "      <td>99917.733093</td>\n",
       "      <td>...</td>\n",
       "      <td>305.000640</td>\n",
       "      <td>299.556292</td>\n",
       "      <td>295.639998</td>\n",
       "      <td>2.842552</td>\n",
       "      <td>2.366522</td>\n",
       "      <td>292.808658</td>\n",
       "      <td>0.428914</td>\n",
       "      <td>-5.618172</td>\n",
       "      <td>18.964137</td>\n",
       "      <td>16.913033</td>\n",
       "    </tr>\n",
       "  </tbody>\n",
       "</table>\n",
       "<p>8 rows × 23 columns</p>\n",
       "</div>"
      ],
      "text/plain": [
       "            energy    p54.162.13   p55.162.13      cape.13    p59.162.13  \\\n",
       "count  4748.000000  4.748000e+03  4748.000000  4748.000000  4.748000e+03   \n",
       "mean    693.126247  2.489477e+06    16.008810    31.166541  1.706692e+06   \n",
       "std     665.531609  4.482599e+04     6.552216   121.758977  1.466953e+06   \n",
       "min       0.010000  2.358748e+06     1.650268     0.000000  5.610341e+04   \n",
       "25%     144.170000  2.458543e+06    11.203264     0.000000  6.563209e+05   \n",
       "50%     465.305000  2.490478e+06    15.543441     1.004148  1.239176e+06   \n",
       "75%    1089.375000  2.525134e+06    20.214077    14.143328  2.296548e+06   \n",
       "max    2792.550000  2.580387e+06    39.230807  2311.662152  1.110694e+07   \n",
       "\n",
       "         lai_lv.13    lai_hv.13      u10n.13      v10n.13         sp.13  ...  \\\n",
       "count  4748.000000  4748.000000  4748.000000  4748.000000   4748.000000  ...   \n",
       "mean      2.815222     2.576284     0.386215     0.120528  97820.301287  ...   \n",
       "std       0.397377     0.116434     3.100583     3.016766    713.689654  ...   \n",
       "min       2.323973     2.425866    -8.619823    -8.867441  93770.364813  ...   \n",
       "25%       2.425944     2.461630    -1.950008    -2.050920  97459.369264  ...   \n",
       "50%       2.758857     2.560520     0.048820    -0.191853  97861.147677  ...   \n",
       "75%       3.205385     2.688526     2.641779     2.016289  98251.478418  ...   \n",
       "max       3.450745     2.762992    12.974802    11.699814  99917.733093  ...   \n",
       "\n",
       "            t2m.13      stl2.13      stl3.13      iews.13      inss.13  \\\n",
       "count  4748.000000  4748.000000  4748.000000  4748.000000  4748.000000   \n",
       "mean    285.689253   286.663838   286.665988     0.074229     0.049971   \n",
       "std       6.163483     5.547947     4.582827     0.367013     0.379014   \n",
       "min     268.970603   275.461648   278.389271    -1.714897    -1.438829   \n",
       "25%     281.458939   282.287394   282.689506    -0.126880    -0.148495   \n",
       "50%     285.395453   286.191880   286.204914     0.010551    -0.003569   \n",
       "75%     289.740438   291.345311   290.989045     0.232378     0.172325   \n",
       "max     305.000640   299.556292   295.639998     2.842552     2.366522   \n",
       "\n",
       "           stl4.13       fsr.13      flsr.13      u100.13      v100.13  \n",
       "count  4748.000000  4748.000000  4748.000000  4748.000000  4748.000000  \n",
       "mean    286.668152     0.413677    -5.908467     0.447175     0.328204  \n",
       "std       3.552873     0.007602     0.094359     4.841730     4.667552  \n",
       "min     280.875389     0.364805    -6.130465   -11.879053   -13.043453  \n",
       "25%     283.405549     0.410027    -5.977599    -3.836853    -3.256194  \n",
       "50%     286.591659     0.410917    -5.947220     0.282399    -0.389416  \n",
       "75%     290.024705     0.417070    -5.858848     4.187953     3.614395  \n",
       "max     292.808658     0.428914    -5.618172    18.964137    16.913033  \n",
       "\n",
       "[8 rows x 23 columns]"
      ]
     },
     "execution_count": 14,
     "metadata": {},
     "output_type": "execute_result"
    }
   ],
   "source": [
    "# Para ver una descripción numérica de los datos\n",
    "wind_ava.describe()"
   ]
  },
  {
   "cell_type": "markdown",
   "metadata": {
    "id": "HvXkI4Ax0dIi"
   },
   "source": [
    "El método *.describe()* nos permite ver medidas de estadísitca descriptiva del conjunto de los datos para poder estudiar cómo es la distribución de los datos, si existen outliers o no que causen ruido en los datos, entre otras muchas caracterísitcas."
   ]
  },
  {
   "cell_type": "markdown",
   "metadata": {
    "id": "3Uy5g8tOIbSw"
   },
   "source": [
    "Podemos ver un ejemplo de detección de outliers para la variable de respuesta *energy*.\n",
    "Primero, mostremos un histograma para ver en torno a qué valores se encuentra típicamente el valor de la energía."
   ]
  },
  {
   "cell_type": "code",
   "execution_count": 15,
   "metadata": {
    "colab": {
     "base_uri": "https://localhost:8080/",
     "height": 453
    },
    "executionInfo": {
     "elapsed": 536,
     "status": "ok",
     "timestamp": 1712829661982,
     "user": {
      "displayName": "EDUARDO ALCONADA SOLA",
      "userId": "00409920475708315844"
     },
     "user_tz": -120
    },
    "id": "XnbD3GWsI0rO",
    "outputId": "6ec4fc3e-1aec-4505-baf7-b896aca9470b"
   },
   "outputs": [
    {
     "data": {
      "image/png": "[encoded data removed]",
      "text/plain": [
       "<Figure size 640x480 with 1 Axes>"
      ]
     },
     "metadata": {},
     "output_type": "display_data"
    }
   ],
   "source": [
    "plt.title('Valores de la variable de respuesta: energía')\n",
    "plt.hist(wind_ava['energy'], edgecolor = 'black', linewidth=1)\n",
    "plt.show()"
   ]
  },
  {
   "cell_type": "markdown",
   "metadata": {
    "id": "ikFNjwHRJwiB"
   },
   "source": [
    "Podemos ver que la distribución de los valores tiene una cola a la derecha. A partir del valor 2500 a penas hay ocurrencias.\n",
    "\n",
    "De todas fromas para la detección de outliers es más preciso realizar un diagrama de caja y bigotes"
   ]
  },
  {
   "cell_type": "code",
   "execution_count": 16,
   "metadata": {
    "colab": {
     "base_uri": "https://localhost:8080/",
     "height": 430
    },
    "executionInfo": {
     "elapsed": 378,
     "status": "ok",
     "timestamp": 1712829665451,
     "user": {
      "displayName": "EDUARDO ALCONADA SOLA",
      "userId": "00409920475708315844"
     },
     "user_tz": -120
    },
    "id": "AjCscBlXKZIL",
    "outputId": "ed6a78fc-fea0-44cd-8ca5-d6811659fc4f"
   },
   "outputs": [
    {
     "data": {
      "image/png": "[encoded data removed]",
      "text/plain": [
       "<Figure size 640x480 with 1 Axes>"
      ]
     },
     "metadata": {},
     "output_type": "display_data"
    }
   ],
   "source": [
    "plt.boxplot(wind_ava['energy'], vert =False)\n",
    "plt.show()"
   ]
  },
  {
   "cell_type": "markdown",
   "metadata": {
    "id": "u2pZzwzNLNEx"
   },
   "source": [
    "El cálculo de los outliers es sencillo estadísitcamente hablando, primero debemos calcular los cuartiles 1 y 3, Q1 y Q3:\n"
   ]
  },
  {
   "cell_type": "code",
   "execution_count": 17,
   "metadata": {
    "id": "ISCa0k5uLZq7"
   },
   "outputs": [],
   "source": [
    "Q1 = wind_ava['energy'].quantile(0.25)\n",
    "Q3 = wind_ava['energy'].quantile(0.75)"
   ]
  },
  {
   "cell_type": "markdown",
   "metadata": {
    "id": "tOszsEKbLon9"
   },
   "source": [
    "Teniendo esto podemos calcular el IQR o Rango Intercuartílico, que es la diferencia de Q3 y Q1. Y con esto, los outliers serían matemáticamente:\n",
    "- Los valores por encima de: Q3 + 1.5*IQR\n",
    "- Los valores por debajo de: Q1 - 1.5*IQR\n"
   ]
  },
  {
   "cell_type": "code",
   "execution_count": 18,
   "metadata": {
    "colab": {
     "base_uri": "https://localhost:8080/"
    },
    "executionInfo": {
     "elapsed": 508,
     "status": "ok",
     "timestamp": 1712829671732,
     "user": {
      "displayName": "EDUARDO ALCONADA SOLA",
      "userId": "00409920475708315844"
     },
     "user_tz": -120
    },
    "id": "4LKdLer_MG8l",
    "outputId": "8622db80-e275-41e2-e062-b350379385f7"
   },
   "outputs": [
    {
     "name": "stdout",
     "output_type": "stream",
     "text": [
      "Los outliers de la variable energía son:\n",
      "datetime\n",
      "2005-03-27 00:00:00    2574.03\n",
      "2005-04-17 18:00:00    2610.74\n",
      "2005-11-02 18:00:00    2513.07\n",
      "2005-11-13 12:00:00    2628.17\n",
      "2005-11-13 18:00:00    2556.86\n",
      "2005-11-23 00:00:00    2596.75\n",
      "2005-12-04 06:00:00    2723.12\n",
      "2005-12-04 12:00:00    2646.15\n",
      "2005-12-15 06:00:00    2774.89\n",
      "2006-02-15 12:00:00    2508.97\n",
      "2006-03-30 06:00:00    2552.41\n",
      "2007-06-14 18:00:00    2547.09\n",
      "2007-11-27 06:00:00    2526.31\n",
      "2009-05-28 00:00:00    2536.88\n",
      "2009-06-21 00:00:00    2586.51\n",
      "2009-11-08 00:00:00    2639.04\n",
      "2009-11-21 06:00:00    2547.25\n",
      "2009-11-28 18:00:00    2745.86\n",
      "2009-12-02 12:00:00    2640.18\n",
      "2009-12-13 00:00:00    2792.55\n",
      "2009-12-13 12:00:00    2680.34\n",
      "2009-12-21 18:00:00    2652.85\n",
      "Name: energy, dtype: float64\n",
      "Total de valores atípicos:  22\n"
     ]
    }
   ],
   "source": [
    "IQR = Q3-Q1\n",
    "inf_limit = Q1 - 1.5 * IQR\n",
    "sup_limit = Q3 + 1.5 * IQR\n",
    "outliers = wind_ava[(wind_ava['energy'] < inf_limit) | (wind_ava['energy'] > sup_limit)]\n",
    "print(\"Los outliers de la variable energía son:\")\n",
    "print(outliers['energy'])\n",
    "print('Total de valores atípicos: ', outliers['energy'].count())"
   ]
  },
  {
   "cell_type": "markdown",
   "metadata": {
    "id": "WroXtcBDNcgd"
   },
   "source": [
    "Por tanto estos datos podrían ser considerados estadísitcamente outliers, y deberíamos no tenerlos en cuenta en el dataset puesto que pueden añadir ruido a los datos.\n",
    "Para ello, nos quedamos con las filas que no contienen valores atípicos para la variable energía:"
   ]
  },
  {
   "cell_type": "code",
   "execution_count": 19,
   "metadata": {
    "id": "KJIJFpD5OVjN"
   },
   "outputs": [],
   "source": [
    "cleaned_wind_ava = wind_ava[(wind_ava['energy'] >= inf_limit) & (wind_ava['energy'] <= sup_limit)]"
   ]
  },
  {
   "cell_type": "code",
   "execution_count": 20,
   "metadata": {
    "colab": {
     "base_uri": "https://localhost:8080/",
     "height": 350
    },
    "executionInfo": {
     "elapsed": 5,
     "status": "ok",
     "timestamp": 1712829676289,
     "user": {
      "displayName": "EDUARDO ALCONADA SOLA",
      "userId": "00409920475708315844"
     },
     "user_tz": -120
    },
    "id": "kMx2quSbPbTz",
    "outputId": "2f7f50a8-1d0b-43d3-81dd-5ca670e11486"
   },
   "outputs": [
    {
     "data": {
      "text/html": [
       "<div>\n",
       "<style scoped>\n",
       "    .dataframe tbody tr th:only-of-type {\n",
       "        vertical-align: middle;\n",
       "    }\n",
       "\n",
       "    .dataframe tbody tr th {\n",
       "        vertical-align: top;\n",
       "    }\n",
       "\n",
       "    .dataframe thead th {\n",
       "        text-align: right;\n",
       "    }\n",
       "</style>\n",
       "<table border=\"1\" class=\"dataframe\">\n",
       "  <thead>\n",
       "    <tr style=\"text-align: right;\">\n",
       "      <th></th>\n",
       "      <th>energy</th>\n",
       "      <th>p54.162.13</th>\n",
       "      <th>p55.162.13</th>\n",
       "      <th>cape.13</th>\n",
       "      <th>p59.162.13</th>\n",
       "      <th>lai_lv.13</th>\n",
       "      <th>lai_hv.13</th>\n",
       "      <th>u10n.13</th>\n",
       "      <th>v10n.13</th>\n",
       "      <th>sp.13</th>\n",
       "      <th>...</th>\n",
       "      <th>t2m.13</th>\n",
       "      <th>stl2.13</th>\n",
       "      <th>stl3.13</th>\n",
       "      <th>iews.13</th>\n",
       "      <th>inss.13</th>\n",
       "      <th>stl4.13</th>\n",
       "      <th>fsr.13</th>\n",
       "      <th>flsr.13</th>\n",
       "      <th>u100.13</th>\n",
       "      <th>v100.13</th>\n",
       "    </tr>\n",
       "  </thead>\n",
       "  <tbody>\n",
       "    <tr>\n",
       "      <th>count</th>\n",
       "      <td>4726.000000</td>\n",
       "      <td>4.726000e+03</td>\n",
       "      <td>4726.000000</td>\n",
       "      <td>4726.000000</td>\n",
       "      <td>4.726000e+03</td>\n",
       "      <td>4726.000000</td>\n",
       "      <td>4726.000000</td>\n",
       "      <td>4726.000000</td>\n",
       "      <td>4726.000000</td>\n",
       "      <td>4726.000000</td>\n",
       "      <td>...</td>\n",
       "      <td>4726.000000</td>\n",
       "      <td>4726.000000</td>\n",
       "      <td>4726.000000</td>\n",
       "      <td>4726.000000</td>\n",
       "      <td>4726.000000</td>\n",
       "      <td>4726.000000</td>\n",
       "      <td>4726.000000</td>\n",
       "      <td>4726.000000</td>\n",
       "      <td>4726.000000</td>\n",
       "      <td>4726.000000</td>\n",
       "    </tr>\n",
       "    <tr>\n",
       "      <th>mean</th>\n",
       "      <td>684.169149</td>\n",
       "      <td>2.489626e+06</td>\n",
       "      <td>16.016835</td>\n",
       "      <td>31.201523</td>\n",
       "      <td>1.699394e+06</td>\n",
       "      <td>2.816193</td>\n",
       "      <td>2.576574</td>\n",
       "      <td>0.380019</td>\n",
       "      <td>0.115390</td>\n",
       "      <td>97822.284507</td>\n",
       "      <td>...</td>\n",
       "      <td>285.701337</td>\n",
       "      <td>286.678183</td>\n",
       "      <td>286.674667</td>\n",
       "      <td>0.073137</td>\n",
       "      <td>0.049094</td>\n",
       "      <td>286.666648</td>\n",
       "      <td>0.413669</td>\n",
       "      <td>-5.908529</td>\n",
       "      <td>0.438561</td>\n",
       "      <td>0.321166</td>\n",
       "    </tr>\n",
       "    <tr>\n",
       "      <th>std</th>\n",
       "      <td>653.945329</td>\n",
       "      <td>4.479339e+04</td>\n",
       "      <td>6.555359</td>\n",
       "      <td>121.974122</td>\n",
       "      <td>1.460060e+06</td>\n",
       "      <td>0.397435</td>\n",
       "      <td>0.116448</td>\n",
       "      <td>3.086158</td>\n",
       "      <td>3.005460</td>\n",
       "      <td>712.248503</td>\n",
       "      <td>...</td>\n",
       "      <td>6.172166</td>\n",
       "      <td>5.552623</td>\n",
       "      <td>4.588552</td>\n",
       "      <td>0.364142</td>\n",
       "      <td>0.375981</td>\n",
       "      <td>3.555191</td>\n",
       "      <td>0.007599</td>\n",
       "      <td>0.094358</td>\n",
       "      <td>4.819013</td>\n",
       "      <td>4.650616</td>\n",
       "    </tr>\n",
       "    <tr>\n",
       "      <th>min</th>\n",
       "      <td>0.010000</td>\n",
       "      <td>2.358748e+06</td>\n",
       "      <td>1.650268</td>\n",
       "      <td>0.000000</td>\n",
       "      <td>5.610341e+04</td>\n",
       "      <td>2.323973</td>\n",
       "      <td>2.425866</td>\n",
       "      <td>-8.619823</td>\n",
       "      <td>-8.240219</td>\n",
       "      <td>93770.364813</td>\n",
       "      <td>...</td>\n",
       "      <td>268.970603</td>\n",
       "      <td>275.461648</td>\n",
       "      <td>278.389271</td>\n",
       "      <td>-1.714897</td>\n",
       "      <td>-1.438829</td>\n",
       "      <td>280.875389</td>\n",
       "      <td>0.364805</td>\n",
       "      <td>-6.130465</td>\n",
       "      <td>-11.879053</td>\n",
       "      <td>-11.621539</td>\n",
       "    </tr>\n",
       "    <tr>\n",
       "      <th>25%</th>\n",
       "      <td>143.515000</td>\n",
       "      <td>2.458779e+06</td>\n",
       "      <td>11.205974</td>\n",
       "      <td>0.000000</td>\n",
       "      <td>6.555602e+05</td>\n",
       "      <td>2.425996</td>\n",
       "      <td>2.461678</td>\n",
       "      <td>-1.947144</td>\n",
       "      <td>-2.050746</td>\n",
       "      <td>97461.493901</td>\n",
       "      <td>...</td>\n",
       "      <td>281.458065</td>\n",
       "      <td>282.297737</td>\n",
       "      <td>282.686533</td>\n",
       "      <td>-0.126591</td>\n",
       "      <td>-0.148342</td>\n",
       "      <td>283.404679</td>\n",
       "      <td>0.410027</td>\n",
       "      <td>-5.977558</td>\n",
       "      <td>-3.825475</td>\n",
       "      <td>-3.254947</td>\n",
       "    </tr>\n",
       "    <tr>\n",
       "      <th>50%</th>\n",
       "      <td>461.060000</td>\n",
       "      <td>2.490702e+06</td>\n",
       "      <td>15.547168</td>\n",
       "      <td>1.004148</td>\n",
       "      <td>1.236491e+06</td>\n",
       "      <td>2.762401</td>\n",
       "      <td>2.561325</td>\n",
       "      <td>0.044568</td>\n",
       "      <td>-0.193244</td>\n",
       "      <td>97862.289273</td>\n",
       "      <td>...</td>\n",
       "      <td>285.413523</td>\n",
       "      <td>286.232864</td>\n",
       "      <td>286.223583</td>\n",
       "      <td>0.010427</td>\n",
       "      <td>-0.003637</td>\n",
       "      <td>286.573790</td>\n",
       "      <td>0.410914</td>\n",
       "      <td>-5.947290</td>\n",
       "      <td>0.274291</td>\n",
       "      <td>-0.391661</td>\n",
       "    </tr>\n",
       "    <tr>\n",
       "      <th>75%</th>\n",
       "      <td>1079.207500</td>\n",
       "      <td>2.525359e+06</td>\n",
       "      <td>20.224918</td>\n",
       "      <td>14.162275</td>\n",
       "      <td>2.285809e+06</td>\n",
       "      <td>3.206503</td>\n",
       "      <td>2.688548</td>\n",
       "      <td>2.626161</td>\n",
       "      <td>2.000469</td>\n",
       "      <td>98252.334616</td>\n",
       "      <td>...</td>\n",
       "      <td>289.756760</td>\n",
       "      <td>291.361743</td>\n",
       "      <td>291.002737</td>\n",
       "      <td>0.230436</td>\n",
       "      <td>0.170826</td>\n",
       "      <td>290.025430</td>\n",
       "      <td>0.417003</td>\n",
       "      <td>-5.858953</td>\n",
       "      <td>4.167682</td>\n",
       "      <td>3.602047</td>\n",
       "    </tr>\n",
       "    <tr>\n",
       "      <th>max</th>\n",
       "      <td>2502.350000</td>\n",
       "      <td>2.580387e+06</td>\n",
       "      <td>39.230807</td>\n",
       "      <td>2311.662152</td>\n",
       "      <td>1.110694e+07</td>\n",
       "      <td>3.450745</td>\n",
       "      <td>2.762992</td>\n",
       "      <td>12.974802</td>\n",
       "      <td>11.699814</td>\n",
       "      <td>99917.733093</td>\n",
       "      <td>...</td>\n",
       "      <td>305.000640</td>\n",
       "      <td>299.556292</td>\n",
       "      <td>295.639998</td>\n",
       "      <td>2.842552</td>\n",
       "      <td>2.366522</td>\n",
       "      <td>292.808658</td>\n",
       "      <td>0.428914</td>\n",
       "      <td>-5.618172</td>\n",
       "      <td>18.964137</td>\n",
       "      <td>16.913033</td>\n",
       "    </tr>\n",
       "  </tbody>\n",
       "</table>\n",
       "<p>8 rows × 23 columns</p>\n",
       "</div>"
      ],
      "text/plain": [
       "            energy    p54.162.13   p55.162.13      cape.13    p59.162.13  \\\n",
       "count  4726.000000  4.726000e+03  4726.000000  4726.000000  4.726000e+03   \n",
       "mean    684.169149  2.489626e+06    16.016835    31.201523  1.699394e+06   \n",
       "std     653.945329  4.479339e+04     6.555359   121.974122  1.460060e+06   \n",
       "min       0.010000  2.358748e+06     1.650268     0.000000  5.610341e+04   \n",
       "25%     143.515000  2.458779e+06    11.205974     0.000000  6.555602e+05   \n",
       "50%     461.060000  2.490702e+06    15.547168     1.004148  1.236491e+06   \n",
       "75%    1079.207500  2.525359e+06    20.224918    14.162275  2.285809e+06   \n",
       "max    2502.350000  2.580387e+06    39.230807  2311.662152  1.110694e+07   \n",
       "\n",
       "         lai_lv.13    lai_hv.13      u10n.13      v10n.13         sp.13  ...  \\\n",
       "count  4726.000000  4726.000000  4726.000000  4726.000000   4726.000000  ...   \n",
       "mean      2.816193     2.576574     0.380019     0.115390  97822.284507  ...   \n",
       "std       0.397435     0.116448     3.086158     3.005460    712.248503  ...   \n",
       "min       2.323973     2.425866    -8.619823    -8.240219  93770.364813  ...   \n",
       "25%       2.425996     2.461678    -1.947144    -2.050746  97461.493901  ...   \n",
       "50%       2.762401     2.561325     0.044568    -0.193244  97862.289273  ...   \n",
       "75%       3.206503     2.688548     2.626161     2.000469  98252.334616  ...   \n",
       "max       3.450745     2.762992    12.974802    11.699814  99917.733093  ...   \n",
       "\n",
       "            t2m.13      stl2.13      stl3.13      iews.13      inss.13  \\\n",
       "count  4726.000000  4726.000000  4726.000000  4726.000000  4726.000000   \n",
       "mean    285.701337   286.678183   286.674667     0.073137     0.049094   \n",
       "std       6.172166     5.552623     4.588552     0.364142     0.375981   \n",
       "min     268.970603   275.461648   278.389271    -1.714897    -1.438829   \n",
       "25%     281.458065   282.297737   282.686533    -0.126591    -0.148342   \n",
       "50%     285.413523   286.232864   286.223583     0.010427    -0.003637   \n",
       "75%     289.756760   291.361743   291.002737     0.230436     0.170826   \n",
       "max     305.000640   299.556292   295.639998     2.842552     2.366522   \n",
       "\n",
       "           stl4.13       fsr.13      flsr.13      u100.13      v100.13  \n",
       "count  4726.000000  4726.000000  4726.000000  4726.000000  4726.000000  \n",
       "mean    286.666648     0.413669    -5.908529     0.438561     0.321166  \n",
       "std       3.555191     0.007599     0.094358     4.819013     4.650616  \n",
       "min     280.875389     0.364805    -6.130465   -11.879053   -11.621539  \n",
       "25%     283.404679     0.410027    -5.977558    -3.825475    -3.254947  \n",
       "50%     286.573790     0.410914    -5.947290     0.274291    -0.391661  \n",
       "75%     290.025430     0.417003    -5.858953     4.167682     3.602047  \n",
       "max     292.808658     0.428914    -5.618172    18.964137    16.913033  \n",
       "\n",
       "[8 rows x 23 columns]"
      ]
     },
     "execution_count": 20,
     "metadata": {},
     "output_type": "execute_result"
    }
   ],
   "source": [
    "cleaned_wind_ava.describe()"
   ]
  },
  {
   "cell_type": "markdown",
   "metadata": {
    "id": "L0yyCuFzPq6c"
   },
   "source": [
    "Este tratamiento de valores atípicos ha contribuido a reducir la desviación estándar de la variable respuesta en 15 puntos."
   ]
  },
  {
   "cell_type": "markdown",
   "metadata": {
    "id": "Ai_hLdI0QGZG"
   },
   "source": [
    "Otro método que se lleva a cabo cuando se hace EDA es el análisis de relación entre variables. Podemos empezar visualizando la matriz de correlación entre variables:"
   ]
  },
  {
   "cell_type": "code",
   "execution_count": 21,
   "metadata": {
    "id": "lLi7Cn3hQc-O"
   },
   "outputs": [],
   "source": [
    "# Calcular la matriz de correlación\n",
    "correlation_matrix = cleaned_wind_ava.corr()"
   ]
  },
  {
   "cell_type": "code",
   "execution_count": 22,
   "metadata": {
    "colab": {
     "base_uri": "https://localhost:8080/",
     "height": 1000
    },
    "executionInfo": {
     "elapsed": 1102,
     "status": "ok",
     "timestamp": 1712829679613,
     "user": {
      "displayName": "EDUARDO ALCONADA SOLA",
      "userId": "00409920475708315844"
     },
     "user_tz": -120
    },
    "id": "6sghRffyQnwB",
    "outputId": "9d0573b2-abab-4fd4-88af-9cda502dc189"
   },
   "outputs": [
    {
     "name": "stdout",
     "output_type": "stream",
     "text": [
      "              energy  p54.162.13  p55.162.13   cape.13  p59.162.13  lai_lv.13  \\\n",
      "energy      1.000000   -0.235278    0.004603 -0.048216    0.443949  -0.208783   \n",
      "p54.162.13 -0.235278    1.000000    0.360303  0.078018   -0.400871   0.638894   \n",
      "p55.162.13  0.004603    0.360303    1.000000  0.275657    0.066527   0.422795   \n",
      "cape.13    -0.048216    0.078018    0.275657  1.000000    0.002957   0.123900   \n",
      "p59.162.13  0.443949   -0.400871    0.066527  0.002957    1.000000  -0.270455   \n",
      "lai_lv.13  -0.208783    0.638894    0.422795  0.123900   -0.270455   1.000000   \n",
      "lai_hv.13  -0.210599    0.654610    0.436676  0.128836   -0.272979   0.998611   \n",
      "u10n.13     0.242287   -0.290186    0.285907  0.029471    0.547250  -0.088903   \n",
      "v10n.13     0.313555   -0.269500    0.237272  0.003114    0.348160  -0.239068   \n",
      "sp.13      -0.188121    0.492702   -0.266135 -0.145174   -0.303330  -0.064667   \n",
      "stl1.13    -0.194440    0.723617    0.565051  0.233832   -0.245420   0.773610   \n",
      "u10.13      0.245283   -0.284547    0.303520  0.032698    0.556676  -0.076802   \n",
      "v10.13      0.304714   -0.265076    0.235900  0.003085    0.340246  -0.242725   \n",
      "t2m.13     -0.158744    0.683753    0.589104  0.243511   -0.206520   0.685138   \n",
      "stl2.13    -0.189215    0.764592    0.579730  0.215870   -0.258379   0.813950   \n",
      "stl3.13    -0.163862    0.729295    0.545057  0.174071   -0.234257   0.710413   \n",
      "iews.13     0.325049   -0.306249    0.257988  0.041514    0.578172  -0.128708   \n",
      "inss.13     0.349716   -0.264469    0.251751  0.031423    0.369453  -0.219095   \n",
      "stl4.13    -0.049273    0.469861    0.384126  0.113544   -0.085011   0.170658   \n",
      "fsr.13      0.234610   -0.218716    0.279475  0.070539    0.343387  -0.129112   \n",
      "flsr.13     0.152561   -0.427516    0.215286  0.075131    0.403454  -0.259635   \n",
      "u100.13     0.237832   -0.295432    0.310643  0.030170    0.564869  -0.094211   \n",
      "v100.13     0.305925   -0.259782    0.249660  0.012190    0.333798  -0.238043   \n",
      "\n",
      "            lai_hv.13   u10n.13   v10n.13     sp.13  ...    t2m.13   stl2.13  \\\n",
      "energy      -0.210599  0.242287  0.313555 -0.188121  ... -0.158744 -0.189215   \n",
      "p54.162.13   0.654610 -0.290186 -0.269500  0.492702  ...  0.683753  0.764592   \n",
      "p55.162.13   0.436676  0.285907  0.237272 -0.266135  ...  0.589104  0.579730   \n",
      "cape.13      0.128836  0.029471  0.003114 -0.145174  ...  0.243511  0.215870   \n",
      "p59.162.13  -0.272979  0.547250  0.348160 -0.303330  ... -0.206520 -0.258379   \n",
      "lai_lv.13    0.998611 -0.088903 -0.239068 -0.064667  ...  0.685138  0.813950   \n",
      "lai_hv.13    1.000000 -0.092161 -0.240645 -0.067880  ...  0.700140  0.833601   \n",
      "u10n.13     -0.092161  1.000000  0.587486 -0.338865  ... -0.022691 -0.081486   \n",
      "v10n.13     -0.240645  0.587486  1.000000 -0.345909  ... -0.093621 -0.188413   \n",
      "sp.13       -0.067880 -0.338865 -0.345909  1.000000  ... -0.074958 -0.072544   \n",
      "stl1.13      0.789471 -0.058220 -0.187663 -0.069109  ...  0.970881  0.931011   \n",
      "u10.13      -0.080078  0.994236  0.580357 -0.343224  ...  0.005303 -0.067828   \n",
      "v10.13      -0.244288  0.580056  0.995887 -0.341022  ... -0.096966 -0.189888   \n",
      "t2m.13       0.700140 -0.022691 -0.093621 -0.074958  ...  1.000000  0.850254   \n",
      "stl2.13      0.833601 -0.081486 -0.188413 -0.072544  ...  0.850254  1.000000   \n",
      "stl3.13      0.737371 -0.088821 -0.180479 -0.059445  ...  0.754154  0.942946   \n",
      "iews.13     -0.132103  0.947465  0.635758 -0.369640  ... -0.033854 -0.108871   \n",
      "inss.13     -0.220197  0.558008  0.955913 -0.382123  ... -0.058424 -0.155428   \n",
      "stl4.13      0.207169 -0.060889 -0.062581 -0.021855  ...  0.430706  0.574620   \n",
      "fsr.13      -0.131462  0.450530  0.301075 -0.217450  ... -0.040435 -0.048789   \n",
      "flsr.13     -0.263942  0.484122  0.280929 -0.335835  ... -0.212093 -0.219237   \n",
      "u100.13     -0.097787  0.977781  0.594517 -0.346679  ...  0.005813 -0.082020   \n",
      "v100.13     -0.239524  0.560631  0.983333 -0.353771  ... -0.069893 -0.178203   \n",
      "\n",
      "             stl3.13   iews.13   inss.13   stl4.13    fsr.13   flsr.13  \\\n",
      "energy     -0.163862  0.325049  0.349716 -0.049273  0.234610  0.152561   \n",
      "p54.162.13  0.729295 -0.306249 -0.264469  0.469861 -0.218716 -0.427516   \n",
      "p55.162.13  0.545057  0.257988  0.251751  0.384126  0.279475  0.215286   \n",
      "cape.13     0.174071  0.041514  0.031423  0.113544  0.070539  0.075131   \n",
      "p59.162.13 -0.234257  0.578172  0.369453 -0.085011  0.343387  0.403454   \n",
      "lai_lv.13   0.710413 -0.128708 -0.219095  0.170658 -0.129112 -0.259635   \n",
      "lai_hv.13   0.737371 -0.132103 -0.220197  0.207169 -0.131462 -0.263942   \n",
      "u10n.13    -0.088821  0.947465  0.558008 -0.060889  0.450530  0.484122   \n",
      "v10n.13    -0.180479  0.635758  0.955913 -0.062581  0.301075  0.280929   \n",
      "sp.13      -0.059445 -0.369640 -0.382123 -0.021855 -0.217450 -0.335835   \n",
      "stl1.13     0.841677 -0.083301 -0.150603  0.472172 -0.071816 -0.240605   \n",
      "u10.13     -0.076418  0.938703  0.550604 -0.054604  0.459455  0.491726   \n",
      "v10.13     -0.181159  0.626655  0.947970 -0.061015  0.298491  0.278359   \n",
      "t2m.13      0.754154 -0.033854 -0.058424  0.430706 -0.040435 -0.212093   \n",
      "stl2.13     0.942946 -0.108871 -0.155428  0.574620 -0.048789 -0.219237   \n",
      "stl3.13     1.000000 -0.125352 -0.156944  0.772294 -0.043807 -0.200736   \n",
      "iews.13    -0.125352  1.000000  0.648416 -0.087337  0.439078  0.451451   \n",
      "inss.13    -0.156944  0.648416  1.000000 -0.051410  0.293991  0.266335   \n",
      "stl4.13     0.772294 -0.087337 -0.051410  1.000000  0.012750 -0.068478   \n",
      "fsr.13     -0.043807  0.439078  0.293991  0.012750  1.000000  0.852509   \n",
      "flsr.13    -0.200736  0.451451  0.266335 -0.068478  0.852509  1.000000   \n",
      "u100.13    -0.090444  0.923130  0.556407 -0.059814  0.473791  0.511609   \n",
      "v100.13    -0.172220  0.607689  0.938893 -0.053141  0.299485  0.273863   \n",
      "\n",
      "             u100.13   v100.13  \n",
      "energy      0.237832  0.305925  \n",
      "p54.162.13 -0.295432 -0.259782  \n",
      "p55.162.13  0.310643  0.249660  \n",
      "cape.13     0.030170  0.012190  \n",
      "p59.162.13  0.564869  0.333798  \n",
      "lai_lv.13  -0.094211 -0.238043  \n",
      "lai_hv.13  -0.097787 -0.239524  \n",
      "u10n.13     0.977781  0.560631  \n",
      "v10n.13     0.594517  0.983333  \n",
      "sp.13      -0.346679 -0.353771  \n",
      "stl1.13    -0.041392 -0.166535  \n",
      "u10.13      0.989727  0.556702  \n",
      "v10.13      0.593397  0.991856  \n",
      "t2m.13      0.005813 -0.069893  \n",
      "stl2.13    -0.082020 -0.178203  \n",
      "stl3.13    -0.090444 -0.172220  \n",
      "iews.13     0.923130  0.607689  \n",
      "inss.13     0.556407  0.938893  \n",
      "stl4.13    -0.059814 -0.053141  \n",
      "fsr.13      0.473791  0.299485  \n",
      "flsr.13     0.511609  0.273863  \n",
      "u100.13     1.000000  0.582213  \n",
      "v100.13     0.582213  1.000000  \n",
      "\n",
      "[23 rows x 23 columns]\n"
     ]
    },
    {
     "data": {
      "image/png": "[encoded data removed]",
      "text/plain": [
       "<Figure size 640x480 with 2 Axes>"
      ]
     },
     "metadata": {},
     "output_type": "display_data"
    }
   ],
   "source": [
    " # Se puede utilizar la librería seabron para visualizar esto en un heatmap\n",
    "sns.heatmap(correlation_matrix,xticklabels=correlation_matrix.columns, yticklabels=correlation_matrix.columns, annot=False)\n",
    "print(correlation_matrix)"
   ]
  },
  {
   "cell_type": "markdown",
   "metadata": {
    "id": "cgawrE7URdKA"
   },
   "source": [
    "Debemos estudiar por pares las relaciones entre las variables de manera aislada. Existen una gran cantidad de combinaciones.\n",
    "\n",
    "Es importante tener en cuenta, que este será un problema de regresión. En una regresión es importante para la potencia de la predicción, que las variables independientes no estén o estén mínimamente correladas entre sí (no multicolinealidad) , porque entonces, cambios en una variable independiente producen cambios en otras y estos cambios sobre la variable respuesta, y entonces ya es difícil medir los efectos individuales de cada variable sobre la variable de respuesta. En principio, las variables independientes se determinan de manera que no estén correladas entre sí. Un ejemplo se muestra en el siguiente plot entre dos variables predictoras de la regresión, en el que se puede apreciar que no existe correlación aparente."
   ]
  },
  {
   "cell_type": "code",
   "execution_count": 23,
   "metadata": {
    "colab": {
     "base_uri": "https://localhost:8080/",
     "height": 523
    },
    "executionInfo": {
     "elapsed": 836,
     "status": "ok",
     "timestamp": 1712829681913,
     "user": {
      "displayName": "EDUARDO ALCONADA SOLA",
      "userId": "00409920475708315844"
     },
     "user_tz": -120
    },
    "id": "y8g5zKljS7JM",
    "outputId": "5b545c82-064b-4fe4-cbc1-ee293d439eb1"
   },
   "outputs": [
    {
     "data": {
      "text/plain": [
       "<seaborn.axisgrid.FacetGrid at 0x1a779122e10>"
      ]
     },
     "execution_count": 23,
     "metadata": {},
     "output_type": "execute_result"
    },
    {
     "data": {
      "image/png": "[encoded data removed]",
      "text/plain": [
       "<Figure size 500x500 with 1 Axes>"
      ]
     },
     "metadata": {},
     "output_type": "display_data"
    }
   ],
   "source": [
    "sns.relplot(x= 'u10n.13', y= 'fsr.13', data=cleaned_wind_ava)"
   ]
  },
  {
   "cell_type": "code",
   "execution_count": 24,
   "metadata": {},
   "outputs": [],
   "source": [
    "import os\n",
    "# Guardamos el fichero con el conjunto de dato tras la aplicación del EDA\n",
    "file_path = os.path.join( os.getcwd(), 'cleaned_wind_ava.csv')\n",
    "# Guardar el DataFrame como un archivo CSV en la ruta especificada\n",
    "cleaned_wind_ava.to_csv(file_path, index=True)"
   ]
  },
  {
   "cell_type": "markdown",
   "metadata": {
    "id": "DHYrNALDS01I"
   },
   "source": [
    "# Decisión Evaluación del modelo"
   ]
  },
  {
   "cell_type": "markdown",
   "metadata": {
    "id": "h2SYRRk9AajA"
   },
   "source": [
    "En esta sección se van a definir los procedimientos a seguir para abordar el problema de regresión y evaluar el rendimiento del modelo tanto en la evaluación outer (rendimiento del modelo) como en la evaluación inner (para comparar diferentes alternativas y ajustar hiperparámetros)"
   ]
  },
  {
   "cell_type": "markdown",
   "metadata": {
    "id": "3fBeA1fIS9TA"
   },
   "source": [
    "## Evaluación outer"
   ]
  },
  {
   "cell_type": "markdown",
   "metadata": {
    "id": "L77OvP9xTLvT"
   },
   "source": [
    "En esta sección se discute cómo se llevará a cabo la evaluación del modelo final, junto con la definición de las métricas para la medición del rendimiento.\n",
    "\n",
    "Se van a dividir los datos en conjuntos de entrenamiento y prueba. Como el conjunto de datos es una serie temporal que contiene información de los años 2005, 2006, 2007, 2008 y 2009, se ha decidido tomar los datos de los 4 primeros años para entrenamiento y el último año para test. Este conjunto de test outer será el que se utilice para evaluar el rendimiento del modelo final.\n",
    "\n",
    "Posteriormente, se entranarán una serie de modelos para hacer una evaluación inner de su rendimiento, haciendo validación cruzada sobre el conjunto de entrenamiento de la partición outer.\n",
    "\n",
    "Para evaluar el rendimiento, al ser un problema de regresión, es necesario escoger las métricas adecuadas al tipo de problema, como podrían ser:\n",
    "\n",
    "- Coeficiente de Determinación (R²): proporciona una medida de qué tan bien se ajustan los valores predichos a los valores reales. Es una medida de la proporción de la varianza en la variable dependiente que es predecible a partir de las variables independientes. Cuanto más cercano sea R² a 1, mejor es el ajuste del modelo a los datos.\n",
    "Puede compararse con el rendimiento de un modelo nulo que simplemente predice la media de la variable dependiente en todos los casos. Un valor de R² cercano a 1 indica que el modelo es mucho mejor que este modelo nulo.\n",
    "\n",
    "- Error Cuadrático Medio (MSE):vcalcula el promedio de los errores al cuadrado entre los valores reales y los valores predichos. Es una medida de la calidad general del modelo. Cuanto menor sea el valor de MSE, mejor será el ajuste del modelo a los datos.\n",
    "MSE penaliza los errores grandes de manera significativa debido a su naturaleza cuadrática. Esto significa que los errores grandes tendrán un impacto más significativo en el MSE, lo que puede ser importante dependiendo del contexto del problema.\n",
    "Como es una medida de la pérdida del modelo, cuanto menor sea el MSE, mejor será el rendimiento del modelo. Esto hace que el MSE sea útil para comparar diferentes modelos y seleccionar el mejor entre ellos.\n",
    "\n"
   ]
  },
  {
   "cell_type": "markdown",
   "metadata": {
    "id": "qstqslubTE9l"
   },
   "source": [
    "## Evaluación inner"
   ]
  },
  {
   "cell_type": "markdown",
   "metadata": {
    "id": "KmtSM3XETcsO"
   },
   "source": [
    "En esta sección se discutirá cómo se realizará la evaluación inner, tanto para el ajuste de hiperparámetros, como la comparación de alternativas, las cuales en esta práctica se corresponden con la decisión del método de escalado de los datos, o la evaluación de los modelos con valor de hiperparámetros por defecto.\n",
    "\n",
    "Para ello, se van a utilizar técnicas de validación cruzada, como k-fold o Time Series Split, en este caso se optará por la segunda puesto que los datos siguen una serie temporal cuya estructura es es importante respetar. Es fundamental dividir los datos de manera que el conjunto de prueba (inner) contenga observaciones posteriores al conjunto de entrenamiento. Con el método TimeSeriesSplit, ya se está considerando esta secuencia. En el caso de HPO, la evaluación inner se usará para evaluar las diferentes combinaciones de hiperparámetros y seleccionar la que maximice el rendimiento del modelo. \n",
    "\n",
    "En cuanto a la selección de hiperparámetros (los cuales dependerán del modelo de regresión que se esté utilizando), un ejemplo podría ser en un árbol de decisión ajustando la profundidad máxima del árbol (max_depth) o el número mínimo de muestras requeridas para dividir un nodo (min_samples_split), se realizará mediante métodos de búsqueda como Grid Search (búsqueda en rejilla, que evalua todas las posibles combinaciones de hiperparámetros)\n",
    "\n",
    "Se realiza una búsqueda de hiperparámetros para encontrar la combinación óptima que maximice el rendimiento del modelo en los datos de validación cruzada, utilizando métricas como el MSE o R² para evaluar el rendimiento del modelo en cada combinación de hiperparámetros. Una vez se han seleccionado los hiperparámetros, es importante ajustar el modelo final en el conjunto de datos completo.\n",
    "\n",
    "En el caso de la comparación de diferentes alternativas, se seguirá el mismo procedimiento con validación cruzada, como la evaluación de cuál es el mejor método de escalado para los datos (probando los diferentes métodos y viendo cual mejora el ajuste), o la evaluación de modelos con hiperparámetros por omisión, realizándose una validación cruzada sobre cada uno y obteniendo el valor de las métricas correspondientes para poder hacer comparaciones entre modelos."
   ]
  },
  {
   "cell_type": "markdown",
   "metadata": {
    "id": "X3gxbVPQUTZe"
   },
   "source": [
    "# Decisión de Método de Escalado mediante KNN"
   ]
  },
  {
   "cell_type": "code",
   "execution_count": 25,
   "metadata": {
    "id": "yHOhQ75q9vWr"
   },
   "outputs": [],
   "source": [
    "# Importamos las librerías necesarias para dividir el conjunto de datos\n",
    "from sklearn.model_selection import train_test_split, cross_val_score, cross_validate\n",
    "from sklearn.model_selection import TimeSeriesSplit"
   ]
  },
  {
   "cell_type": "code",
   "execution_count": 26,
   "metadata": {
    "id": "UVKG_jnwD3he"
   },
   "outputs": [],
   "source": [
    "# Importamos los métodos de escalado\n",
    "from sklearn.preprocessing import StandardScaler, MinMaxScaler, RobustScaler\n",
    "# Importamos numpy para realizar cálculos\n",
    "import numpy as np"
   ]
  },
  {
   "cell_type": "code",
   "execution_count": 27,
   "metadata": {
    "id": "60jLViizD8qO"
   },
   "outputs": [],
   "source": [
    "# Importamos el modelo knn de regresión y las métricas de evaluación\n",
    "from sklearn.neighbors import KNeighborsRegressor\n",
    "from sklearn.metrics import mean_squared_error, r2_score"
   ]
  },
  {
   "cell_type": "code",
   "execution_count": 28,
   "metadata": {
    "id": "rGsme6vBU2Gm"
   },
   "outputs": [],
   "source": [
    "#Importamos el pipeline\n",
    "from sklearn.pipeline import Pipeline"
   ]
  },
  {
   "cell_type": "code",
   "execution_count": 29,
   "metadata": {
    "colab": {
     "base_uri": "https://localhost:8080/"
    },
    "executionInfo": {
     "elapsed": 639,
     "status": "ok",
     "timestamp": 1712829715476,
     "user": {
      "displayName": "EDUARDO ALCONADA SOLA",
      "userId": "00409920475708315844"
     },
     "user_tz": -120
    },
    "id": "ELm2_Eo_OaFR",
    "outputId": "17472db1-5cf4-4879-b1b5-9095bef3a6b9"
   },
   "outputs": [
    {
     "name": "stdout",
     "output_type": "stream",
     "text": [
      "Cantidad de fechas del año 2009: 912\n"
     ]
    }
   ],
   "source": [
    "years = pd.to_datetime(cleaned_wind_ava.index).year\n",
    "print(\"Cantidad de fechas del año 2009:\", (years == 2009).sum())"
   ]
  },
  {
   "cell_type": "code",
   "execution_count": 30,
   "metadata": {
    "id": "C-Vqb7XNBE7t"
   },
   "outputs": [],
   "source": [
    "# Evaluación outer: decidimos usar divisón externa del conjunto de datos en dos conjuntos en train/test\n",
    "X, y = cleaned_wind_ava.drop(['energy'], axis='columns'), cleaned_wind_ava['energy']\n",
    "X_train, X_test, y_train, y_test = train_test_split(X, y, test_size=912, shuffle=False)"
   ]
  },
  {
   "cell_type": "code",
   "execution_count": 31,
   "metadata": {
    "id": "jnvl8yfQ-HGP"
   },
   "outputs": [],
   "source": [
    "# Definimos los diferentes métodos de escalado\n",
    "scalers = {\n",
    "    'StandardScaler': StandardScaler(),\n",
    "    'MinMaxScaler': MinMaxScaler(),\n",
    "    'RobustScaler': RobustScaler()\n",
    "}"
   ]
  },
  {
   "cell_type": "code",
   "execution_count": 32,
   "metadata": {
    "colab": {
     "base_uri": "https://localhost:8080/"
    },
    "executionInfo": {
     "elapsed": 950,
     "status": "ok",
     "timestamp": 1712829745231,
     "user": {
      "displayName": "EDUARDO ALCONADA SOLA",
      "userId": "00409920475708315844"
     },
     "user_tz": -120
    },
    "id": "yfB0coM2-Oix",
    "outputId": "baac3038-ba29-42cc-b420-00784511325e"
   },
   "outputs": [
    {
     "name": "stdout",
     "output_type": "stream",
     "text": [
      "KNN con StandardScaler:\n",
      "  R2: 0.5644094911261416\n",
      "  MSE: 191841.85246488452\n",
      "KNN con MinMaxScaler:\n",
      "  R2: 0.4951859133101919\n",
      "  MSE: 222025.93904566142\n",
      "KNN con RobustScaler:\n",
      "  R2: 0.5623658859287647\n",
      "  MSE: 194185.22014682152\n"
     ]
    }
   ],
   "source": [
    "# Evaluación inner: decidimos usar validación cruzada con 4 folds para evaluar las diferentes alternativas, hacemos el split teniendo en cuenta que son datos que siguen una serie temporal\n",
    "inner = TimeSeriesSplit(n_splits=4)\n",
    "inner_scores = {}\n",
    "for scaler_name, scaler in scalers.items():\n",
    "    # Construir el pipeline con el escalador y el modelo KNN\n",
    "    pipeline = Pipeline([('scaler', scaler), ('knn', KNeighborsRegressor())])\n",
    "\n",
    "    # Calcular el R2 y MSE con validación cruzada para el modelo con el escalador actual\n",
    "    scoring = ['r2', 'neg_mean_squared_error']\n",
    "\n",
    "    scores = cross_validate(pipeline, X_train, y_train, cv=inner, scoring=scoring)\n",
    "\n",
    "    r2_scores = scores['test_r2']\n",
    "    mse_scores = -scores['test_neg_mean_squared_error']\n",
    "\n",
    "    # Calcular la puntuación media para R2 y MSE\n",
    "    mean_r2_score = np.mean(r2_scores)\n",
    "    mean_mse_score = np.mean(mse_scores)\n",
    "\n",
    "    # Almacenar los resultados en el diccionario inner_scores\n",
    "    inner_scores[f'KNN con {scaler_name}'] = {'R2': mean_r2_score, 'MSE': mean_mse_score}\n",
    "\n",
    "\n",
    "# Imprimir los resultados\n",
    "for method, scores in inner_scores.items():\n",
    "    print(f'{method}:')\n",
    "    print(f'  R2: {scores[\"R2\"]}')\n",
    "    print(f'  MSE: {scores[\"MSE\"]}')"
   ]
  },
  {
   "cell_type": "markdown",
   "metadata": {
    "id": "hS4lmMNjcUzV"
   },
   "source": [
    "Escalar los datos es muy importante debido a varias razones:\n",
    "\n",
    "- Convergencia mejorada del algoritmo. Los algoritmos de aprendizaje automático tienden a funcionar mejor cuando las características se escalan en el mismo nivel. Esto se debe a que muchos algoritmos emplean técnicas de optimización basadas en el gradiente que dependen de la magnitud de las características. Si una de ellas tiene una escala mucho más alta que el resto, la optimización se enfoca en esa característica única, y el algoritmo no puede conducir a una solución óptima. \n",
    "- Impide que una característica domine el modelo. Si una de las características tiene una escala mucho mayor que el resto, podría dominar todas las demás y hacer que el modelo de aprendizaje automático sea demasiado sensible a ellos. En este caso, en lugar de depender de todas las entradas, el modelo se basaría en una y no aprendería mucho de las demás. Al escalar los datos, todas las características formarán la misma escala y evitarán ese problema.\n",
    "- Mejora la interpretación del modelo. Si las características comparten una escala similar, resulta más sencillo entender los coeficientes del modelo de aprendizaje automático. Es porque estos coeficientes reflejan la relevancia relativa de cada característica en el modelo. Si una característica tiene una escala mucho más amplia que otra, su coeficiente puede ser mayor en términos numéricos, pero eso no necesariamente implica que sea más importante en la predicción.\n",
    "\n",
    "Para la elección del método de escalado, se han tenido en cuenta 3 escaladores diferentes (los vistos en clase). Standard Scaler, normaliza los datos para que tengan una media de 0 y desviación estándar de 1, así las distancias euclidianas calculadas por KNN se volverían más representativas. MinMax Scaler, ajusta los datos para que estén en un rango de 0 a 1. Robust Scaler, similar a Standard Scaler pero más robusto a los outliers. Se ha usado validación cruzada y se han obtenido los valores R-cuadrado y MSE (mean squared error) como scoring para cada escalador. Por tanto, analizando estas métricas de evaluación, deberemos elegir aquel método que minimice el Error (MSE) y maximice el R-cuadrado, por ello el mejor método de escalado utilizando KNN es el Standard Scaler."
   ]
  },
  {
   "cell_type": "code",
   "execution_count": 33,
   "metadata": {
    "id": "tjtcv2pC3cRa"
   },
   "outputs": [],
   "source": [
    "# Importar librería para medir tiempo de ejecución\n",
    "import time"
   ]
  },
  {
   "cell_type": "markdown",
   "metadata": {
    "id": "fBMZYdAsUbHJ"
   },
   "source": [
    "# Evaluación de modelos con hiperparámetros por omisión"
   ]
  },
  {
   "cell_type": "markdown",
   "metadata": {
    "id": "Ru2XeXz_M9V2"
   },
   "source": [
    "En esta sección se van a considerar una serie de modelos de regresión para la predicción de la variable energía en función de sus características. Teniendo en cuenta los resultados del análisis de la sección anterior el método de escalado a utilizar es el Standard Scaler para todos los modelos considerados. La evaluación de modelos con hiperparámetros por omisión es una evaluación inner, por lo que se realizará validación cruzada"
   ]
  },
  {
   "cell_type": "code",
   "execution_count": 34,
   "metadata": {
    "id": "WqF0nt6HRTos"
   },
   "outputs": [],
   "source": [
    "# Definimos el método de escalado\n",
    "scaler = StandardScaler()\n",
    "# Escalamos los datos\n",
    "X_train_scaled = scaler.fit_transform(X_train)\n",
    "X_test_scaled = scaler.fit_transform(X_test)"
   ]
  },
  {
   "cell_type": "markdown",
   "metadata": {
    "id": "jfhP7cSzNHB6"
   },
   "source": [
    "## Evaluación modelo KNN para regresión"
   ]
  },
  {
   "cell_type": "code",
   "execution_count": 35,
   "metadata": {
    "id": "ge8b6OVwNYyT"
   },
   "outputs": [],
   "source": [
    "# Definimos el modelo con hiperparámetros por defecto\n",
    "knn = KNeighborsRegressor()"
   ]
  },
  {
   "cell_type": "code",
   "execution_count": 36,
   "metadata": {
    "colab": {
     "base_uri": "https://localhost:8080/"
    },
    "executionInfo": {
     "elapsed": 370,
     "status": "ok",
     "timestamp": 1712829755667,
     "user": {
      "displayName": "EDUARDO ALCONADA SOLA",
      "userId": "00409920475708315844"
     },
     "user_tz": -120
    },
    "id": "N1RQau_oPM2g",
    "outputId": "15ebcef6-8992-41b2-dc44-ab8cc6d636d7"
   },
   "outputs": [
    {
     "name": "stdout",
     "output_type": "stream",
     "text": [
      "Tiempo de ejecución: 0.4889 segundos\n",
      "R-squared: 0.5674676169780766\n",
      "Mean Squared Error (MSE): 190262.5467285617\n"
     ]
    }
   ],
   "source": [
    "start_time = time.time()\n",
    "\n",
    "# Realizamos la validación cruzada dos veces para obtener valores de las métricas de evaluación\n",
    "r2  = cross_val_score(knn, X_train_scaled, y_train, cv=inner, scoring='r2').mean()\n",
    "mse  = -cross_val_score(knn, X_train_scaled, y_train, cv=inner, scoring='neg_mean_squared_error').mean()\n",
    "end_time = time.time()\n",
    "\n",
    "#Imprimimos el tiempo de entrenamiento\n",
    "print(\"Tiempo de ejecución: {:.4f} segundos\".format(end_time-start_time))\n",
    "\n",
    "print(\"R-squared:\", r2)\n",
    "print(\"Mean Squared Error (MSE):\", mse)"
   ]
  },
  {
   "cell_type": "markdown",
   "metadata": {
    "id": "h0o_WdQgQAT9"
   },
   "source": [
    "## Evaluación modelo de árboles de regresión"
   ]
  },
  {
   "cell_type": "code",
   "execution_count": 37,
   "metadata": {
    "id": "pdYjU46SQF-w"
   },
   "outputs": [],
   "source": [
    "# Importamos el modelo\n",
    "from sklearn.tree import DecisionTreeRegressor"
   ]
  },
  {
   "cell_type": "code",
   "execution_count": 38,
   "metadata": {
    "colab": {
     "base_uri": "https://localhost:8080/"
    },
    "executionInfo": {
     "elapsed": 2,
     "status": "ok",
     "timestamp": 1712829759831,
     "user": {
      "displayName": "EDUARDO ALCONADA SOLA",
      "userId": "00409920475708315844"
     },
     "user_tz": -120
    },
    "id": "ky49x5tEQWpV",
    "outputId": "a63d093e-1ccf-4050-dcb7-accf000b4513"
   },
   "outputs": [
    {
     "name": "stdout",
     "output_type": "stream",
     "text": [
      "Tiempo de ejecución: 0.7906 segundos\n",
      "R-squared: 0.3522077845541236\n",
      "Mean Squared Error (MSE): 294897.9547043963\n"
     ]
    }
   ],
   "source": [
    "# Inicializar el modelo de árbol de decisión con hiperparámetros por defecto\n",
    "decision_tree = DecisionTreeRegressor()\n",
    "\n",
    "start_time = time.time()\n",
    "# Realizamos la validación cruzada dos veces para obtener valores de las métricas de evaluación\n",
    "r2  = cross_val_score(decision_tree, X_train_scaled, y_train, cv=inner, scoring='r2').mean()\n",
    "mse  = -cross_val_score(decision_tree, X_train_scaled, y_train, cv=inner, scoring='neg_mean_squared_error').mean()\n",
    "end_time = time.time()\n",
    "\n",
    "#Imprimimos el tiempo de entrenamiento\n",
    "print(\"Tiempo de ejecución: {:.4f} segundos\".format(end_time-start_time))\n",
    "\n",
    "print(\"R-squared:\", r2)\n",
    "print(\"Mean Squared Error (MSE):\", mse)"
   ]
  },
  {
   "cell_type": "markdown",
   "metadata": {
    "id": "5Ui-0dx9Qx-i"
   },
   "source": [
    "## Evaluación modelo de regresión lineal"
   ]
  },
  {
   "cell_type": "code",
   "execution_count": 39,
   "metadata": {
    "id": "_427cc4-Q-ZY"
   },
   "outputs": [],
   "source": [
    "# Importamos el modelo de regresión lineal\n",
    "from sklearn.linear_model import LinearRegression"
   ]
  },
  {
   "cell_type": "code",
   "execution_count": 40,
   "metadata": {
    "colab": {
     "base_uri": "https://localhost:8080/"
    },
    "executionInfo": {
     "elapsed": 368,
     "status": "ok",
     "timestamp": 1712829868257,
     "user": {
      "displayName": "EDUARDO ALCONADA SOLA",
      "userId": "00409920475708315844"
     },
     "user_tz": -120
    },
    "id": "_8ljJwu3RCK9",
    "outputId": "002380bf-b4d7-4167-c55f-2d83466f8993"
   },
   "outputs": [
    {
     "name": "stdout",
     "output_type": "stream",
     "text": [
      "Tiempo de ejecución: 0.0946 segundos\n",
      "R-squared: 0.2842249427700957\n",
      "Mean Squared Error (MSE): 317213.04183489963\n"
     ]
    }
   ],
   "source": [
    "# Inicializar el modelo de regresión lineal\n",
    "linear_regression = LinearRegression()\n",
    "\n",
    "start_time = time.time()\n",
    "# Realizamos la validación cruzada dos veces para obtener valores de las métricas de evaluación\n",
    "r2  = cross_val_score(linear_regression, X_train_scaled, y_train, cv=inner, scoring='r2').mean()\n",
    "mse  = -cross_val_score(linear_regression, X_train_scaled, y_train, cv=inner, scoring='neg_mean_squared_error').mean()\n",
    "end_time = time.time()\n",
    "#Imprimimos el tiempo de entrenamiento\n",
    "print(\"Tiempo de ejecución: {:.4f} segundos\".format(end_time-start_time))\n",
    "\n",
    "# Imprimimos el valor de las métricas\n",
    "print(\"R-squared:\", r2)\n",
    "print(\"Mean Squared Error (MSE):\", mse)"
   ]
  },
  {
   "cell_type": "markdown",
   "metadata": {
    "id": "9Nu2xflORuA-"
   },
   "source": [
    "## Evaluación modelo de regresión lineal (variante Lasso)"
   ]
  },
  {
   "cell_type": "code",
   "execution_count": 41,
   "metadata": {
    "id": "RViSVvghR58V"
   },
   "outputs": [],
   "source": [
    "# Importamos la regresión Lasso\n",
    "from sklearn.linear_model import Lasso"
   ]
  },
  {
   "cell_type": "code",
   "execution_count": 42,
   "metadata": {
    "colab": {
     "base_uri": "https://localhost:8080/"
    },
    "executionInfo": {
     "elapsed": 2,
     "status": "ok",
     "timestamp": 1712829873181,
     "user": {
      "displayName": "EDUARDO ALCONADA SOLA",
      "userId": "00409920475708315844"
     },
     "user_tz": -120
    },
    "id": "bIC82yB4R9Wa",
    "outputId": "36993468-9bd2-4c2e-f172-9befc2edb573"
   },
   "outputs": [
    {
     "name": "stderr",
     "output_type": "stream",
     "text": [
      "c:\\Users\\alexj\\AppData\\Local\\Programs\\Python\\Python311\\Lib\\site-packages\\sklearn\\linear_model\\_coordinate_descent.py:678: ConvergenceWarning: Objective did not converge. You might want to increase the number of iterations, check the scale of the features or consider increasing regularisation. Duality gap: 8.049e+05, tolerance: 2.893e+04\n",
      "  model = cd_fast.enet_coordinate_descent(\n",
      "c:\\Users\\alexj\\AppData\\Local\\Programs\\Python\\Python311\\Lib\\site-packages\\sklearn\\linear_model\\_coordinate_descent.py:678: ConvergenceWarning: Objective did not converge. You might want to increase the number of iterations, check the scale of the features or consider increasing regularisation. Duality gap: 1.467e+05, tolerance: 6.621e+04\n",
      "  model = cd_fast.enet_coordinate_descent(\n",
      "c:\\Users\\alexj\\AppData\\Local\\Programs\\Python\\Python311\\Lib\\site-packages\\sklearn\\linear_model\\_coordinate_descent.py:678: ConvergenceWarning: Objective did not converge. You might want to increase the number of iterations, check the scale of the features or consider increasing regularisation. Duality gap: 2.517e+05, tolerance: 9.598e+04\n",
      "  model = cd_fast.enet_coordinate_descent(\n",
      "c:\\Users\\alexj\\AppData\\Local\\Programs\\Python\\Python311\\Lib\\site-packages\\sklearn\\linear_model\\_coordinate_descent.py:678: ConvergenceWarning: Objective did not converge. You might want to increase the number of iterations, check the scale of the features or consider increasing regularisation. Duality gap: 2.953e+05, tolerance: 1.316e+05\n",
      "  model = cd_fast.enet_coordinate_descent(\n",
      "c:\\Users\\alexj\\AppData\\Local\\Programs\\Python\\Python311\\Lib\\site-packages\\sklearn\\linear_model\\_coordinate_descent.py:678: ConvergenceWarning: Objective did not converge. You might want to increase the number of iterations, check the scale of the features or consider increasing regularisation. Duality gap: 8.049e+05, tolerance: 2.893e+04\n",
      "  model = cd_fast.enet_coordinate_descent(\n",
      "c:\\Users\\alexj\\AppData\\Local\\Programs\\Python\\Python311\\Lib\\site-packages\\sklearn\\linear_model\\_coordinate_descent.py:678: ConvergenceWarning: Objective did not converge. You might want to increase the number of iterations, check the scale of the features or consider increasing regularisation. Duality gap: 1.467e+05, tolerance: 6.621e+04\n",
      "  model = cd_fast.enet_coordinate_descent(\n"
     ]
    },
    {
     "name": "stdout",
     "output_type": "stream",
     "text": [
      "Tiempo de ejecución: 0.3431 segundos\n",
      "R-squared: 0.2986511892939301\n",
      "Mean Squared Error (MSE): 309969.5474172401\n"
     ]
    },
    {
     "name": "stderr",
     "output_type": "stream",
     "text": [
      "c:\\Users\\alexj\\AppData\\Local\\Programs\\Python\\Python311\\Lib\\site-packages\\sklearn\\linear_model\\_coordinate_descent.py:678: ConvergenceWarning: Objective did not converge. You might want to increase the number of iterations, check the scale of the features or consider increasing regularisation. Duality gap: 2.517e+05, tolerance: 9.598e+04\n",
      "  model = cd_fast.enet_coordinate_descent(\n",
      "c:\\Users\\alexj\\AppData\\Local\\Programs\\Python\\Python311\\Lib\\site-packages\\sklearn\\linear_model\\_coordinate_descent.py:678: ConvergenceWarning: Objective did not converge. You might want to increase the number of iterations, check the scale of the features or consider increasing regularisation. Duality gap: 2.953e+05, tolerance: 1.316e+05\n",
      "  model = cd_fast.enet_coordinate_descent(\n"
     ]
    }
   ],
   "source": [
    "# Inicializar el modelo de regresión lineal con Lasso\n",
    "lasso_regression = Lasso()\n",
    "\n",
    "start_time = time.time()\n",
    "# Realizamos la validación cruzada dos veces para obtener valores de las métricas de evaluación\n",
    "r2  = cross_val_score(lasso_regression, X_train_scaled, y_train, cv=inner, scoring='r2').mean()\n",
    "mse  = -cross_val_score(lasso_regression, X_train_scaled, y_train, cv=inner, scoring='neg_mean_squared_error').mean()\n",
    "end_time = time.time()\n",
    "#Imprimimos el tiempo de entrenamiento\n",
    "print(\"Tiempo de ejecución: {:.4f} segundos\".format(end_time-start_time))\n",
    "\n",
    "# Imprimimos el valor de las métricas\n",
    "print(\"R-squared:\", r2)\n",
    "print(\"Mean Squared Error (MSE):\", mse)"
   ]
  },
  {
   "cell_type": "markdown",
   "metadata": {
    "id": "GOuvfk9mSNF9"
   },
   "source": [
    "## Evaluación modelo SVM para regresión"
   ]
  },
  {
   "cell_type": "code",
   "execution_count": 43,
   "metadata": {
    "id": "x3TeSdwMSR32"
   },
   "outputs": [],
   "source": [
    "# Importar el modelo SVM\n",
    "from sklearn.svm import SVR"
   ]
  },
  {
   "cell_type": "code",
   "execution_count": 44,
   "metadata": {
    "colab": {
     "base_uri": "https://localhost:8080/"
    },
    "executionInfo": {
     "elapsed": 1266,
     "status": "ok",
     "timestamp": 1712829878962,
     "user": {
      "displayName": "EDUARDO ALCONADA SOLA",
      "userId": "00409920475708315844"
     },
     "user_tz": -120
    },
    "id": "dZKk-WDeSVOT",
    "outputId": "87a01b92-832e-4660-ec3d-6bc6fe766441"
   },
   "outputs": [
    {
     "name": "stdout",
     "output_type": "stream",
     "text": [
      "Tiempo de ejecución: 3.2513 segundos\n",
      "R-squared: -0.007045798155287136\n",
      "Mean Squared Error (MSE): 445076.11419807613\n"
     ]
    }
   ],
   "source": [
    "# Inicializar el modelo de Support Vector Machine (SVM) para regresión\n",
    "svm_regressor = SVR()\n",
    "\n",
    "start_time = time.time()\n",
    "# Realizamos la validación cruzada dos veces para obtener valores de las métricas de evaluación\n",
    "r2  = cross_val_score(svm_regressor, X_train_scaled, y_train, cv=inner, scoring='r2').mean()\n",
    "mse  = -cross_val_score(svm_regressor, X_train_scaled, y_train, cv=inner, scoring='neg_mean_squared_error').mean()\n",
    "end_time = time.time()\n",
    "#Imprimimos el tiempo de entrenamiento\n",
    "print(\"Tiempo de ejecución: {:.4f} segundos\".format(end_time-start_time))\n",
    "\n",
    "# Imprimimos el valor de las métricas\n",
    "print(\"R-squared:\", r2)\n",
    "print(\"Mean Squared Error (MSE):\", mse)"
   ]
  },
  {
   "cell_type": "markdown",
   "metadata": {
    "id": "ybG4gEQe2xL7"
   },
   "source": [
    "# Ajuste de Hiperparámetros"
   ]
  },
  {
   "cell_type": "markdown",
   "metadata": {
    "id": "0ipgtd9l4Iho"
   },
   "source": [
    "Para la optimización de hiperparámetros se va a utilizar el método Grid Search, con el objetivo de hacer una búsqueda que permita obtener la mejor combinación de los hiperparámetros inherentes a cada modelo"
   ]
  },
  {
   "cell_type": "code",
   "execution_count": 45,
   "metadata": {
    "id": "W3JMyV6_7pln"
   },
   "outputs": [],
   "source": [
    "from sklearn.model_selection import GridSearchCV"
   ]
  },
  {
   "cell_type": "markdown",
   "metadata": {
    "id": "b3l4UI2S22gm"
   },
   "source": [
    "## Ajuste de Hiperparámetros para KNN"
   ]
  },
  {
   "cell_type": "code",
   "execution_count": 46,
   "metadata": {
    "colab": {
     "base_uri": "https://localhost:8080/"
    },
    "executionInfo": {
     "elapsed": 23321,
     "status": "ok",
     "timestamp": 1712829907030,
     "user": {
      "displayName": "EDUARDO ALCONADA SOLA",
      "userId": "00409920475708315844"
     },
     "user_tz": -120
    },
    "id": "6Ty7rDHM7tFI",
    "outputId": "e757e9f2-2fbf-40b7-9caa-9e186c90cb88"
   },
   "outputs": [
    {
     "name": "stdout",
     "output_type": "stream",
     "text": [
      "Fitting 4 folds for each of 120 candidates, totalling 480 fits\n",
      "Tiempo de ejecución: 38.6842 segundos\n",
      "Mejores hiperparámetros: {'algorithm': 'auto', 'leaf_size': 10, 'metric': 'manhattan', 'n_neighbors': 11, 'weights': 'distance'}\n"
     ]
    }
   ],
   "source": [
    "# Definir la cuadrícula de hiperparámetros\n",
    "param_grid = {\n",
    "    'n_neighbors': [9,11,13,15],\n",
    "    'weights': ['uniform', 'distance'],\n",
    "    'algorithm': ['auto'],\n",
    "    'leaf_size': [10, 20, 30, 40, 50],\n",
    "    'metric': ['euclidean', 'manhattan', 'chebyshev']\n",
    "}\n",
    "\n",
    "# Inicializar la búsqueda en cuadrícula con validación cruzada\n",
    "grid_search = GridSearchCV(knn, param_grid, cv=inner, scoring='neg_mean_squared_error', verbose=1)\n",
    "\n",
    "start_time = time.time()\n",
    "# Realizar la búsqueda en cuadrícula en los datos de entrenamiento\n",
    "grid_search.fit(X_train_scaled, y_train)\n",
    "end_time = time.time()\n",
    "\n",
    "print(\"Tiempo de ejecución: {:.4f} segundos\".format(end_time-start_time))\n",
    "\n",
    "# Mejor combinación de hiperparámetros encontrada\n",
    "print(\"Mejores hiperparámetros:\", grid_search.best_params_)"
   ]
  },
  {
   "cell_type": "markdown",
   "metadata": {
    "id": "9x1dZt7v-I3W"
   },
   "source": [
    "Para el ejuste de Hiperparámetros de KNN hemos tenido en cuenta los siguientes parámetros:\n",
    "- n_neighbors. Este parámetro define el número de vecinos más cercanos a considerar para realizar la predicción. Un valor mayor de n_neighbors puede conducir a una mayor estabilidad del modelo, pero también puede aumentar la computación. Un valor pequeño puede hacer que el modelo sea más sensible al ruido y a la elección de los datos de entrenamiento. Se suelen emplear valores impares para su determinación ya que así se evitan empates por votación. Se ha de tener en cuenta lo siguiente para la elección de este parámetro:\n",
    "   1. Sesgo y varianza: La elección de n_neighbors tiene un impacto significativo en el sesgo y la varianza del modelo KNN. Un valor bajo de n_neighbors puede conducir a un alto sesgo, lo que significa que el modelo puede hacer predicciones consistentemente incorrectas. Por otro lado, un valor alto de n_neighbors puede conducir a una alta varianza, lo que significa que el modelo puede ser muy sensible a pequeños cambios en los datos de entrenamiento y generar predicciones no confiables.\n",
    "\n",
    "   2. Rendimiento y eficiencia: Un valor bajo de n_neighbors generalmente conduce a un modelo más rápido y eficiente, ya que se necesitan menos cálculos para clasificar nuevos puntos de datos. Sin embargo, como se mencionó anteriormente, esto puede resultar en un mayor sesgo. Por el contrario, un valor alto de n_neighbors puede conducir a un modelo más preciso, pero también puede ser computacionalmente más costoso.\n",
    "\n",
    "   3. Ruido en los datos: Si los datos de entrenamiento están contaminados con ruido, un valor bajo de n_neighbors puede ser más susceptible a este ruido y generar predicciones inexactas. En tales casos, un valor alto de n_neighbors puede ayudar a suavizar el efecto del ruido y mejorar la robustez del modelo.\n",
    "\n",
    "   4. Interpretabilidad: Un valor bajo de n_neighbors puede conducir a un modelo más simple y fácil de interpretar, ya que se basa en un número menor de puntos de datos vecinos. Sin embargo, esto puede resultar en una menor precisión. Un valor alto de n_neighbors puede conducir a un modelo más preciso, pero también puede ser más difícil de interpretar debido a la mayor complejidad de las relaciones entre los puntos de datos.\n",
    "- weights. Este parámetro especifica cómo se ponderan los vecinos al realizar la predicción. Las dos opciones consideradas en este ajuste son: \n",
    "    - uniform, todos los vecinos tienen el mismo peso\n",
    "    - distance, los vecinos más cercanos tienen un peso mayor que los más lejanos. \n",
    "    \n",
    "    También se podría definir una función de pesos, pero no se encuentra relevante desarrollarla.\n",
    "- algorithm. Este parámetro define el algoritmo utilizado para buscar los vecinos más cercanos. Existen 3 diferentes, 'ball_tree', 'kd_tree' y 'brute' (fuerza bruta). También se puede utilizar 'auto' que decide el algoritmo más apropiado.\n",
    "- leaf_size. Este parámetro controla el tamaño de las hojas en el árbol KD (k-dimensional tree) utilizado para la búsqueda de vecinos. Un valor mayor de leaf_size puede mejorar la velocidad de búsqueda, pero puede disminuir la precisión. Se ha usado un rango de entre 10-50. Se ha de tener cuidado a la hora de decidir el valor de leaf size, ya que se pueden dar efectos negativos si el valor es pequeño:\n",
    "  1. Mayor sobreajuste: El principal efecto negativo de un valor bajo de leaf_size es el sobreajuste. El sobreajuste ocurre cuando el modelo se adapta demasiado a los datos de entrenamiento y no puede generalizar bien a los nuevos datos. Esto significa que el modelo puede funcionar muy bien en los datos de entrenamiento, pero no tan bien en los datos que no ha visto antes. Esto puede ser un problema grave, ya que el objetivo de un modelo de aprendizaje automático es ser capaz de hacer predicciones precisas sobre nuevos datos.\n",
    " \n",
    "  2. Mayor tiempo de entrenamiento: Otro efecto negativo de un valor bajo de leaf_size es que puede aumentar el tiempo de entrenamiento del regresor KNN. Esto se debe a que los árboles más profundos, que son creados por valores bajos de leaf_size, requieren más cálculos para entrenarse. Esto puede ser un problema si tiene un conjunto de datos grande o si necesita entrenar el modelo con frecuencia.\n",
    "\n",
    "  3. Mayor complejidad del modelo: Un valor bajo de leaf_size también puede aumentar la complejidad del modelo. Esto significa que el modelo será más difícil de interpretar y de depurar. Esto puede ser un problema si necesita entender cómo funciona el modelo o si necesita ajustarlo para un rendimiento óptimo.\n",
    "- metric. Este parámetro define la métrica de distancia utilizada para calcular la distancia entre los puntos. Se han empleado 3 posibles métricas: Distancia Euclídea, distancia en líena recta, Distancia Manhattan,  suma de distancias absolutas, y la distancia Chebyshev, máxima distancia absoluta en cualquier dimensión.\n",
    "\n",
    "\n",
    "Tras realizar el ajuste de hiperparámetros, se ha determinado que los siguientes valores son los óptimos para este modelo en concreto:\n",
    "- n_neighbors -> 11\n",
    "- weights -> Distance\n",
    "- algorithm -> auto (empleará el algoritmo más apropiado)\n",
    "- leaf_size -> 10\n",
    "- metric -> Distancia Manhattan\n",
    "\n",
    "Con la mejor combinación de los hiperparámeteos, se puede realizar una evaluación del rendimiento del modelo."
   ]
  },
  {
   "cell_type": "code",
   "execution_count": 47,
   "metadata": {
    "colab": {
     "base_uri": "https://localhost:8080/"
    },
    "executionInfo": {
     "elapsed": 519,
     "status": "ok",
     "timestamp": 1712829908423,
     "user": {
      "displayName": "EDUARDO ALCONADA SOLA",
      "userId": "00409920475708315844"
     },
     "user_tz": -120
    },
    "id": "vEbUuplh-QPU",
    "outputId": "eb8dc88d-b3fa-4c57-e95a-48cdd8d62d14"
   },
   "outputs": [
    {
     "name": "stdout",
     "output_type": "stream",
     "text": [
      "Mean Squared Error (MSE): 172642.4076397962\n",
      "R-squared: 0.6079307766126457\n"
     ]
    }
   ],
   "source": [
    "# Seleccionamos el mejor estmiador con la mejor configuración de hiperparámetros\n",
    "best_knn = grid_search.best_estimator_\n",
    "\n",
    "# Calcular el Error Cuadrático Medio (MSE)\n",
    "mse = - grid_search.best_score_\n",
    "print(\"Mean Squared Error (MSE):\", mse)\n",
    "\n",
    "# Calcular el coeficiente de determinación (R-cuadrado)\n",
    "r2 = cross_val_score(best_knn, X_train_scaled,y_train,cv=inner, scoring=\"r2\").mean()\n",
    "print(\"R-squared:\", r2)"
   ]
  },
  {
   "cell_type": "markdown",
   "metadata": {
    "id": "oowBtk2Z_G-v"
   },
   "source": [
    "Como se puede apreciar, el rendimiento outer del modelo ha mejorado de acuerdo a las métricas de evaluación.\n",
    "\n",
    "Con este ajuste de hiperparámetros se ha mejorado en 0.4 puntos el R-cuadrado y se ha reducido en 20 mil puntos el MSE tomando como referencia al modelo por omisión. Se ha tardado 30 segundos en hacer el ajuste para 120 posibles combinaciones de hiperparámetros."
   ]
  },
  {
   "cell_type": "markdown",
   "metadata": {
    "id": "4eQ-TFWS_i2d"
   },
   "source": [
    "## Ajuste de hiperparámetros para árboles de regresión"
   ]
  },
  {
   "cell_type": "code",
   "execution_count": 48,
   "metadata": {
    "colab": {
     "base_uri": "https://localhost:8080/",
     "height": 373
    },
    "executionInfo": {
     "elapsed": 319175,
     "status": "error",
     "timestamp": 1712830227594,
     "user": {
      "displayName": "EDUARDO ALCONADA SOLA",
      "userId": "00409920475708315844"
     },
     "user_tz": -120
    },
    "id": "K-ACGQqB_W9t",
    "outputId": "ca630089-1e94-4d4a-f032-2899da539426"
   },
   "outputs": [
    {
     "name": "stdout",
     "output_type": "stream",
     "text": [
      "Fitting 4 folds for each of 324 candidates, totalling 1296 fits\n",
      "Tiempo de ejecución: 455.7321 segundos\n",
      "Mejores hiperparámetros: {'criterion': 'squared_error', 'max_depth': 5, 'min_impurity_decrease': 0.0, 'min_samples_leaf': 8, 'min_samples_split': 2, 'random_state': 100454471}\n"
     ]
    }
   ],
   "source": [
    "# Definir la cuadrícula de hiperparámetros:\n",
    "# Esta cuadrícula ha sido actualizada respeto de la inicial para un mayor ajuste\n",
    "param_grid = {\n",
    "  'criterion': ['absolute_error', 'friedman_mse','squared_error', 'poisson'],  # Criterios de división\n",
    "  'max_depth': [None, 5, 10],  # Profundidad máxima del árbol\n",
    "  'min_samples_split': [2, 5, 10],  # Mínimo de muestras para dividir un nodo\n",
    "  'min_samples_leaf':[1, 4, 8],\n",
    "  'min_impurity_decrease':[0.0, 0.01, 0.05],\n",
    "  'random_state': [100454471]  # Semilla aleatoria para reproducibilidad\n",
    "}\n",
    "# Inicializar la búsqueda en cuadrícula con validación cruzada\n",
    "grid_search = GridSearchCV(decision_tree, param_grid, cv=inner, scoring='neg_mean_squared_error', verbose=1)\n",
    "\n",
    "start_time = time.time()\n",
    "# Realizar la búsqueda en cuadrícula en los datos de entrenamiento\n",
    "grid_search.fit(X_train_scaled, y_train)\n",
    "end_time = time.time()\n",
    "\n",
    "print(\"Tiempo de ejecución: {:.4f} segundos\".format(end_time-start_time))\n",
    "\n",
    "# Mejor combinación de hiperparámetros encontrada\n",
    "print(\"Mejores hiperparámetros:\", grid_search.best_params_)"
   ]
  },
  {
   "cell_type": "markdown",
   "metadata": {
    "id": "ZIKMD3IvGJYd"
   },
   "source": [
    "Para el ejuste de Hiperparámetros de árboles de regresión, hemos tenido en cuenta los siguientes parámetros:\n",
    "- criterion. Este parámetro define la medida de la impureza que se utiliza para decidir la división del siguiente nodo del árbol. Se han analizado los siguientes criterios:\n",
    "    - Absolute error. Es la opción más común. Se basa en la suma de los cuadrados de las diferencias entre los valores predichos por el árbol y los valores reales de la variable objetivo. Busca minimizar la magnitud total del error.\n",
    "    - Friedman MSE. Es similar al error cuadrático medio, pero utiliza una variante desarrollada por Friedman para árboles de decisión. Se dice que puede ser ligeramente más eficiente que el 'squared_error' para este tipo de modelos.\n",
    "    - Squared error. Es la opción más común. Se basa en la suma de los cuadrados de las diferencias entre los valores predichos por el árbol y los valores reales de la variable objetivo. Busca minimizar la magnitud total del error.\n",
    "    - Poisson. Esta opción se utiliza específicamente cuando la variable objetivo tiene una distribución de Poisson. La desviación de Poisson mide la diferencia entre los valores predichos y los valores reales teniendo en cuenta esta distribución. Es útil para modelar conteos o eventos discretos.\n",
    "- max_depth. Este parámetro establece la profundidad máxima del árbol. Se deben tener en cuenta los siguientes aspectos:\n",
    "   1. Sobreajuste y subajuste: El parámetro max_depth juega un papel crucial en la prevención del sobreajuste y el subajuste en Decision Tree Regressor. Un valor bajo de max_depth puede conducir a un subajuste, lo que significa que el modelo no captura suficientemente la complejidad de los datos de entrenamiento y genera predicciones imprecisas. Por otro lado, un valor alto de max_depth puede provocar un sobreajuste, donde el modelo memoriza los datos de entrenamiento pero no generaliza bien a nuevos datos.\n",
    "\n",
    "   2. Interpretabilidad: Un valor bajo de max_depth da como resultado árboles de decisión más simples y fáciles de interpretar, ya que tienen menos nodos y ramas. Esto puede ser útil para comprender la lógica detrás de las predicciones del modelo. Sin embargo, árboles más simples pueden tener una menor precisión. Por el contrario, árboles de mayor profundidad con valores altos de max_depth pueden ser más precisos, pero también más difíciles de interpretar debido a su mayor complejidad.\n",
    "\n",
    "   3. Rendimiento y eficiencia: Los árboles de decisión más profundos con valores altos de max_depth generalmente requieren más tiempo y recursos computacionales para entrenarse y hacer predicciones. Esto se debe a la mayor complejidad del modelo y al mayor número de cálculos necesarios. Por lo tanto, si tiene un conjunto de datos grande o limitaciones de tiempo, es posible que desee utilizar un valor bajo de max_depth para obtener un modelo más rápido y eficiente.\n",
    "\n",
    "   4. Ruido en los datos: Si los datos de entrenamiento están contaminados con ruido, un valor alto de max_depth puede amplificar el efecto del ruido y conducir a predicciones inexactas. En tales casos, un valor bajo de max_depth puede ayudar a reducir el impacto del ruido y mejorar la robustez del modelo.\n",
    "- min_samples_split. Este parámetro define el número mínimo de muestras que se deben usar para dividir un nodo. Un valor mayor evita que el árbol se divida en subgrupos con muy pocos datos, lo que puede mejorar la estabilidad del modelo. Un valor menor puede permitir que el árbol se ajuste mejor a los detalles de los datos, pero también aumenta el riesgo de sobreajuste.\n",
    "- min_samples_leaf. Este parámetro define el número mínimo de muestras que se deben tener en un nodo terminal (hoja) del árbol. Un valor mayor evita que se creen nodos terminales con muy pocos datos, lo que puede mejorar la estabilidad del modelo. Un valor menor puede permitir que el árbol capture mejor la variabilidad local de los datos, pero también aumenta el riesgo de sobreajuste.\n",
    "- min_impurity_decrease. Este parámetro define la reducción mínima de la impureza que se debe lograr para dividir un nodo. Un valor mayor evita que el árbol se divida en subgrupos con poca diferencia en la impureza, lo que puede mejorar la estabilidad del modelo. Un valor menor puede permitir que el árbol se ajuste mejor a los detalles de los datos, pero también aumenta el riesgo de sobreajuste.\n",
    "- random_state. Este parámetro controla la aleatoriedad del algoritmo. Un valor diferente generará un árbol diferente con una estructura ligeramente distinta. Se utiliza principalmente para realizar la validación cruzada. En este caso se usará como seed el NIA de uno de los integrantes del grupo.\n",
    "\n",
    "\n",
    "Tras realizar el ajuste de hiperparámetros, se ha determinado que los siguientes valores son los óptimos para este modelo:\n",
    "\n",
    "- criterion -> Squared Error\n",
    "- max_depth -> 5\n",
    "- min_samples_split -> 2\n",
    "- min_samples_leaf -> 8\n",
    "- min_impurity_decrease -> 0.0\n",
    "- random_state -> 100454471\n",
    "\n",
    "\n",
    "Con la mejor combinación de los hiperparámeteos, se puede realizar una evaluación del rendimiento del modelo:"
   ]
  },
  {
   "cell_type": "code",
   "execution_count": 49,
   "metadata": {
    "colab": {
     "base_uri": "https://localhost:8080/",
     "height": 211
    },
    "executionInfo": {
     "elapsed": 423,
     "status": "error",
     "timestamp": 1712830230588,
     "user": {
      "displayName": "EDUARDO ALCONADA SOLA",
      "userId": "00409920475708315844"
     },
     "user_tz": -120
    },
    "id": "FL2bUKWJGFYd",
    "outputId": "d6077299-70e6-4521-daf1-934fd40da921"
   },
   "outputs": [
    {
     "name": "stdout",
     "output_type": "stream",
     "text": [
      "Mean Squared Error (MSE): 181424.16808099585\n",
      "R-squared: 0.5879434760446856\n"
     ]
    }
   ],
   "source": [
    "# Entrenar el modelo con los mejores hiperparámetros en todos los datos de entrenamiento\n",
    "best_decision_tree = grid_search.best_estimator_\n",
    "\n",
    "# Calcular el Error Cuadrático Medio (MSE)\n",
    "mse = - grid_search.best_score_\n",
    "print(\"Mean Squared Error (MSE):\", mse)\n",
    "\n",
    "# Calcular el coeficiente de determinación (R-cuadrado)\n",
    "r2 = cross_val_score(best_decision_tree, X_train_scaled, y_train, cv=inner, scoring=\"r2\").mean()\n",
    "print(\"R-squared:\", r2)"
   ]
  },
  {
   "cell_type": "markdown",
   "metadata": {
    "id": "FUdNsqSAGR9B"
   },
   "source": [
    "## Ajuste de hiperparámetros para regresión lineal"
   ]
  },
  {
   "cell_type": "code",
   "execution_count": 50,
   "metadata": {
    "id": "SNYS_V1PHQlG"
   },
   "outputs": [
    {
     "name": "stdout",
     "output_type": "stream",
     "text": [
      "Fitting 4 folds for each of 4 candidates, totalling 16 fits\n",
      "Tiempo de ejecución: 0.1106 segundos\n",
      "Mejores hiperparámetros: {'fit_intercept': True, 'n_jobs': None}\n"
     ]
    }
   ],
   "source": [
    "# Definir la cuadrícula de hiperparámetros\n",
    "param_grid = {\n",
    "  'fit_intercept': [True, False],  # Incluir o no término intercepto\n",
    "  'n_jobs': [None, -1],  # Número de trabajos paralelos para el cómputo (opcional)\n",
    "}\n",
    "\n",
    "# Inicializar la búsqueda en cuadrícula con validación cruzada\n",
    "grid_search = GridSearchCV(linear_regression, param_grid, cv=inner, scoring='neg_mean_squared_error', verbose=1)\n",
    "\n",
    "start_time = time.time()\n",
    "# Realizar la búsqueda en cuadrícula en los datos de entrenamiento\n",
    "grid_search.fit(X_train_scaled, y_train)\n",
    "end_time = time.time()\n",
    "\n",
    "print(\"Tiempo de ejecución: {:.4f} segundos\".format(end_time-start_time))\n",
    "\n",
    "# Mejor combinación de hiperparámetros encontrada\n",
    "print(\"Mejores hiperparámetros:\", grid_search.best_params_)"
   ]
  },
  {
   "cell_type": "markdown",
   "metadata": {
    "id": "F22cIDymHwk_"
   },
   "source": [
    "Para el ajuste de hipérparámetros de la regresión lineal, tan solo se ha optado por incluir dos parámetos:\n",
    "- fit_intercept. Este parámetro controla si se incluye o no un término de intersección (término constante) en el modelo de regresión lineal.\n",
    "    - Si se establece en True, se incluye un término de intersección en la ecuación de regresión. Esto significa que el modelo tendrá en cuenta una constante que afecta a todas las predicciones, independientemente de las variables predictoras.\n",
    "    - Si se establece en False, no se incluye un término de intersección. En este caso, la ecuación de regresión pasa por el origen (0, 0), lo que significa que cuando todas las variables predictoras son cero, la predicción también es cero.\n",
    "\n",
    "    Habitualmente, dejar este parámetro en True, permite al modelo ajustarse mejor a los datos y capturar una relación más precisa entre variables predictoras y la variable objetivo.\n",
    "- n_jobs. Este parámetro controla el número de hilos que se utilizarán para realizar los cálculos de la regresión lineal. Si se usa el valor None, se utilizará el número máximo de hilos disponibles en su sistema.\n",
    "\n",
    "Tras realizar el ajuste de hiperparámetros, obtenemos los siguientes valores\n",
    "- fit_intercept -> True\n",
    "- n_jobs -> None\n",
    "\n",
    "Estos valores se ajustan a lo recomendado teóricamente.\n",
    "\n",
    "\n",
    "Con la mejor combinación de los hiperparámeteos, se puede realizar una evaluación del rendimiento del modelo:"
   ]
  },
  {
   "cell_type": "code",
   "execution_count": 51,
   "metadata": {
    "id": "wQSxLzZcJD8s"
   },
   "outputs": [
    {
     "name": "stdout",
     "output_type": "stream",
     "text": [
      "Mean Squared Error (MSE): 317213.04183489963\n",
      "R-squared: 0.2842249427700957\n"
     ]
    }
   ],
   "source": [
    "# Entrenar el modelo con los mejores hiperparámetros en todos los datos de entrenamiento\n",
    "best_linear_regression = grid_search.best_estimator_\n",
    "\n",
    "# Calcular el Error Cuadrático Medio (MSE)\n",
    "mse = - grid_search.best_score_\n",
    "print(\"Mean Squared Error (MSE):\", mse)\n",
    "\n",
    "# Calcular el coeficiente de determinación (R-cuadrado)\n",
    "r2 = cross_val_score(best_linear_regression, X_train_scaled, y_train, cv=inner, scoring=\"r2\").mean()\n",
    "print(\"R-squared:\", r2)"
   ]
  },
  {
   "cell_type": "markdown",
   "metadata": {
    "id": "xpuV94uDLjRW"
   },
   "source": [
    "## Ajuste de hiperparámetros para regresión lineal (variante Lasso)"
   ]
  },
  {
   "cell_type": "code",
   "execution_count": 52,
   "metadata": {
    "id": "OQp8NjMdLs46"
   },
   "outputs": [
    {
     "name": "stdout",
     "output_type": "stream",
     "text": [
      "Fitting 4 folds for each of 288 candidates, totalling 1152 fits\n"
     ]
    },
    {
     "name": "stderr",
     "output_type": "stream",
     "text": [
      "c:\\Users\\alexj\\AppData\\Local\\Programs\\Python\\Python311\\Lib\\site-packages\\sklearn\\linear_model\\_coordinate_descent.py:678: ConvergenceWarning: Objective did not converge. You might want to increase the number of iterations, check the scale of the features or consider increasing regularisation. Duality gap: 8.637e+04, tolerance: 2.893e+04\n",
      "  model = cd_fast.enet_coordinate_descent(\n",
      "c:\\Users\\alexj\\AppData\\Local\\Programs\\Python\\Python311\\Lib\\site-packages\\sklearn\\linear_model\\_coordinate_descent.py:678: ConvergenceWarning: Objective did not converge. You might want to increase the number of iterations, check the scale of the features or consider increasing regularisation. Duality gap: 7.343e+06, tolerance: 2.893e+04\n",
      "  model = cd_fast.enet_coordinate_descent(\n",
      "c:\\Users\\alexj\\AppData\\Local\\Programs\\Python\\Python311\\Lib\\site-packages\\sklearn\\linear_model\\_coordinate_descent.py:678: ConvergenceWarning: Objective did not converge. You might want to increase the number of iterations, check the scale of the features or consider increasing regularisation. Duality gap: 7.343e+06, tolerance: 2.893e+05\n",
      "  model = cd_fast.enet_coordinate_descent(\n",
      "c:\\Users\\alexj\\AppData\\Local\\Programs\\Python\\Python311\\Lib\\site-packages\\sklearn\\linear_model\\_coordinate_descent.py:678: ConvergenceWarning: Objective did not converge. You might want to increase the number of iterations, check the scale of the features or consider increasing regularisation. Duality gap: 7.343e+06, tolerance: 2.893e+06\n",
      "  model = cd_fast.enet_coordinate_descent(\n",
      "c:\\Users\\alexj\\AppData\\Local\\Programs\\Python\\Python311\\Lib\\site-packages\\sklearn\\linear_model\\_coordinate_descent.py:678: ConvergenceWarning: Objective did not converge. You might want to increase the number of iterations, check the scale of the features or consider increasing regularisation. Duality gap: 5.359e+05, tolerance: 2.893e+04\n",
      "  model = cd_fast.enet_coordinate_descent(\n",
      "c:\\Users\\alexj\\AppData\\Local\\Programs\\Python\\Python311\\Lib\\site-packages\\sklearn\\linear_model\\_coordinate_descent.py:678: ConvergenceWarning: Objective did not converge. You might want to increase the number of iterations, check the scale of the features or consider increasing regularisation. Duality gap: 5.359e+05, tolerance: 2.893e+05\n",
      "  model = cd_fast.enet_coordinate_descent(\n",
      "c:\\Users\\alexj\\AppData\\Local\\Programs\\Python\\Python311\\Lib\\site-packages\\sklearn\\linear_model\\_coordinate_descent.py:678: ConvergenceWarning: Objective did not converge. You might want to increase the number of iterations, check the scale of the features or consider increasing regularisation. Duality gap: 1.536e+06, tolerance: 6.433e+04\n",
      "  model = cd_fast.enet_coordinate_descent(\n",
      "c:\\Users\\alexj\\AppData\\Local\\Programs\\Python\\Python311\\Lib\\site-packages\\sklearn\\linear_model\\_coordinate_descent.py:678: ConvergenceWarning: Objective did not converge. You might want to increase the number of iterations, check the scale of the features or consider increasing regularisation. Duality gap: 2.687e+06, tolerance: 1.409e+05\n",
      "  model = cd_fast.enet_coordinate_descent(\n",
      "c:\\Users\\alexj\\AppData\\Local\\Programs\\Python\\Python311\\Lib\\site-packages\\sklearn\\linear_model\\_coordinate_descent.py:678: ConvergenceWarning: Objective did not converge. You might want to increase the number of iterations, check the scale of the features or consider increasing regularisation. Duality gap: 1.725e+06, tolerance: 1.956e+05\n",
      "  model = cd_fast.enet_coordinate_descent(\n",
      "c:\\Users\\alexj\\AppData\\Local\\Programs\\Python\\Python311\\Lib\\site-packages\\sklearn\\linear_model\\_coordinate_descent.py:678: ConvergenceWarning: Objective did not converge. You might want to increase the number of iterations, check the scale of the features or consider increasing regularisation. Duality gap: 1.536e+06, tolerance: 6.433e+05\n",
      "  model = cd_fast.enet_coordinate_descent(\n",
      "c:\\Users\\alexj\\AppData\\Local\\Programs\\Python\\Python311\\Lib\\site-packages\\sklearn\\linear_model\\_coordinate_descent.py:678: ConvergenceWarning: Objective did not converge. You might want to increase the number of iterations, check the scale of the features or consider increasing regularisation. Duality gap: 2.687e+06, tolerance: 1.409e+06\n",
      "  model = cd_fast.enet_coordinate_descent(\n",
      "c:\\Users\\alexj\\AppData\\Local\\Programs\\Python\\Python311\\Lib\\site-packages\\sklearn\\linear_model\\_coordinate_descent.py:678: ConvergenceWarning: Objective did not converge. You might want to increase the number of iterations, check the scale of the features or consider increasing regularisation. Duality gap: 1.006e+05, tolerance: 6.433e+04\n",
      "  model = cd_fast.enet_coordinate_descent(\n",
      "c:\\Users\\alexj\\AppData\\Local\\Programs\\Python\\Python311\\Lib\\site-packages\\sklearn\\linear_model\\_coordinate_descent.py:678: ConvergenceWarning: Objective did not converge. You might want to increase the number of iterations, check the scale of the features or consider increasing regularisation. Duality gap: 1.306e+05, tolerance: 2.893e+04\n",
      "  model = cd_fast.enet_coordinate_descent(\n"
     ]
    },
    {
     "name": "stdout",
     "output_type": "stream",
     "text": [
      "Tiempo de ejecución: 97.1087 segundos\n",
      "Mejores hiperparámetros: {'alpha': 1.0, 'fit_intercept': True, 'max_iter': 10000, 'positive': False, 'random_state': 100454471, 'selection': 'cyclic', 'tol': 0.0001}\n"
     ]
    }
   ],
   "source": [
    "# Definir la cuadrícula de hiperparámetros\n",
    "param_grid = {\n",
    "    'alpha': [0.1, 0.5, 1.0, 2.0],  # Parámetro de regularización\n",
    "    'fit_intercept': [True, False],  # Si se debe calcular la intersección\n",
    "    'max_iter': [10000, 15000, 20000],  # Número máximo de iteraciones\n",
    "    'tol': [0.0001, 0.001, 0.01],  # Tolerancia para la optimización\n",
    "    'positive': [True, False],  # Si se deben restringir los coeficientes a ser positivos\n",
    "    'selection': ['cyclic', 'random'],  # Estrategia de selección de características\n",
    "    'random_state': [100454471]  # Semilla para la aleatoriedad\n",
    "}\n",
    "\n",
    "# Inicializar la búsqueda en cuadrícula con validación cruzada\n",
    "grid_search = GridSearchCV(lasso_regression, param_grid, cv=inner, scoring='neg_mean_squared_error', verbose=1)\n",
    "\n",
    "start_time = time.time()\n",
    "# Realizar la búsqueda en cuadrícula en los datos de entrenamiento\n",
    "grid_search.fit(X_train_scaled, y_train)\n",
    "end_time = time.time()\n",
    "\n",
    "print(\"Tiempo de ejecución: {:.4f} segundos\".format(end_time-start_time))\n",
    "\n",
    "# Mejor combinación de hiperparámetros encontrada\n",
    "print(\"Mejores hiperparámetros:\", grid_search.best_params_)"
   ]
  },
  {
   "cell_type": "markdown",
   "metadata": {},
   "source": [
    "Para el ajuste de hipérparámetros de la regresión lineal (variante Lasso), se ha optado por incluir los siguientes parámetos:\n",
    "\n",
    "- alpha. Es el parámetro de regularización. Controla la intensidad de la regularización L1, que penaliza la magnitud de los coeficientes del modelo. Un valor más alto de alpha conduce a una mayor penalización, lo que resulta en un modelo más simple con menos coeficientes no nulos. Esto puede ayudar a evitar el sobreajuste y mejorar la generalización. Por otro lado, un valor bajo de alpha implica una menor penalización, lo que permite un modelo más complejo con más coeficientes. Esto puede mejorar el ajuste a los datos de entrenamiento, pero a costa de un mayor riesgo de sobreajuste.\n",
    "- fit_intercept. Es el mismo que en la Regresión lineal estándar.\n",
    "- max_iter. Este parámetro establece el número máximo de veces que el algoritmo de Lasso iterará para encontrar la solución óptima. Un valor más alto de max_iter permite que el algoritmo explore más a fondo el espacio de soluciones y potencialmente encuentre una mejor solución. Sin embargo, también aumenta el tiempo de computación. Un valor bajo de max_iter puede limitar la capacidad del algoritmo para converger a una buena solución, especialmente para problemas complejos o con muchos datos.\n",
    "- tol. Es la tolerancia para la optimización. Este parámetro define la precisión mínima con la que se debe encontrar la solución óptima. Un valor más bajo de tol exige una mayor precisión en la solución, lo que puede aumentar el tiempo de computación. Un valor alto de tol permite una solución menos precisa, pero puede acelerar el proceso de entrenamiento.\n",
    "- positive. Este parámetro determina si se deben restringir o no los coeficientes a ser positivos. Puede ser útil en casos donde se tiene una interpretación natural para los coeficientes en términos de relaciones positivas entre las variables. En este caso no existe ninguna razón específica por la que restringir los coeficientes a ser positivos, por lo que, teóricamente, el valor debe ser False\n",
    "- selection. Este parámetro controla la estrategia de selección de características. Define cómo el algoritmo Lasso elige qué características (variables predictoras) incluir en el modelo final. \n",
    "    - cyclic: Esta es la estrategia predeterminada. Recorre cíclicamente las características una a una. Para cada característica, si el coeficiente actual es cero, se comprueba si agregarlo al modelo mejoraría el criterio de optimización. Si es así, se agrega y su coeficiente se actualiza mediante el algoritmo Lasso. Si, por el contrario, su coeficiente actual es distinto de cero, se comprueba si eliminarlo del modelo mejoraría el criterio de optimización. Si es así, se elimina y su coeficiente se establece en cero.\n",
    "    - random: Esta estrategia selecciona las variables aleatoriamente. En cada iteración, se selecciona una variable al azar y se evalúa su impacto en el error del modelo. Si la selección de la variable reduce el error sin violar la restricción de regularización L1, se mantiene. Este proceso se repite hasta que se alcanza el número máximo de iteraciones o hasta que no se seleccionan más variables.\n",
    "- random_state. Se utilizará como semilla el NIA de uno de los integrantes del grupo.\n",
    "\n",
    "Tras realizar el ajuste de hiperparámetros, se obtienen los siguientes valores:\n",
    "- alpha -> 1.0\n",
    "- fit_intercept -> True\n",
    "- max_iter -> 10000\n",
    "- tol -> 0.0001\n",
    "- positive -> False\n",
    "- selection -> cyclic\n",
    "- random_state -> 100454471\n",
    "\n",
    "Con la mejor combinación de los hiperparámeteos, se puede realizar una evaluación del rendimiento del modelo:"
   ]
  },
  {
   "cell_type": "code",
   "execution_count": 53,
   "metadata": {
    "colab": {
     "base_uri": "https://localhost:8080/"
    },
    "executionInfo": {
     "elapsed": 262,
     "status": "ok",
     "timestamp": 1712775058935,
     "user": {
      "displayName": "EDUARDO ALCONADA SOLA",
      "userId": "00409920475708315844"
     },
     "user_tz": -120
    },
    "id": "AznpMjZYLzUU",
    "outputId": "ffb0ca4c-9a8c-4ceb-b93b-93b193a5b37f"
   },
   "outputs": [
    {
     "name": "stdout",
     "output_type": "stream",
     "text": [
      "Mean Squared Error (MSE): 309923.2125316006\n",
      "R-squared: 0.29874920652886916\n"
     ]
    }
   ],
   "source": [
    "# Entrenar el modelo con los mejores hiperparámetros en todos los datos de entrenamiento\n",
    "best_lasso_regression = grid_search.best_estimator_\n",
    "\n",
    "# Calcular el Error Cuadrático Medio (MSE)\n",
    "mse = - grid_search.best_score_\n",
    "print(\"Mean Squared Error (MSE):\", mse)\n",
    "\n",
    "# Calcular el coeficiente de determinación (R-cuadrado)\n",
    "r2 = cross_val_score(best_lasso_regression, X_train_scaled, y_train, cv=inner, scoring=\"r2\").mean()\n",
    "print(\"R-squared:\", r2)"
   ]
  },
  {
   "cell_type": "markdown",
   "metadata": {},
   "source": [
    "El modelo Lasso nos permite además ver qué atributos son relevantes en la regresión, evaluando los coeficientes, de manera que si existen coeficientes iguales a 0, eso implica que los atrinutos asociados a dichos coeficientes no son significativos en el modelo."
   ]
  },
  {
   "cell_type": "code",
   "execution_count": 54,
   "metadata": {},
   "outputs": [
    {
     "name": "stdout",
     "output_type": "stream",
     "text": [
      "Características no significativas: Index(['lai_lv.13', 'u10n.13', 'sp.13', 'stl2.13'], dtype='object')\n"
     ]
    }
   ],
   "source": [
    "coefs = best_lasso_regression.coef_\n",
    "\n",
    "# Obtener características no significativas (coeficientes nulos)\n",
    "non_significative_features = np.where(coefs == 0)[0]\n",
    "\n",
    "# Obtener nombres de características no significativas \n",
    "features_names = cleaned_wind_ava.columns\n",
    "print(\"Características no significativas:\", features_names[non_significative_features])"
   ]
  },
  {
   "cell_type": "markdown",
   "metadata": {},
   "source": [
    "Por tanto en el modelo de regresión Lasso, estas variables no deberían de ser incluidas debido a que no son significativas y no aportan información a la hora de predecir la variable de respuesta. Esta es una *técnica de selección de atributos relevantes*"
   ]
  },
  {
   "cell_type": "markdown",
   "metadata": {
    "id": "x0K9-OSXM8pK"
   },
   "source": [
    "## Ajuste de hiperparámetros para SVM de regresión"
   ]
  },
  {
   "cell_type": "code",
   "execution_count": 55,
   "metadata": {
    "colab": {
     "base_uri": "https://localhost:8080/"
    },
    "executionInfo": {
     "elapsed": 666901,
     "status": "ok",
     "timestamp": 1712831192380,
     "user": {
      "displayName": "EDUARDO ALCONADA SOLA",
      "userId": "00409920475708315844"
     },
     "user_tz": -120
    },
    "id": "Z6X7ewbpNife",
    "outputId": "1609c3d5-0269-4224-8556-afcf8d369899"
   },
   "outputs": [
    {
     "name": "stdout",
     "output_type": "stream",
     "text": [
      "Fitting 4 folds for each of 108 candidates, totalling 432 fits\n",
      "Tiempo de ejecución: 653.0455 segundos\n",
      "Mejores hiperparámetros: {'C': 1500, 'degree': 2, 'epsilon': 1.0, 'gamma': 'scale', 'kernel': 'rbf'}\n"
     ]
    }
   ],
   "source": [
    "# Definir la cuadrícula de hiperparámetros\n",
    "param_grid = {\n",
    "  'kernel': ['rbf', 'linear', 'poly'],  # Kernel function\n",
    "  'C': [1500,1600,1700],  # Regularization parameter\n",
    "  'gamma': ['scale', 'auto'],  # Kernel coefficient (for rbf and poly kernels)\n",
    "  'epsilon': [0.01, 0.1, 1.0],  # Insensitivity parameter for epsilon-SVR\n",
    "  'degree': [2, 3],  # Degree of the polynomial kernel (if kernel='poly')\n",
    "}\n",
    "\n",
    "\n",
    "# Inicializar la búsqueda en cuadrícula con validación cruzada\n",
    "grid_search = GridSearchCV(svm_regressor, param_grid, cv=inner, scoring='neg_mean_squared_error', verbose=1)\n",
    "\n",
    "start_time = time.time()\n",
    "# Realizar la búsqueda en cuadrícula en los datos de entrenamiento\n",
    "grid_search.fit(X_train_scaled, y_train)\n",
    "end_time = time.time()\n",
    "\n",
    "print(\"Tiempo de ejecución: {:.4f} segundos\".format(end_time-start_time))\n",
    "\n",
    "# Mejor combinación de hiperparámetros encontrada\n",
    "print(\"Mejores hiperparámetros:\", grid_search.best_params_)"
   ]
  },
  {
   "cell_type": "markdown",
   "metadata": {},
   "source": [
    "Para el ajuste de hipérparámetros de el modelo SVM, se ha optado por incluir los suiguientes parámetos:\n",
    "- Kernel. Este parámetro define la función del kernel utilizada por el SVR. El kernel transforma las entradas a un espacio de mayor dimensión donde se puede encontrar una mejor separación entre las clases (en este caso, valores de la variable objetivo). Las opciones son:\n",
    "    - 'rbf' (Radial Basis Function): Un kernel popular y versátil que suele funcionar bien en una variedad de problemas.\n",
    "    - 'linear': Un kernel lineal que funciona mejor cuando la relación entre las variables y la variable objetivo es linealmente separable.\n",
    "    - 'poly': Un kernel polinomial que puede capturar relaciones no lineales, pero puede ser susceptible al sobreajuste con un grado alto.\n",
    "- C. Este parámetro controla la intensidad de la regularización. Un valor más alto de C penaliza más los errores de clasificación y conduce a un modelo más ajustado a los datos de entrenamiento. Sin embargo, también aumenta el riesgo de sobreajuste. Un valor bajo de C permite un modelo más flexible pero puede conducir a un peor rendimiento en datos no vistos. Se ha detectado que este parámetro es el más influyente en el modelo. Cuando se usaba un valor de C muy bajo, el R-cuadrado era muy bajo (en torno al 0.2), al incrementar el valor de C, se incrementa el valor de R de manera logarítmica. Llegado aproximadamente el valor 1700, el incremento marginal es muy pequeño en comparación con la ganancia de precisión y el aumento de tiempo en entrenar el modelo. Esto se debe a que a mayor margen, mayor precisión (en general). Un margen más grande permite que el hiperplano separador se ajuste más estrechamente a los datos de entrenamiento, lo que puede conducir a una mejor separación de las clases y, por lo tanto, a una mayor precisión en la predicción. Sin embargo, es importante tener en cuenta que un margen demasiado grande puede conducir a un sobreajuste, donde el modelo memoriza los datos de entrenamiento pero no generaliza bien a nuevos datos.\n",
    "- gamma. Este parámetro define el coeficiente del kernel para los kernels 'rbf' y 'poly'. Controla la influencia de cada punto de datos en la decisión.\n",
    "    - 'scale': Utiliza el inverso de la varianza de las características para escalar el kernel.\n",
    "    - 'auto': Utiliza el inverso del número de características como valor de gamma.\n",
    "- epsilon. Este parámetro define la insensibilidad en la regresión Epsilon-SVR. Define una zona de tolerancia alrededor de la línea de regresión ideal. Los puntos que caen dentro de esta zona se consideran correctos y no contribuyen al error del modelo. Un valor más bajo de epsilon conduce a un modelo más ajustado, pero puede ser más sensible a los valores atípicos (outliers). Un valor más alto de epsilon permite una mayor tolerancia al error y puede ser más robusto frente a outliers. Se incluyen valores bajos, medios, y altos para la insensibilidad, permitiendo encontrar un balance entre ajuste y tolerancia al error.\n",
    "- degree. Este parámetro define el grado del polinomio utilizado para el kernel 'poly'. Un grado mayor permite capturar relaciones más complejas pero también aumenta el riesgo de sobreajuste. Se limita a 2 y 3, cubriendo grados polinomiales comunes sin entrar en un espacio demasiado complejo.\n",
    "\n",
    "Tras realizar el ajuste de hiperparámetros, obtenemos los siguientes valores\n",
    "- Kernel -> rbf\n",
    "- C -> 1500\n",
    "- gamma -> scale\n",
    "- epsilon -> 1.0\n",
    "- degree -> 2\n",
    "\n",
    "Estos valores se ajustan a lo recomendado teóricamente.\n",
    "\n",
    "\n",
    "Con la mejor combinación de los hiperparámeteos, se puede realizar una evaluación del rendimiento del modelo:"
   ]
  },
  {
   "cell_type": "code",
   "execution_count": 56,
   "metadata": {
    "colab": {
     "base_uri": "https://localhost:8080/"
    },
    "executionInfo": {
     "elapsed": 6132,
     "status": "ok",
     "timestamp": 1712831234044,
     "user": {
      "displayName": "EDUARDO ALCONADA SOLA",
      "userId": "00409920475708315844"
     },
     "user_tz": -120
    },
    "id": "atoEVoD5NxY9",
    "outputId": "38e6fc35-cec2-4e7e-dd25-cdd85eb14c1f"
   },
   "outputs": [
    {
     "name": "stdout",
     "output_type": "stream",
     "text": [
      "Mean Squared Error (MSE): 148075.45824854771\n",
      "R-squared: 0.6652035240192189\n"
     ]
    }
   ],
   "source": [
    "# Entrenar el modelo con los mejores hiperparámetros en todos los datos de entrenamiento\n",
    "best_svm = grid_search.best_estimator_\n",
    "\n",
    "# Calcular el Error Cuadrático Medio (MSE)\n",
    "mse = - grid_search.best_score_\n",
    "print(\"Mean Squared Error (MSE):\", mse)\n",
    "\n",
    "# Calcular el coeficiente de determinación (R-cuadrado)\n",
    "r2 = cross_val_score(best_svm, X_train_scaled, y_train, cv=inner, scoring=\"r2\").mean()\n",
    "print(\"R-squared:\", r2)"
   ]
  },
  {
   "cell_type": "markdown",
   "metadata": {
    "id": "RdK3q_7cYK0h"
   },
   "source": [
    "## Conclusiones del ajuste de hiperparámetros"
   ]
  },
  {
   "cell_type": "markdown",
   "metadata": {
    "id": "Zz5GJY3TvF0B"
   },
   "source": [
    "El ajuste de hiperparámetros es un proceso crucial en el desarrollo de modelos de aprendizaje automático y en particular en algoritmos de aprendizaje supervisado como lo son los modelos considerados.\n",
    "\n",
    "Los hiperparámetros son configuraciones que se establecen antes del entrenamiento del modelo y no se aprenden directamente del conjunto de datos. Son parámetros que controlan el comportamiento del algoritmo de aprendizaje y, por lo tanto, afectan el rendimiento y la capacidad de generalización del modelo.\n",
    "\n",
    "El ajuste de hiperparámetros implica encontrar la combinación óptima de valores para estos parámetros de manera que el modelo produzca los mejores resultados posibles en un conjunto de datos de validación o prueba. Esto se realiza a través de métodos como búsqueda exhaustiva, búsqueda aleatoria, optimización bayesiana, entre otros.\n",
    "\n",
    "La utilidad del ajuste de hiperparámetros radica en mejorar el rendimiento del modelo, lo que se traduce en una mayor precisión, una mejor capacidad de generalización y, en última instancia, en la capacidad de hacer predicciones más precisas sobre datos nuevos y no vistos. Además, el ajuste adecuado de los hiperparámetros puede ayudar a evitar problemas como sobreajuste (overfitting) o subajuste (underfitting), que son fenómenos comunes en el aprendizaje automático y que pueden comprometer la calidad de los modelos. En resumen, el ajuste de hiperparámetros es esencial para maximizar el rendimiento y la eficacia de los modelos de aprendizaje automático.\n",
    "\n",
    "En conncreto, se puede ver una mejora del rendimiento de acuerdo a las métricas de evaluación en los modelos debido al ajuste de los hiperparámetros en los mismos utilizando la búsqueda de rejilla (que evalua todas las combinaciones posibles de los valores que pueden tomar los hiperparámetros para un modelo específico):\n",
    "\n",
    "- KNN:\n",
    "\n",
    "  El ajuste final tiene un mejor desempeño que el inicial (evaluación inner).\n",
    "\n",
    "  Desempeño inicial (por omisión de hiperparámetros):\n",
    "    - Mean Squared Error (MSE): 190578.94869890803\n",
    "    - R-squared: 0.5665430720183313\n",
    "\n",
    "\n",
    "    - Mean Squared Error (MSE): 172642.4076397962\n",
    "    - R-squared: 0.6079307766126457\n",
    "  \n",
    "\n",
    "\n",
    "- Árboles de regresión: \n",
    "  El ajuste final tiene un mejor desempeño que el inicial (evaluación inner).\n",
    "\n",
    "  Desempeño inicial (por omisión de hiperparámetros):\n",
    "    - Mean Squared Error (MSE): 291081.19738630095\n",
    "    - R-squared: 0.36068178822920716\n",
    "\n",
    "  Desempeño final:\n",
    "    - Mean Squared Error (MSE): 181424.16808099585  \n",
    "    - R-squared: 0.5879434760446856\n",
    "\n",
    "\n",
    "\n",
    "- Regresion Lineal: \n",
    "  El ajuste final tiene un mejor desempeño que el inicial (evaluación inner).\n",
    "\n",
    "  Desempeño inicial (por omisión de hiperparámetros):\n",
    "    - Mean Squared Error (MSE): 318241.21337727335\n",
    "    - R-squared: 0.28195593868671154\n",
    "\n",
    "\n",
    "\n",
    "  Desempeño final:\n",
    "    - Mean Squared Error (MSE): 317213.04183489963\n",
    "    - R-squared: 0.2842249427700957\n",
    "\n",
    "\n",
    "\n",
    "\n",
    "- Regresión Lineal (Variante Lasso): \n",
    "  El ajuste final tiene un mejor desempeño que el inicial (evaluación inner).\n",
    "y peo\n",
    "  Desempeño inicial (por omisión de hiperparámetros):\n",
    "    - Mean Squared Error (MSE): 310649.3853783611\n",
    "    - R-squared: 0.29715311589947146\n",
    "\n",
    "\n",
    "\n",
    "  Desempeño final:\n",
    "    - Mean Squared Error (MSE): 309923.2125316006\n",
    "    - R-squared:0.29874920652886916\n",
    "\n",
    "\n",
    "\n",
    "    \n",
    "- SVM: \n",
    "  El ajuste final tiene un mejor desempeño que el inicial (evaluación inner).\n",
    "\n",
    "  Desempeño inicial (por omisión de hiperparámetros):\n",
    "    - Mean Squared Error (MSE): 445108.0728078985\n",
    "    - R-squared: -0.008026852646352445\n",
    "\n",
    "\n",
    "\n",
    "  Desempeño final:\n",
    "    - Mean Squared Error (MSE): 148075.45824854771\n",
    "    - R-squared: 0.6652035240192189\n",
    "\n",
    "Se observa que el modelo que tiene una mayor mejora es el SVM y aquel con peor desempeño y peor mejora de la precisión es la Regresión Lineal variante Lasso. \n",
    "\n",
    "En cuanto a los tiempos de entrenamiento, se observa que en omisión de hiperparámetros, los tiempos son todos inferiores a 0.5 segundos, salvo SVM que tarda en torno a 1.9 segundos en entrenarse. De estos resultados se puede inferir que el modelo más complejo computacionalmente es el SVM. Sin embargo, en omisión de hiperparámetros, pese a ser el más costoso, no es, ni de lejos, el mejor modelo. De hecho, es el peor de los 5 modelos de Regresión, con el MSE más alto de todos y el R-cuadrado más bajo.\n",
    "\n",
    "Al realizar el ajuste de hiperparámetros, es el SVM el modelo que precibe una mayor mejora, situándose como el modelo con menor Error cuadrático medio y mayor R-cuadrado. Sin embargo, también es el modelo que más tarda en realizar los ajustes en Grid Search, pese a no ser el modelo con más combinación de hiperparámetros. Es un resultado esperable ya que por omisión de hiperparámetros sabemos que es el modelo con mayor coste computacional en ser entrenado."
   ]
  },
  {
   "cell_type": "markdown",
   "metadata": {
    "id": "U3KkV5d790A7"
   },
   "source": []
  },
  {
   "cell_type": "markdown",
   "metadata": {
    "id": "X0EfOgM0DCYJ"
   },
   "source": [
    "## Conclusiones generales a cerca de los modelos considerados"
   ]
  },
  {
   "cell_type": "markdown",
   "metadata": {
    "id": "ygI7UkVqDRB2"
   },
   "source": [
    "### ¿Cúal es el mejor método?"
   ]
  },
  {
   "cell_type": "markdown",
   "metadata": {
    "id": "OsOqyMthDJ5Z"
   },
   "source": [
    "\n",
    "Para evaluar cual es el mejor metodo se deben comparar los valores de las métricas de todos los modelos y hacer un estudio comparativo.\n",
    "La siguiente tabla muestra el MSE y el R^2 para cada modelo, después del ajuste de hiperparámetros:  \n",
    "\n",
    "| MODELO | MSE | R^2 |\n",
    "|---|---|---|\n",
    "| KNN para regresión | 162.521,75 | 0.61 |\n",
    "| Árbol de regresion | 201.507,90 | 0.58 |\n",
    "| Regresión Lineal | 279.901,44 | 0.28 |\n",
    "| Regresión Lineal Lasso | 325.408,15 | 0.3|\n",
    "| SVM para regresión | 209.516,37 | 0.66 |\n",
    "\n"
   ]
  },
  {
   "cell_type": "markdown",
   "metadata": {
    "id": "P9Pr50ZsI3tN"
   },
   "source": [
    "Como puede apreciarse el modelo con un error cuadrático medio menor y un coeficiente de determinación mayor es el modelo knn para regresión. Por tanto, según estas métricas de evaluación el mejor modelo  es el SVR (SVM para regresión)."
   ]
  },
  {
   "cell_type": "markdown",
   "metadata": {
    "id": "tZfHKqJ4I6GW"
   },
   "source": [
    "### ¿Cuál de los métodos básicos de aprendizaje automático es más rápido?"
   ]
  },
  {
   "cell_type": "markdown",
   "metadata": {
    "id": "oSFHzlhSI896"
   },
   "source": [
    "En la siguiente tabla se muestran los tiempos del Grid Search por modelo:\n",
    "\n",
    "| Modelo                 | t_ejecución(s) |\n",
    "|------------------------|----------------|\n",
    "| KNN para regresión     | 27,76          |\n",
    "| Árbol de regresión     | 317,11         |\n",
    "| Regresión Lineal       | 0,47           |\n",
    "| Regresión Lineal Lasso | 48,32          |\n",
    "| SVM para regresión     | 379.09         |\n"
   ]
  },
  {
   "cell_type": "markdown",
   "metadata": {
    "id": "HAZVqsLIJPie"
   },
   "source": [
    "Comparamos por tiempo que ocupa la tarea de optimización de hiperparámetros porque las tareas de predicción ocupan un tiempo de ejecución mínimo y similar en todos los modelos, donde se presentan las grandes diferencias es en dicho ajuste.\n",
    "Se puede apreciar que el modelo más rápido es el de regresión lineal, puesto que es el que menos combinaciones de hiperparámetros. No obstante, aunque sea el más rápido esta velocidad sacrifica el buen ajuste a los datos.\n",
    "\n",
    "Es fácil ver como el mejor modelo es el que más tiempo consume en la optimización de hiperparámetros. Es importante comparar tiempos entre modelos para poder observar si merece la pena consumir una gran cantidad de tiempo en el ajuste de hiperparámetros aunque se consiga un ajuste mayor. Por ejemplo, el modelo KNN tarda 13.65 veces menos en ajustar sus hiperparámetros que el SVR, y su R-cuadrado es 0.6, frente al 0.66 del SVR. Por tanto, en estos casos lo importante es (sobre todo en el ámbito empresarial) determinar si el sacrificio en tiempo compensa en el mayor ajuste, lo cuál dependerá de la tarea de machine leanring que se quiera resolver. En el caso de un proyecto académico como el nuestro, lo óptimo es tomar el modelo que mejor ajusta los datos"
   ]
  },
  {
   "cell_type": "markdown",
   "metadata": {
    "id": "yn9kMIMuJS12"
   },
   "source": [
    "### ¿Los resultados son mejores que los regresores triviales/naive/dummy?"
   ]
  },
  {
   "cell_type": "markdown",
   "metadata": {
    "id": "XHnnPap8JUtg"
   },
   "source": [
    "Para estudiar si los modelos son mejores que los regresores triviales, hay que plantear los posibles modelos de regresión triviales que pueda haber, entrenarlos y evaluar su rendimiento"
   ]
  },
  {
   "cell_type": "code",
   "execution_count": 57,
   "metadata": {
    "id": "iJ0hMRo6Jl3f"
   },
   "outputs": [],
   "source": [
    "# Importar el modelo de regresión trivial\n",
    "from sklearn.dummy import DummyRegressor"
   ]
  },
  {
   "cell_type": "code",
   "execution_count": 58,
   "metadata": {
    "colab": {
     "base_uri": "https://localhost:8080/"
    },
    "executionInfo": {
     "elapsed": 768,
     "status": "ok",
     "timestamp": 1712830454554,
     "user": {
      "displayName": "EDUARDO ALCONADA SOLA",
      "userId": "00409920475708315844"
     },
     "user_tz": -120
    },
    "id": "tE112aNEJ155",
    "outputId": "89344dbf-4ccf-41f9-86e9-e24fe83962a7"
   },
   "outputs": [
    {
     "name": "stdout",
     "output_type": "stream",
     "text": [
      "R-squared Dummy Regressor (Mean): -0.017602698268361305\n",
      "R-squared Dummy Regressor (Mean): 447249.5228004848\n",
      "R-squared Dummy Regressor (Median): -0.017602698268361305\n",
      "R-squared Dummy Regressor (Median): 493772.85240771004\n"
     ]
    }
   ],
   "source": [
    "# Crear dummy regressors\n",
    "dummy_mean = DummyRegressor(strategy='mean')\n",
    "dummy_median = DummyRegressor(strategy='median')\n",
    "\n",
    "# Entrenar los dummy regressors\n",
    "dummy_mean.fit(X_train_scaled, y_train)\n",
    "dummy_median.fit(X_train_scaled, y_train)\n",
    "\n",
    "# Calcular el coeficiente de determinación (R-cuadrado)\n",
    "r2_dummy_mean = cross_val_score(dummy_mean, X_train_scaled, y_train, cv=inner, scoring=\"r2\").mean()\n",
    "print(\"R-squared Dummy Regressor (Mean):\", r2_dummy_mean)\n",
    "\n",
    "mse_dummy_mean = - cross_val_score(dummy_mean, X_train_scaled, y_train, cv=inner, scoring=\"neg_mean_squared_error\").mean()\n",
    "print(\"R-squared Dummy Regressor (Mean):\", mse_dummy_mean)\n",
    "\n",
    "r2_dummy_median = cross_val_score(dummy_median, X_train_scaled, y_train, cv=inner, scoring=\"r2\").mean()\n",
    "print(\"R-squared Dummy Regressor (Median):\", r2_dummy_mean)\n",
    "\n",
    "mse_dummy_median = - cross_val_score(dummy_median, X_train_scaled, y_train, cv=inner, scoring=\"neg_mean_squared_error\").mean()\n",
    "print(\"R-squared Dummy Regressor (Median):\", mse_dummy_median)"
   ]
  },
  {
   "cell_type": "markdown",
   "metadata": {
    "id": "VTUMtR2fKEAN"
   },
   "source": [
    "La siguiente tabla muestra el valor de las métricas de evaluación de los modelos respecto de los modelos triviales:\n",
    "\n",
    "|MODELO|MSE|R^2|  \n",
    "|------|----|----|\n",
    "|Mean dummy regressor|447118.08|-0.018\n",
    "|Median dummy regressor|494302.87|-0.018\n",
    "\n",
    "Como se puede apreciar, ambos regresores dummy son peores modelos que los considerados en esta práctica, de acuerdo a las métricas de evaluación que se están teniendo en cuenta para comparar la calidad de los modelos. Entre ellos el ajuste es similar, por lo que la media y la mediana funcionan de manera similar a la hora de ajustar la regresión. Esto, a nivel práctico, implica que la distribución de los datos es simétrica y no está sesgada significativamente"
   ]
  },
  {
   "cell_type": "markdown",
   "metadata": {},
   "source": [
    "### ¿Hay algún equilibrio entre tiempo de ejecución y mejora de resultados?"
   ]
  },
  {
   "cell_type": "markdown",
   "metadata": {},
   "source": [
    "Sí, suele existir un equilibrio entre el tiempo de ejecución y la mejora de los resultados en los modelos de machine learning. Este equilibrio se conoce como el \"trade-off\" entre la complejidad del modelo y su capacidad predictiva.\n",
    "\n",
    "Por lo general, los modelos más complejos, como los modelos con más parámetros o algoritmos más avanzados, pueden capturar mejor la complejidad de los datos y, por lo tanto, tener un mejor rendimiento predictivo. Sin embargo, estos modelos complejos también tienden a requerir más tiempo de entrenamiento y predicción, así como más recursos computacionales (Esto ocurre con SVM).\n",
    "\n",
    "Por otro lado, los modelos más simples tienden a ser más rápidos de entrenar y predecir, pero pueden ser menos precisos al capturar la complejidad de los datos. Estos modelos pueden estar sesgados o tener una capacidad limitada para generalizar a nuevos datos (Esto ocurre con la regresión lineal).\n",
    "\n",
    "El equilibrio entre el tiempo de ejecución y la mejora de los resultados depende de varios factores, como el tamaño y la complejidad del conjunto de datos, los recursos computacionales disponibles y los requisitos de rendimiento del proyecto. En la práctica, es importante encontrar el modelo que ofrezca un buen equilibrio entre tiempo de ejecución y precisión predictiva para satisfacer las necesidades específicas de cada caso de uso. Esto a menudo implica experimentar con diferentes algoritmos, ajustar los hiperparámetros y evaluar el rendimiento del modelo en función de los recursos disponibles y los objetivos del proyecto. Por tanto, este equilibrio dependerá de los requerimientos asociados al proyecto que se esté realizando. Al estar en un ámbito académico, realmente no nos importa tanto el tiempo de ejcución de los modelos puesto que no se está evaluando por el rendimiento en términos de recursos computacionales, sino por el ajuste de los datos."
   ]
  },
  {
   "cell_type": "markdown",
   "metadata": {
    "id": "E6alB_EDrJ4C"
   },
   "source": [
    "# Estimación del rendimiento del mejor modelo"
   ]
  },
  {
   "cell_type": "markdown",
   "metadata": {
    "id": "LYsdgewLuTo_"
   },
   "source": [
    "El mejor modelo según lo que dictan las métricas de evaluación sería el SVM para regresión pues es el que mejor"
   ]
  },
  {
   "cell_type": "code",
   "execution_count": 59,
   "metadata": {
    "colab": {
     "base_uri": "https://localhost:8080/"
    },
    "executionInfo": {
     "elapsed": 880,
     "status": "ok",
     "timestamp": 1712831296365,
     "user": {
      "displayName": "EDUARDO ALCONADA SOLA",
      "userId": "00409920475708315844"
     },
     "user_tz": -120
    },
    "id": "EtvuWDn0rM2u",
    "outputId": "92b10ed5-5433-498a-e0ad-acc2029e0d2e"
   },
   "outputs": [
    {
     "name": "stdout",
     "output_type": "stream",
     "text": [
      "Mean Squared Error: 158875.91682448398\n",
      "R^2 Score: 0.6133413974800213\n"
     ]
    }
   ],
   "source": [
    "# Realizamos la predicción sobre el conjunto de test outer con el modelo SVM\n",
    "y_pred = best_svm.predict(X_test_scaled)\n",
    "\n",
    "# Evaluamos el modelo con los datos de la variable de respuesta del conjunto de test outer\n",
    "mse = mean_squared_error(y_test, y_pred)\n",
    "print(\"Mean Squared Error:\", mse)\n",
    "\n",
    "r2 = r2_score(y_test, y_pred)\n",
    "print(\"R^2 Score:\", r2)"
   ]
  },
  {
   "cell_type": "markdown",
   "metadata": {},
   "source": [
    "# Modelo Final: SVM para regresión"
   ]
  },
  {
   "cell_type": "code",
   "execution_count": 60,
   "metadata": {
    "id": "fUmViZsWtPWl"
   },
   "outputs": [
    {
     "data": {
      "text/html": [
       "<style>#sk-container-id-1 {\n",
       "  /* Definition of color scheme common for light and dark mode */\n",
       "  --sklearn-color-text: black;\n",
       "  --sklearn-color-line: gray;\n",
       "  /* Definition of color scheme for unfitted estimators */\n",
       "  --sklearn-color-unfitted-level-0: #fff5e6;\n",
       "  --sklearn-color-unfitted-level-1: #f6e4d2;\n",
       "  --sklearn-color-unfitted-level-2: #ffe0b3;\n",
       "  --sklearn-color-unfitted-level-3: chocolate;\n",
       "  /* Definition of color scheme for fitted estimators */\n",
       "  --sklearn-color-fitted-level-0: #f0f8ff;\n",
       "  --sklearn-color-fitted-level-1: #d4ebff;\n",
       "  --sklearn-color-fitted-level-2: #b3dbfd;\n",
       "  --sklearn-color-fitted-level-3: cornflowerblue;\n",
       "\n",
       "  /* Specific color for light theme */\n",
       "  --sklearn-color-text-on-default-background: var(--sg-text-color, var(--theme-code-foreground, var(--jp-content-font-color1, black)));\n",
       "  --sklearn-color-background: var(--sg-background-color, var(--theme-background, var(--jp-layout-color0, white)));\n",
       "  --sklearn-color-border-box: var(--sg-text-color, var(--theme-code-foreground, var(--jp-content-font-color1, black)));\n",
       "  --sklearn-color-icon: #696969;\n",
       "\n",
       "  @media (prefers-color-scheme: dark) {\n",
       "    /* Redefinition of color scheme for dark theme */\n",
       "    --sklearn-color-text-on-default-background: var(--sg-text-color, var(--theme-code-foreground, var(--jp-content-font-color1, white)));\n",
       "    --sklearn-color-background: var(--sg-background-color, var(--theme-background, var(--jp-layout-color0, #111)));\n",
       "    --sklearn-color-border-box: var(--sg-text-color, var(--theme-code-foreground, var(--jp-content-font-color1, white)));\n",
       "    --sklearn-color-icon: #878787;\n",
       "  }\n",
       "}\n",
       "\n",
       "#sk-container-id-1 {\n",
       "  color: var(--sklearn-color-text);\n",
       "}\n",
       "\n",
       "#sk-container-id-1 pre {\n",
       "  padding: 0;\n",
       "}\n",
       "\n",
       "#sk-container-id-1 input.sk-hidden--visually {\n",
       "  border: 0;\n",
       "  clip: rect(1px 1px 1px 1px);\n",
       "  clip: rect(1px, 1px, 1px, 1px);\n",
       "  height: 1px;\n",
       "  margin: -1px;\n",
       "  overflow: hidden;\n",
       "  padding: 0;\n",
       "  position: absolute;\n",
       "  width: 1px;\n",
       "}\n",
       "\n",
       "#sk-container-id-1 div.sk-dashed-wrapped {\n",
       "  border: 1px dashed var(--sklearn-color-line);\n",
       "  margin: 0 0.4em 0.5em 0.4em;\n",
       "  box-sizing: border-box;\n",
       "  padding-bottom: 0.4em;\n",
       "  background-color: var(--sklearn-color-background);\n",
       "}\n",
       "\n",
       "#sk-container-id-1 div.sk-container {\n",
       "  /* jupyter's `normalize.less` sets `[hidden] { display: none; }`\n",
       "     but bootstrap.min.css set `[hidden] { display: none !important; }`\n",
       "     so we also need the `!important` here to be able to override the\n",
       "     default hidden behavior on the sphinx rendered scikit-learn.org.\n",
       "     See: https://github.com/scikit-learn/scikit-learn/issues/21755 */\n",
       "  display: inline-block !important;\n",
       "  position: relative;\n",
       "}\n",
       "\n",
       "#sk-container-id-1 div.sk-text-repr-fallback {\n",
       "  display: none;\n",
       "}\n",
       "\n",
       "div.sk-parallel-item,\n",
       "div.sk-serial,\n",
       "div.sk-item {\n",
       "  /* draw centered vertical line to link estimators */\n",
       "  background-image: linear-gradient(var(--sklearn-color-text-on-default-background), var(--sklearn-color-text-on-default-background));\n",
       "  background-size: 2px 100%;\n",
       "  background-repeat: no-repeat;\n",
       "  background-position: center center;\n",
       "}\n",
       "\n",
       "/* Parallel-specific style estimator block */\n",
       "\n",
       "#sk-container-id-1 div.sk-parallel-item::after {\n",
       "  content: \"\";\n",
       "  width: 100%;\n",
       "  border-bottom: 2px solid var(--sklearn-color-text-on-default-background);\n",
       "  flex-grow: 1;\n",
       "}\n",
       "\n",
       "#sk-container-id-1 div.sk-parallel {\n",
       "  display: flex;\n",
       "  align-items: stretch;\n",
       "  justify-content: center;\n",
       "  background-color: var(--sklearn-color-background);\n",
       "  position: relative;\n",
       "}\n",
       "\n",
       "#sk-container-id-1 div.sk-parallel-item {\n",
       "  display: flex;\n",
       "  flex-direction: column;\n",
       "}\n",
       "\n",
       "#sk-container-id-1 div.sk-parallel-item:first-child::after {\n",
       "  align-self: flex-end;\n",
       "  width: 50%;\n",
       "}\n",
       "\n",
       "#sk-container-id-1 div.sk-parallel-item:last-child::after {\n",
       "  align-self: flex-start;\n",
       "  width: 50%;\n",
       "}\n",
       "\n",
       "#sk-container-id-1 div.sk-parallel-item:only-child::after {\n",
       "  width: 0;\n",
       "}\n",
       "\n",
       "/* Serial-specific style estimator block */\n",
       "\n",
       "#sk-container-id-1 div.sk-serial {\n",
       "  display: flex;\n",
       "  flex-direction: column;\n",
       "  align-items: center;\n",
       "  background-color: var(--sklearn-color-background);\n",
       "  padding-right: 1em;\n",
       "  padding-left: 1em;\n",
       "}\n",
       "\n",
       "\n",
       "/* Toggleable style: style used for estimator/Pipeline/ColumnTransformer box that is\n",
       "clickable and can be expanded/collapsed.\n",
       "- Pipeline and ColumnTransformer use this feature and define the default style\n",
       "- Estimators will overwrite some part of the style using the `sk-estimator` class\n",
       "*/\n",
       "\n",
       "/* Pipeline and ColumnTransformer style (default) */\n",
       "\n",
       "#sk-container-id-1 div.sk-toggleable {\n",
       "  /* Default theme specific background. It is overwritten whether we have a\n",
       "  specific estimator or a Pipeline/ColumnTransformer */\n",
       "  background-color: var(--sklearn-color-background);\n",
       "}\n",
       "\n",
       "/* Toggleable label */\n",
       "#sk-container-id-1 label.sk-toggleable__label {\n",
       "  cursor: pointer;\n",
       "  display: block;\n",
       "  width: 100%;\n",
       "  margin-bottom: 0;\n",
       "  padding: 0.5em;\n",
       "  box-sizing: border-box;\n",
       "  text-align: center;\n",
       "}\n",
       "\n",
       "#sk-container-id-1 label.sk-toggleable__label-arrow:before {\n",
       "  /* Arrow on the left of the label */\n",
       "  content: \"▸\";\n",
       "  float: left;\n",
       "  margin-right: 0.25em;\n",
       "  color: var(--sklearn-color-icon);\n",
       "}\n",
       "\n",
       "#sk-container-id-1 label.sk-toggleable__label-arrow:hover:before {\n",
       "  color: var(--sklearn-color-text);\n",
       "}\n",
       "\n",
       "/* Toggleable content - dropdown */\n",
       "\n",
       "#sk-container-id-1 div.sk-toggleable__content {\n",
       "  max-height: 0;\n",
       "  max-width: 0;\n",
       "  overflow: hidden;\n",
       "  text-align: left;\n",
       "  /* unfitted */\n",
       "  background-color: var(--sklearn-color-unfitted-level-0);\n",
       "}\n",
       "\n",
       "#sk-container-id-1 div.sk-toggleable__content.fitted {\n",
       "  /* fitted */\n",
       "  background-color: var(--sklearn-color-fitted-level-0);\n",
       "}\n",
       "\n",
       "#sk-container-id-1 div.sk-toggleable__content pre {\n",
       "  margin: 0.2em;\n",
       "  border-radius: 0.25em;\n",
       "  color: var(--sklearn-color-text);\n",
       "  /* unfitted */\n",
       "  background-color: var(--sklearn-color-unfitted-level-0);\n",
       "}\n",
       "\n",
       "#sk-container-id-1 div.sk-toggleable__content.fitted pre {\n",
       "  /* unfitted */\n",
       "  background-color: var(--sklearn-color-fitted-level-0);\n",
       "}\n",
       "\n",
       "#sk-container-id-1 input.sk-toggleable__control:checked~div.sk-toggleable__content {\n",
       "  /* Expand drop-down */\n",
       "  max-height: 200px;\n",
       "  max-width: 100%;\n",
       "  overflow: auto;\n",
       "}\n",
       "\n",
       "#sk-container-id-1 input.sk-toggleable__control:checked~label.sk-toggleable__label-arrow:before {\n",
       "  content: \"▾\";\n",
       "}\n",
       "\n",
       "/* Pipeline/ColumnTransformer-specific style */\n",
       "\n",
       "#sk-container-id-1 div.sk-label input.sk-toggleable__control:checked~label.sk-toggleable__label {\n",
       "  color: var(--sklearn-color-text);\n",
       "  background-color: var(--sklearn-color-unfitted-level-2);\n",
       "}\n",
       "\n",
       "#sk-container-id-1 div.sk-label.fitted input.sk-toggleable__control:checked~label.sk-toggleable__label {\n",
       "  background-color: var(--sklearn-color-fitted-level-2);\n",
       "}\n",
       "\n",
       "/* Estimator-specific style */\n",
       "\n",
       "/* Colorize estimator box */\n",
       "#sk-container-id-1 div.sk-estimator input.sk-toggleable__control:checked~label.sk-toggleable__label {\n",
       "  /* unfitted */\n",
       "  background-color: var(--sklearn-color-unfitted-level-2);\n",
       "}\n",
       "\n",
       "#sk-container-id-1 div.sk-estimator.fitted input.sk-toggleable__control:checked~label.sk-toggleable__label {\n",
       "  /* fitted */\n",
       "  background-color: var(--sklearn-color-fitted-level-2);\n",
       "}\n",
       "\n",
       "#sk-container-id-1 div.sk-label label.sk-toggleable__label,\n",
       "#sk-container-id-1 div.sk-label label {\n",
       "  /* The background is the default theme color */\n",
       "  color: var(--sklearn-color-text-on-default-background);\n",
       "}\n",
       "\n",
       "/* On hover, darken the color of the background */\n",
       "#sk-container-id-1 div.sk-label:hover label.sk-toggleable__label {\n",
       "  color: var(--sklearn-color-text);\n",
       "  background-color: var(--sklearn-color-unfitted-level-2);\n",
       "}\n",
       "\n",
       "/* Label box, darken color on hover, fitted */\n",
       "#sk-container-id-1 div.sk-label.fitted:hover label.sk-toggleable__label.fitted {\n",
       "  color: var(--sklearn-color-text);\n",
       "  background-color: var(--sklearn-color-fitted-level-2);\n",
       "}\n",
       "\n",
       "/* Estimator label */\n",
       "\n",
       "#sk-container-id-1 div.sk-label label {\n",
       "  font-family: monospace;\n",
       "  font-weight: bold;\n",
       "  display: inline-block;\n",
       "  line-height: 1.2em;\n",
       "}\n",
       "\n",
       "#sk-container-id-1 div.sk-label-container {\n",
       "  text-align: center;\n",
       "}\n",
       "\n",
       "/* Estimator-specific */\n",
       "#sk-container-id-1 div.sk-estimator {\n",
       "  font-family: monospace;\n",
       "  border: 1px dotted var(--sklearn-color-border-box);\n",
       "  border-radius: 0.25em;\n",
       "  box-sizing: border-box;\n",
       "  margin-bottom: 0.5em;\n",
       "  /* unfitted */\n",
       "  background-color: var(--sklearn-color-unfitted-level-0);\n",
       "}\n",
       "\n",
       "#sk-container-id-1 div.sk-estimator.fitted {\n",
       "  /* fitted */\n",
       "  background-color: var(--sklearn-color-fitted-level-0);\n",
       "}\n",
       "\n",
       "/* on hover */\n",
       "#sk-container-id-1 div.sk-estimator:hover {\n",
       "  /* unfitted */\n",
       "  background-color: var(--sklearn-color-unfitted-level-2);\n",
       "}\n",
       "\n",
       "#sk-container-id-1 div.sk-estimator.fitted:hover {\n",
       "  /* fitted */\n",
       "  background-color: var(--sklearn-color-fitted-level-2);\n",
       "}\n",
       "\n",
       "/* Specification for estimator info (e.g. \"i\" and \"?\") */\n",
       "\n",
       "/* Common style for \"i\" and \"?\" */\n",
       "\n",
       ".sk-estimator-doc-link,\n",
       "a:link.sk-estimator-doc-link,\n",
       "a:visited.sk-estimator-doc-link {\n",
       "  float: right;\n",
       "  font-size: smaller;\n",
       "  line-height: 1em;\n",
       "  font-family: monospace;\n",
       "  background-color: var(--sklearn-color-background);\n",
       "  border-radius: 1em;\n",
       "  height: 1em;\n",
       "  width: 1em;\n",
       "  text-decoration: none !important;\n",
       "  margin-left: 1ex;\n",
       "  /* unfitted */\n",
       "  border: var(--sklearn-color-unfitted-level-1) 1pt solid;\n",
       "  color: var(--sklearn-color-unfitted-level-1);\n",
       "}\n",
       "\n",
       ".sk-estimator-doc-link.fitted,\n",
       "a:link.sk-estimator-doc-link.fitted,\n",
       "a:visited.sk-estimator-doc-link.fitted {\n",
       "  /* fitted */\n",
       "  border: var(--sklearn-color-fitted-level-1) 1pt solid;\n",
       "  color: var(--sklearn-color-fitted-level-1);\n",
       "}\n",
       "\n",
       "/* On hover */\n",
       "div.sk-estimator:hover .sk-estimator-doc-link:hover,\n",
       ".sk-estimator-doc-link:hover,\n",
       "div.sk-label-container:hover .sk-estimator-doc-link:hover,\n",
       ".sk-estimator-doc-link:hover {\n",
       "  /* unfitted */\n",
       "  background-color: var(--sklearn-color-unfitted-level-3);\n",
       "  color: var(--sklearn-color-background);\n",
       "  text-decoration: none;\n",
       "}\n",
       "\n",
       "div.sk-estimator.fitted:hover .sk-estimator-doc-link.fitted:hover,\n",
       ".sk-estimator-doc-link.fitted:hover,\n",
       "div.sk-label-container:hover .sk-estimator-doc-link.fitted:hover,\n",
       ".sk-estimator-doc-link.fitted:hover {\n",
       "  /* fitted */\n",
       "  background-color: var(--sklearn-color-fitted-level-3);\n",
       "  color: var(--sklearn-color-background);\n",
       "  text-decoration: none;\n",
       "}\n",
       "\n",
       "/* Span, style for the box shown on hovering the info icon */\n",
       ".sk-estimator-doc-link span {\n",
       "  display: none;\n",
       "  z-index: 9999;\n",
       "  position: relative;\n",
       "  font-weight: normal;\n",
       "  right: .2ex;\n",
       "  padding: .5ex;\n",
       "  margin: .5ex;\n",
       "  width: min-content;\n",
       "  min-width: 20ex;\n",
       "  max-width: 50ex;\n",
       "  color: var(--sklearn-color-text);\n",
       "  box-shadow: 2pt 2pt 4pt #999;\n",
       "  /* unfitted */\n",
       "  background: var(--sklearn-color-unfitted-level-0);\n",
       "  border: .5pt solid var(--sklearn-color-unfitted-level-3);\n",
       "}\n",
       "\n",
       ".sk-estimator-doc-link.fitted span {\n",
       "  /* fitted */\n",
       "  background: var(--sklearn-color-fitted-level-0);\n",
       "  border: var(--sklearn-color-fitted-level-3);\n",
       "}\n",
       "\n",
       ".sk-estimator-doc-link:hover span {\n",
       "  display: block;\n",
       "}\n",
       "\n",
       "/* \"?\"-specific style due to the `<a>` HTML tag */\n",
       "\n",
       "#sk-container-id-1 a.estimator_doc_link {\n",
       "  float: right;\n",
       "  font-size: 1rem;\n",
       "  line-height: 1em;\n",
       "  font-family: monospace;\n",
       "  background-color: var(--sklearn-color-background);\n",
       "  border-radius: 1rem;\n",
       "  height: 1rem;\n",
       "  width: 1rem;\n",
       "  text-decoration: none;\n",
       "  /* unfitted */\n",
       "  color: var(--sklearn-color-unfitted-level-1);\n",
       "  border: var(--sklearn-color-unfitted-level-1) 1pt solid;\n",
       "}\n",
       "\n",
       "#sk-container-id-1 a.estimator_doc_link.fitted {\n",
       "  /* fitted */\n",
       "  border: var(--sklearn-color-fitted-level-1) 1pt solid;\n",
       "  color: var(--sklearn-color-fitted-level-1);\n",
       "}\n",
       "\n",
       "/* On hover */\n",
       "#sk-container-id-1 a.estimator_doc_link:hover {\n",
       "  /* unfitted */\n",
       "  background-color: var(--sklearn-color-unfitted-level-3);\n",
       "  color: var(--sklearn-color-background);\n",
       "  text-decoration: none;\n",
       "}\n",
       "\n",
       "#sk-container-id-1 a.estimator_doc_link.fitted:hover {\n",
       "  /* fitted */\n",
       "  background-color: var(--sklearn-color-fitted-level-3);\n",
       "}\n",
       "</style><div id=\"sk-container-id-1\" class=\"sk-top-container\"><div class=\"sk-text-repr-fallback\"><pre>SVR(C=1500, degree=2, epsilon=1.0)</pre><b>In a Jupyter environment, please rerun this cell to show the HTML representation or trust the notebook. <br />On GitHub, the HTML representation is unable to render, please try loading this page with nbviewer.org.</b></div><div class=\"sk-container\" hidden><div class=\"sk-item\"><div class=\"sk-estimator fitted sk-toggleable\"><input class=\"sk-toggleable__control sk-hidden--visually\" id=\"sk-estimator-id-1\" type=\"checkbox\" checked><label for=\"sk-estimator-id-1\" class=\"sk-toggleable__label fitted sk-toggleable__label-arrow fitted\">&nbsp;&nbsp;SVR<a class=\"sk-estimator-doc-link fitted\" rel=\"noreferrer\" target=\"_blank\" href=\"https://scikit-learn.org/1.4/modules/generated/sklearn.svm.SVR.html\">?<span>Documentation for SVR</span></a><span class=\"sk-estimator-doc-link fitted\">i<span>Fitted</span></span></label><div class=\"sk-toggleable__content fitted\"><pre>SVR(C=1500, degree=2, epsilon=1.0)</pre></div> </div></div></div></div>"
      ],
      "text/plain": [
       "SVR(C=1500, degree=2, epsilon=1.0)"
      ]
     },
     "execution_count": 60,
     "metadata": {},
     "output_type": "execute_result"
    }
   ],
   "source": [
    "# Escalar el conjunto de características\n",
    "X_scaled = scaler.fit_transform(X)\n",
    "# Entrenamos el modelo con todos los datos\n",
    "best_svm.fit(X_scaled, y)"
   ]
  },
  {
   "cell_type": "code",
   "execution_count": 61,
   "metadata": {},
   "outputs": [],
   "source": [
    "# Cargamos el fichero csv\n",
    "wind_comp = pd.read_csv('wind_comp.csv.gz', compression= 'gzip')\n"
   ]
  },
  {
   "cell_type": "code",
   "execution_count": 62,
   "metadata": {},
   "outputs": [],
   "source": [
    "wind_comp.set_index('datetime', inplace=True)"
   ]
  },
  {
   "cell_type": "code",
   "execution_count": 63,
   "metadata": {},
   "outputs": [],
   "source": [
    "# Debemos quedarnos con las variables que nos interesan\n",
    "for c in wind_comp:\n",
    "\tif not c.endswith('.13') and c != 'energy':\n",
    "\t\twind_comp.drop(c, axis=1, inplace=True)"
   ]
  },
  {
   "cell_type": "code",
   "execution_count": 64,
   "metadata": {},
   "outputs": [
    {
     "data": {
      "text/html": [
       "<div>\n",
       "<style scoped>\n",
       "    .dataframe tbody tr th:only-of-type {\n",
       "        vertical-align: middle;\n",
       "    }\n",
       "\n",
       "    .dataframe tbody tr th {\n",
       "        vertical-align: top;\n",
       "    }\n",
       "\n",
       "    .dataframe thead th {\n",
       "        text-align: right;\n",
       "    }\n",
       "</style>\n",
       "<table border=\"1\" class=\"dataframe\">\n",
       "  <thead>\n",
       "    <tr style=\"text-align: right;\">\n",
       "      <th></th>\n",
       "      <th>p54.162.13</th>\n",
       "      <th>p55.162.13</th>\n",
       "      <th>cape.13</th>\n",
       "      <th>p59.162.13</th>\n",
       "      <th>lai_lv.13</th>\n",
       "      <th>lai_hv.13</th>\n",
       "      <th>u10n.13</th>\n",
       "      <th>v10n.13</th>\n",
       "      <th>sp.13</th>\n",
       "      <th>stl1.13</th>\n",
       "      <th>...</th>\n",
       "      <th>t2m.13</th>\n",
       "      <th>stl2.13</th>\n",
       "      <th>stl3.13</th>\n",
       "      <th>iews.13</th>\n",
       "      <th>inss.13</th>\n",
       "      <th>stl4.13</th>\n",
       "      <th>fsr.13</th>\n",
       "      <th>flsr.13</th>\n",
       "      <th>u100.13</th>\n",
       "      <th>v100.13</th>\n",
       "    </tr>\n",
       "    <tr>\n",
       "      <th>datetime</th>\n",
       "      <th></th>\n",
       "      <th></th>\n",
       "      <th></th>\n",
       "      <th></th>\n",
       "      <th></th>\n",
       "      <th></th>\n",
       "      <th></th>\n",
       "      <th></th>\n",
       "      <th></th>\n",
       "      <th></th>\n",
       "      <th></th>\n",
       "      <th></th>\n",
       "      <th></th>\n",
       "      <th></th>\n",
       "      <th></th>\n",
       "      <th></th>\n",
       "      <th></th>\n",
       "      <th></th>\n",
       "      <th></th>\n",
       "      <th></th>\n",
       "      <th></th>\n",
       "    </tr>\n",
       "  </thead>\n",
       "  <tbody>\n",
       "    <tr>\n",
       "      <th>2010-01-01 00:00:00</th>\n",
       "      <td>2.380345e+06</td>\n",
       "      <td>10.537942</td>\n",
       "      <td>10.382510</td>\n",
       "      <td>2.220341e+06</td>\n",
       "      <td>2.346936</td>\n",
       "      <td>2.433955</td>\n",
       "      <td>1.258152</td>\n",
       "      <td>4.389059</td>\n",
       "      <td>96056.601316</td>\n",
       "      <td>278.713081</td>\n",
       "      <td>...</td>\n",
       "      <td>277.372035</td>\n",
       "      <td>280.494544</td>\n",
       "      <td>282.003767</td>\n",
       "      <td>0.223763</td>\n",
       "      <td>0.469945</td>\n",
       "      <td>285.865293</td>\n",
       "      <td>0.426499</td>\n",
       "      <td>-5.692383</td>\n",
       "      <td>3.028044</td>\n",
       "      <td>6.801977</td>\n",
       "    </tr>\n",
       "    <tr>\n",
       "      <th>2010-01-01 06:00:00</th>\n",
       "      <td>2.387186e+06</td>\n",
       "      <td>11.038628</td>\n",
       "      <td>1.136771</td>\n",
       "      <td>3.593417e+06</td>\n",
       "      <td>2.346543</td>\n",
       "      <td>2.433821</td>\n",
       "      <td>0.258600</td>\n",
       "      <td>-0.063731</td>\n",
       "      <td>96132.834569</td>\n",
       "      <td>278.298853</td>\n",
       "      <td>...</td>\n",
       "      <td>276.877148</td>\n",
       "      <td>280.011630</td>\n",
       "      <td>281.986895</td>\n",
       "      <td>0.049144</td>\n",
       "      <td>0.037347</td>\n",
       "      <td>285.844043</td>\n",
       "      <td>0.426720</td>\n",
       "      <td>-5.673355</td>\n",
       "      <td>1.905932</td>\n",
       "      <td>0.819461</td>\n",
       "    </tr>\n",
       "    <tr>\n",
       "      <th>2010-01-01 12:00:00</th>\n",
       "      <td>2.411521e+06</td>\n",
       "      <td>9.635489</td>\n",
       "      <td>0.265247</td>\n",
       "      <td>4.477477e+06</td>\n",
       "      <td>2.346151</td>\n",
       "      <td>2.433676</td>\n",
       "      <td>4.505959</td>\n",
       "      <td>1.314488</td>\n",
       "      <td>96882.102158</td>\n",
       "      <td>280.531223</td>\n",
       "      <td>...</td>\n",
       "      <td>281.085733</td>\n",
       "      <td>279.880559</td>\n",
       "      <td>281.958683</td>\n",
       "      <td>0.363838</td>\n",
       "      <td>0.075026</td>\n",
       "      <td>285.823566</td>\n",
       "      <td>0.420984</td>\n",
       "      <td>-5.772643</td>\n",
       "      <td>6.254707</td>\n",
       "      <td>1.658140</td>\n",
       "    </tr>\n",
       "    <tr>\n",
       "      <th>2010-01-01 18:00:00</th>\n",
       "      <td>2.423920e+06</td>\n",
       "      <td>10.724937</td>\n",
       "      <td>4.281838</td>\n",
       "      <td>6.237006e+06</td>\n",
       "      <td>2.345759</td>\n",
       "      <td>2.433542</td>\n",
       "      <td>1.620416</td>\n",
       "      <td>0.278042</td>\n",
       "      <td>97243.861285</td>\n",
       "      <td>279.684007</td>\n",
       "      <td>...</td>\n",
       "      <td>278.417187</td>\n",
       "      <td>280.376232</td>\n",
       "      <td>281.945406</td>\n",
       "      <td>0.152444</td>\n",
       "      <td>0.057106</td>\n",
       "      <td>285.803281</td>\n",
       "      <td>0.418642</td>\n",
       "      <td>-5.807686</td>\n",
       "      <td>4.680087</td>\n",
       "      <td>1.276968</td>\n",
       "    </tr>\n",
       "    <tr>\n",
       "      <th>2010-01-02 00:00:00</th>\n",
       "      <td>2.436652e+06</td>\n",
       "      <td>13.533924</td>\n",
       "      <td>1.250448</td>\n",
       "      <td>5.666546e+06</td>\n",
       "      <td>2.345340</td>\n",
       "      <td>2.433397</td>\n",
       "      <td>0.958361</td>\n",
       "      <td>1.244256</td>\n",
       "      <td>97438.059470</td>\n",
       "      <td>277.778660</td>\n",
       "      <td>...</td>\n",
       "      <td>276.086144</td>\n",
       "      <td>279.878626</td>\n",
       "      <td>281.929364</td>\n",
       "      <td>0.098397</td>\n",
       "      <td>0.105619</td>\n",
       "      <td>285.783963</td>\n",
       "      <td>0.419667</td>\n",
       "      <td>-5.780384</td>\n",
       "      <td>2.686441</td>\n",
       "      <td>3.517605</td>\n",
       "    </tr>\n",
       "  </tbody>\n",
       "</table>\n",
       "<p>5 rows × 22 columns</p>\n",
       "</div>"
      ],
      "text/plain": [
       "                       p54.162.13  p55.162.13    cape.13    p59.162.13  \\\n",
       "datetime                                                                 \n",
       "2010-01-01 00:00:00  2.380345e+06   10.537942  10.382510  2.220341e+06   \n",
       "2010-01-01 06:00:00  2.387186e+06   11.038628   1.136771  3.593417e+06   \n",
       "2010-01-01 12:00:00  2.411521e+06    9.635489   0.265247  4.477477e+06   \n",
       "2010-01-01 18:00:00  2.423920e+06   10.724937   4.281838  6.237006e+06   \n",
       "2010-01-02 00:00:00  2.436652e+06   13.533924   1.250448  5.666546e+06   \n",
       "\n",
       "                     lai_lv.13  lai_hv.13   u10n.13   v10n.13         sp.13  \\\n",
       "datetime                                                                      \n",
       "2010-01-01 00:00:00   2.346936   2.433955  1.258152  4.389059  96056.601316   \n",
       "2010-01-01 06:00:00   2.346543   2.433821  0.258600 -0.063731  96132.834569   \n",
       "2010-01-01 12:00:00   2.346151   2.433676  4.505959  1.314488  96882.102158   \n",
       "2010-01-01 18:00:00   2.345759   2.433542  1.620416  0.278042  97243.861285   \n",
       "2010-01-02 00:00:00   2.345340   2.433397  0.958361  1.244256  97438.059470   \n",
       "\n",
       "                        stl1.13  ...      t2m.13     stl2.13     stl3.13  \\\n",
       "datetime                         ...                                       \n",
       "2010-01-01 00:00:00  278.713081  ...  277.372035  280.494544  282.003767   \n",
       "2010-01-01 06:00:00  278.298853  ...  276.877148  280.011630  281.986895   \n",
       "2010-01-01 12:00:00  280.531223  ...  281.085733  279.880559  281.958683   \n",
       "2010-01-01 18:00:00  279.684007  ...  278.417187  280.376232  281.945406   \n",
       "2010-01-02 00:00:00  277.778660  ...  276.086144  279.878626  281.929364   \n",
       "\n",
       "                      iews.13   inss.13     stl4.13    fsr.13   flsr.13  \\\n",
       "datetime                                                                  \n",
       "2010-01-01 00:00:00  0.223763  0.469945  285.865293  0.426499 -5.692383   \n",
       "2010-01-01 06:00:00  0.049144  0.037347  285.844043  0.426720 -5.673355   \n",
       "2010-01-01 12:00:00  0.363838  0.075026  285.823566  0.420984 -5.772643   \n",
       "2010-01-01 18:00:00  0.152444  0.057106  285.803281  0.418642 -5.807686   \n",
       "2010-01-02 00:00:00  0.098397  0.105619  285.783963  0.419667 -5.780384   \n",
       "\n",
       "                      u100.13   v100.13  \n",
       "datetime                                 \n",
       "2010-01-01 00:00:00  3.028044  6.801977  \n",
       "2010-01-01 06:00:00  1.905932  0.819461  \n",
       "2010-01-01 12:00:00  6.254707  1.658140  \n",
       "2010-01-01 18:00:00  4.680087  1.276968  \n",
       "2010-01-02 00:00:00  2.686441  3.517605  \n",
       "\n",
       "[5 rows x 22 columns]"
      ]
     },
     "execution_count": 64,
     "metadata": {},
     "output_type": "execute_result"
    }
   ],
   "source": [
    "wind_comp.head()"
   ]
  },
  {
   "cell_type": "code",
   "execution_count": 65,
   "metadata": {},
   "outputs": [],
   "source": [
    "# Escalamos los datos\n",
    "wind_comp_scaled = scaler.fit_transform(wind_comp)"
   ]
  },
  {
   "cell_type": "code",
   "execution_count": 66,
   "metadata": {},
   "outputs": [],
   "source": [
    "# Realizamos la predicción sobre los datos de competición y guardamos los resultados en un fichero\n",
    "# predicciones = best_svm.predict(wind_comp) # predicciones sin escalar los datos\n",
    "predicciones = best_svm.predict(wind_comp_scaled) # predicciones con los datos escalados\n",
    "# Crear un DataFrame con las predicciones\n",
    "df_predicciones = pd.DataFrame({'Predicciones': predicciones})"
   ]
  },
  {
   "cell_type": "markdown",
   "metadata": {},
   "source": [
    "Examinando el fichero por encima se puede ver que existen predicciones con valores negativos para la energía. Estos no son predicciones válidas por lo que se debe imputar un valor nulo."
   ]
  },
  {
   "cell_type": "code",
   "execution_count": 67,
   "metadata": {},
   "outputs": [
    {
     "name": "stdout",
     "output_type": "stream",
     "text": [
      "Total de valores negativos: 17\n"
     ]
    }
   ],
   "source": [
    "# Filtrar los valores negativos\n",
    "valores_negativos = df_predicciones[df_predicciones['Predicciones'] < 0]\n",
    "\n",
    "# Contar los valores negativos\n",
    "conteo_negativos = len(valores_negativos)\n",
    "\n",
    "print(\"Total de valores negativos:\", conteo_negativos)"
   ]
  },
  {
   "cell_type": "code",
   "execution_count": 68,
   "metadata": {},
   "outputs": [],
   "source": [
    "# Reemplazar los valores negativos por 0\n",
    "df_predicciones.loc[df_predicciones['Predicciones'] < 0, 'Predicciones'] = 0\n",
    "\n",
    "# Guardar las predicciones en un archivo CSV\n",
    "df_predicciones.to_csv('./predictions.csv', index=False)"
   ]
  },
  {
   "cell_type": "code",
   "execution_count": 69,
   "metadata": {},
   "outputs": [
    {
     "data": {
      "text/plain": [
       "['./final_model.pkl']"
      ]
     },
     "execution_count": 69,
     "metadata": {},
     "output_type": "execute_result"
    }
   ],
   "source": [
    "import joblib\n",
    "# Cargamos el modelo final\n",
    "joblib.dump(best_svm, './final_model.pkl')"
   ]
  },
  {
   "cell_type": "markdown",
   "metadata": {},
   "source": [
    "# Uso de ChatGPT en la práctica"
   ]
  },
  {
   "cell_type": "markdown",
   "metadata": {},
   "source": [
    "El uso de ChatGPT en la práctica se ha centrado principalmente en estos aspectos:   \n",
    "\n",
    "- Asesoramiento en Python y bibliotecas:  Ha proporcionado orientación sobre cómo utilizar Python y sus bibliotecas, como Pandas, scikit-learn, y otras, para manipular datos, entrenar modelos de aprendizaje automático, realizar predicciones, y evaluar el rendimiento de los modelos.  \n",
    "\n",
    "- Ejemplos de código personalizados: Ha proporcionado ejemplos de código personalizados para las necesidades específicas. Por ejemplo, ha mostrado cómo cargar datos, preprocesarlos, entrenar modelos, hacer predicciones y evaluar el rendimiento del modelo.  \n",
    "\n",
    "- Explicación de conceptos: He explicado conceptos como el coeficiente de determinación , el error cuadrático medio (MSE), la división de datos en conjuntos de entrenamiento y prueba, entre muchos otros, para ayudar a comprender cómo evaluar y mejorar los modelos, tanto de clasificación como de regresión.   \n",
    "\n",
    "- Ayuda en la implementación: sobre todo en ajuste de hiperparámetros y validación cruzada.\n",
    "\n",
    "- Ayuda en el tratamiento de los ficheros y la creación del archivo del modelo final  \n",
    "\n",
    "- Ayuda en la implementación de gráficos y tablas para la visualización de datos \n"
   ]
  },
  {
   "attachments": {
    "image.png": {
     "image/png": "[encoded data removed]"
    }
   },
   "cell_type": "markdown",
   "metadata": {},
   "source": [
    "En el siguiente ejemplo se muestra como esta herramienta nos ayudó en la implementación de la evaluación de modelos con hiperparámetros por omisión\n",
    "![image.png](attachment:image.png)\n",
    "\n",
    "No obstante, este código tuvo que depurarse puesto que esta evaluación debía de hacerse con validación cruzada sobre particiones inner del conjunto de train outer. Otra cosa a tener en cuenta es el tamaño del conjunto de test en el split inicial que no es en porcentaje si no en número de instancias, como en la práctica ha podido observarse, entre otros aspectos.  \n",
    " \n",
    "Por tanto, a la vista de este ejemplo se puede apreciar que ha sido una gran herramienta a lo largo de toda la práctica, puesto que al igual que este ejemplo existen otros muchos, y nos ha permitido centrarnos en las partes realmente interesantes que son el análisis de funcionamiento de los modelos, y su rendimiento a través del estudio de las métricas, ahorrándonos gran parte del trabajo tedioso de la implementación."
   ]
  }
 ],
 "metadata": {
  "colab": {
   "provenance": []
  },
  "kernelspec": {
   "display_name": "Python 3",
   "name": "python3"
  },
  "language_info": {
   "codemirror_mode": {
    "name": "ipython",
    "version": 3
   },
   "file_extension": ".py",
   "mimetype": "text/x-python",
   "name": "python",
   "nbconvert_exporter": "python",
   "pygments_lexer": "ipython3",
   "version": "3.11.3"
  }
 },
 "nbformat": 4,
 "nbformat_minor": 0
}
